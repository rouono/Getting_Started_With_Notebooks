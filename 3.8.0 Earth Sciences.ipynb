{
  "cells": [
    {
      "metadata": {
        "collapsed": true
      },
      "cell_type": "markdown",
      "source": "# Earth Sciences"
    },
    {
      "metadata": {
        "trusted": true
      },
      "cell_type": "code",
      "source": "!conda install -y -c conda-forge cartopy\n#iris also installs this as a dependency",
      "execution_count": null,
      "outputs": []
    },
    {
      "metadata": {
        "trusted": true
      },
      "cell_type": "code",
      "source": "!conda install -y -c conda-forge iris",
      "execution_count": null,
      "outputs": []
    },
    {
      "metadata": {
        "trusted": true
      },
      "cell_type": "code",
      "source": "!conda install -y -c conda-forge iris-sample-data",
      "execution_count": null,
      "outputs": []
    },
    {
      "metadata": {
        "trusted": true
      },
      "cell_type": "code",
      "source": "!conda install -y -c conda-forge metpy\n\n#MAybe see also https://annefou.github.io/metos_python/04-plotting/",
      "execution_count": 4,
      "outputs": [
        {
          "output_type": "stream",
          "text": "Solving environment: done\n\n## Package Plan ##\n\n  environment location: /home/nbuser/anaconda3_420\n\n  added / updated specs: \n    - metpy\n\n\nThe following packages will be downloaded:\n\n    package                    |            build\n    ---------------------------|-----------------\n    xarray-0.10.8              |           py35_1         732 KB  conda-forge\n    pooch-0.1.1                |           py35_0          24 KB  conda-forge\n    pint-0.8.1                 |             py_1          99 KB  conda-forge\n    h5netcdf-0.6.2             |             py_0          15 KB  conda-forge\n    metpy-0.9.1                |           py35_0         361 KB  conda-forge\n    packaging-17.1             |             py_0          20 KB  conda-forge\n    ------------------------------------------------------------\n                                           Total:         1.2 MB\n\nThe following NEW packages will be INSTALLED:\n\n    h5netcdf:  0.6.2-py_0    conda-forge\n    metpy:     0.9.1-py35_0  conda-forge\n    packaging: 17.1-py_0     conda-forge\n    pint:      0.8.1-py_1    conda-forge\n    pooch:     0.1.1-py35_0  conda-forge\n    xarray:    0.10.8-py35_1 conda-forge\n\n\nDownloading and Extracting Packages\nxarray-0.10.8        | 732 KB    | ##################################### | 100% \npooch-0.1.1          | 24 KB     | ##################################### | 100% \npint-0.8.1           | 99 KB     | ##################################### | 100% \nh5netcdf-0.6.2       | 15 KB     | ##################################### | 100% \nmetpy-0.9.1          | 361 KB    | ##################################### | 100% \npackaging-17.1       | 20 KB     | ##################################### | 100% \nPreparing transaction: done\nVerifying transaction: done\nExecuting transaction: done\n",
          "name": "stdout"
        }
      ]
    },
    {
      "metadata": {
        "trusted": true
      },
      "cell_type": "code",
      "source": "# https://unidata.github.io/python-gallery/index.html",
      "execution_count": null,
      "outputs": []
    },
    {
      "metadata": {
        "trusted": true
      },
      "cell_type": "code",
      "source": "# https://github.com/dgketchum/Landsat578\n\n# https://satpy.readthedocs.io/en/latest/quickstart.html#loading-data",
      "execution_count": null,
      "outputs": []
    }
  ],
  "metadata": {
    "kernelspec": {
      "name": "python3",
      "display_name": "Python 3",
      "language": "python"
    },
    "language_info": {
      "mimetype": "text/x-python",
      "nbconvert_exporter": "python",
      "name": "python",
      "file_extension": ".py",
      "version": "3.5.4",
      "pygments_lexer": "ipython3",
      "codemirror_mode": {
        "version": 3,
        "name": "ipython"
      }
    }
  },
  "nbformat": 4,
  "nbformat_minor": 2
}