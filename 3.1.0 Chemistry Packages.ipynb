{
  "cells": [
    {
      "metadata": {},
      "cell_type": "markdown",
      "source": "# Jupyter Notebooks in Chemistry - Package Installation\n\nThis notebook installs several Python packages that provide information lookup services as well as visualisation tools that may be particularly relevant to chemistry teaching.\n\nThe sorts of functionality provided fall into two main types:\n\n- tools for looking up material properties of compounds and metadata associated with them\n- tools for visualising molecular structure.\n\n(Packages also exist for exploring things like orbital structure.)\n\n\nTypically, we would preinstall these required drawing component packages into a custom environment to be used by module team members, students, or researchers so that they could be used directly and without any further installation requirements."
    },
    {
      "metadata": {},
      "cell_type": "markdown",
      "source": "## Open Babel: The Open Source Chemistry Toolbox\n\n[*Open Babel*](http://openbabel.org/wiki/Main_Page) provides a wide range of tools for working with chemical data. In the python context, its functionality can be accessed using the `pybel` package ([src](https://github.com/openbabel/openbabel/blob/master/scripts/python/pybel.py)). *Note - there is a separate pip package called `pybel` that does something completely different!*"
    },
    {
      "metadata": {},
      "cell_type": "markdown",
      "source": "*The following cell may take some time to run whilst the required software is installed. Remove or comment out the `%%capture` line before running the cell to track installation progress. Installation continues whilst the * is displayed, and is replaced by a number when execution is complete.*"
    },
    {
      "metadata": {
        "trusted": false
      },
      "cell_type": "code",
      "source": "%%capture\ntry:\n    import pybel\nexcept:\n    !conda install -y -c openbabel openbabel\n\n#SVG to png, pdf etc\n!pip install cairosvg",
      "execution_count": 1,
      "outputs": []
    },
    {
      "metadata": {
        "trusted": false
      },
      "cell_type": "code",
      "source": "import pybel",
      "execution_count": 2,
      "outputs": []
    },
    {
      "metadata": {},
      "cell_type": "markdown",
      "source": "A *lingua franca* across many packages for describing molecules and reactions is [SMILES](http://www.daylight.com/dayhtml/doc/theory/theory.smiles.html), the *Simplified Molecular Input Line Entry System*.\n\nThe `pybel` package is capable of reading a SMILES string and then rendering a 2D structural model of the molecule specified.\n\n*(SMILES can also represent reactions but `pybel` seems not to render these?)*"
    },
    {
      "metadata": {
        "trusted": false
      },
      "cell_type": "code",
      "source": "mol = pybel.readstring( \"smi\",\"C1=NC2=C(N1)C(=NC=N2)N\" )\n\n#Add hydrogens\nmol.addh()\n\n#By default, we preview a small SVG output graphic\nmol",
      "execution_count": 3,
      "outputs": [
        {
          "data": {
            "image/svg+xml": "<svg xmlns=\"http://www.w3.org/2000/svg\" font-family=\"sans-serif\" height=\"100\" stroke=\"rgb(0,0,0)\" stroke-linecap=\"round\" stroke-width=\"2\" viewBox=\"0 0 285.477 220\" width=\"100\" x=\"0\" y=\"0\">\n<line stroke=\"rgb(0,0,0)\" stroke-width=\"2.0\" x1=\"109.3\" x2=\"109.3\" y1=\"100.0\" y2=\"73.0\" />\n<line stroke=\"rgb(0,0,0)\" stroke-width=\"2.0\" x1=\"205.5\" x2=\"232.5\" y1=\"140.0\" y2=\"140.0\" />\n<line stroke=\"rgb(0,0,0)\" stroke-width=\"2.0\" x1=\"186.0\" x2=\"190.3\" y1=\"95.3\" y2=\"82.0\" />\n<line stroke=\"rgb(0,0,0)\" stroke-width=\"2.0\" x1=\"74.6\" x2=\"51.3\" y1=\"160.0\" y2=\"173.5\" />\n<line stroke=\"rgb(0,0,0)\" stroke-width=\"2.0\" x1=\"120.5\" x2=\"132.7\" y1=\"53.5\" y2=\"46.5\" />\n<line stroke=\"rgb(0,0,0)\" stroke-width=\"2.0\" x1=\"98.0\" x2=\"85.9\" y1=\"53.5\" y2=\"46.5\" />\n<line stroke=\"rgb(0,0,0)\" stroke-width=\"2.0\" x1=\"143.9\" x2=\"143.9\" y1=\"160.0\" y2=\"120.0\" />\n<line stroke=\"rgb(0,0,0)\" stroke-width=\"2.0\" x1=\"151.1\" x2=\"151.1\" y1=\"154.0\" y2=\"126.0\" />\n<line stroke=\"rgb(0,0,0)\" stroke-width=\"2.0\" x1=\"143.9\" x2=\"169.6\" y1=\"120.0\" y2=\"111.7\" />\n<line stroke=\"rgb(0,0,0)\" stroke-width=\"2.0\" x1=\"189.6\" x2=\"205.5\" y1=\"118.2\" y2=\"140.0\" />\n<line stroke=\"rgb(0,0,0)\" stroke-width=\"2.0\" x1=\"205.5\" x2=\"189.7\" y1=\"140.0\" y2=\"161.7\" />\n<line stroke=\"rgb(0,0,0)\" stroke-width=\"2.0\" x1=\"196.1\" x2=\"185.1\" y1=\"140.6\" y2=\"155.8\" />\n<line stroke=\"rgb(0,0,0)\" stroke-width=\"2.0\" x1=\"169.6\" x2=\"143.9\" y1=\"168.3\" y2=\"160.0\" />\n<line stroke=\"rgb(0,0,0)\" stroke-width=\"2.0\" x1=\"74.6\" x2=\"74.6\" y1=\"160.0\" y2=\"133.0\" />\n<line stroke=\"rgb(0,0,0)\" stroke-width=\"2.0\" x1=\"86.1\" x2=\"109.3\" y1=\"113.4\" y2=\"100.0\" />\n<line stroke=\"rgb(0,0,0)\" stroke-width=\"2.0\" x1=\"91.4\" x2=\"107.7\" y1=\"118.6\" y2=\"109.2\" />\n<line stroke=\"rgb(0,0,0)\" stroke-width=\"2.0\" x1=\"109.3\" x2=\"143.9\" y1=\"100.0\" y2=\"120.0\" />\n<line stroke=\"rgb(0,0,0)\" stroke-width=\"2.0\" x1=\"143.9\" x2=\"120.5\" y1=\"160.0\" y2=\"173.5\" />\n<line stroke=\"rgb(0,0,0)\" stroke-width=\"2.0\" x1=\"97.9\" x2=\"74.6\" y1=\"173.4\" y2=\"160.0\" />\n<line stroke=\"rgb(0,0,0)\" stroke-width=\"2.0\" x1=\"99.7\" x2=\"83.4\" y1=\"166.2\" y2=\"156.8\" />\n<text fill=\"rgb(12,12,255)\" font-size=\"16\" stroke=\"rgb(12,12,255)\" stroke-width=\"1\" x=\"175.965309\" y=\"180.360680\">N</text>\n<text fill=\"rgb(12,12,255)\" font-size=\"16\" stroke=\"rgb(12,12,255)\" stroke-width=\"1\" x=\"175.965309\" y=\"115.639320\">N</text>\n<text fill=\"rgb(12,12,255)\" font-size=\"16\" stroke=\"rgb(12,12,255)\" stroke-width=\"1\" x=\"68.641016\" y=\"128.000000\">N</text>\n<text fill=\"rgb(12,12,255)\" font-size=\"16\" stroke=\"rgb(12,12,255)\" stroke-width=\"1\" x=\"103.282032\" y=\"188.000000\">N</text>\n<text fill=\"rgb(12,12,255)\" font-size=\"16\" stroke=\"rgb(12,12,255)\" stroke-width=\"1\" x=\"103.282032\" y=\"68.000000\">N</text>\n<text fill=\"rgb(191,191,191)\" font-size=\"16\" stroke=\"rgb(191,191,191)\" stroke-width=\"1\" x=\"239.476719\" y=\"148.000000\">H</text>\n<text fill=\"rgb(191,191,191)\" font-size=\"16\" stroke=\"rgb(191,191,191)\" stroke-width=\"1\" x=\"188.325989\" y=\"77.597060\">H</text>\n<text fill=\"rgb(191,191,191)\" font-size=\"16\" stroke=\"rgb(191,191,191)\" stroke-width=\"1\" x=\"34.000000\" y=\"188.000000\">H</text>\n<text fill=\"rgb(191,191,191)\" font-size=\"16\" stroke=\"rgb(191,191,191)\" stroke-width=\"1\" x=\"137.923048\" y=\"48.000000\">H</text>\n<text fill=\"rgb(191,191,191)\" font-size=\"16\" stroke=\"rgb(191,191,191)\" stroke-width=\"1\" x=\"68.641016\" y=\"48.000000\">H</text>\n</svg>\n",
            "text/plain": "<pybel.Molecule at 0x7fc69a1aa9e8>"
          },
          "execution_count": 3,
          "metadata": {},
          "output_type": "execute_result"
        }
      ]
    },
    {
      "metadata": {
        "trusted": false
      },
      "cell_type": "code",
      "source": "#This is a hack - exploring for now... creating a PNG (can be saved); also supports pdf export\nimport cairosvg\nfrom IPython.display import Image\n\ntry:\n    cairosvg.svg2pdf(mol._repr_svg_(), write_to='./images/test/pybelmol.pdf')\nexcept:\n    pass\n\n#Convert the SVG to PNG\nImage(cairosvg.svg2png(mol._repr_svg_()))",
      "execution_count": 4,
      "outputs": [
        {
          "data": {
            "image/png": "[encoded data removed]",
            "text/plain": "<IPython.core.display.Image object>"
          },
          "execution_count": 4,
          "metadata": {},
          "output_type": "execute_result"
        }
      ]
    },
    {
      "metadata": {
        "trusted": false
      },
      "cell_type": "code",
      "source": "from IPython.display import IFrame\nIFrame(\"./images/test/pybelmol.pdf\", width=100, height=200)",
      "execution_count": 5,
      "outputs": [
        {
          "data": {
            "text/html": "\n        <iframe\n            width=\"100\"\n            height=\"200\"\n            src=\"./images/test/pybelmol.pdf\"\n            frameborder=\"0\"\n            allowfullscreen\n        ></iframe>\n        ",
            "text/plain": "<IPython.lib.display.IFrame at 0x7fc69a1aaeb8>"
          },
          "execution_count": 5,
          "metadata": {},
          "output_type": "execute_result"
        }
      ]
    },
    {
      "metadata": {},
      "cell_type": "markdown",
      "source": "We can write out the original *SMILES* description string by specifying the `.write()` output type:"
    },
    {
      "metadata": {
        "trusted": false
      },
      "cell_type": "code",
      "source": "mol.write(\"smi\")\n#Seems to add whitespace at end of line?\n#Could strip with .strip()",
      "execution_count": 6,
      "outputs": [
        {
          "data": {
            "text/plain": "'c1nc2c([nH]1)c(ncn2)N\\t\\n'"
          },
          "execution_count": 6,
          "metadata": {},
          "output_type": "execute_result"
        }
      ]
    },
    {
      "metadata": {},
      "cell_type": "markdown",
      "source": "We can also write the molecule out as a flat, 2D rendering of the structure in SVG format, which could also be saved to a file (this actually previews better than the default preview?):"
    },
    {
      "metadata": {
        "trusted": false
      },
      "cell_type": "code",
      "source": "from IPython.display import SVG\nSVG(mol.write(\"svg\"))\n#Write to a file: mol.write(\"svg\", \"outfile.svg\")",
      "execution_count": 7,
      "outputs": [
        {
          "data": {
            "image/svg+xml": "<svg height=\"200px\" id=\"topsvg\" version=\"1.1\" viewBox=\"0 0 100 100\" width=\"200px\" x=\"0\" xmlns=\"http://www.w3.org/2000/svg\" xmlns:cml=\"http://www.xml-cml.org/schema\" xmlns:xlink=\"http://www.w3.org/1999/xlink\" y=\"0\">\n<title> - Open Babel Depiction</title>\n<rect fill=\"white\" height=\"100\" width=\"100\" x=\"0\" y=\"0\"/>\n<g transform=\"translate(0,0)\">\n<svg font-family=\"sans-serif\" height=\"100\" stroke=\"rgb(0,0,0)\" stroke-linecap=\"round\" stroke-width=\"2\" viewBox=\"0 0 285.477 220\" width=\"100\" x=\"0\" y=\"0\">\n<line stroke=\"rgb(0,0,0)\" stroke-width=\"2.0\" x1=\"109.3\" x2=\"109.3\" y1=\"100.0\" y2=\"73.0\"/>\n<line stroke=\"rgb(0,0,0)\" stroke-width=\"2.0\" x1=\"205.5\" x2=\"232.5\" y1=\"140.0\" y2=\"140.0\"/>\n<line stroke=\"rgb(0,0,0)\" stroke-width=\"2.0\" x1=\"186.0\" x2=\"190.3\" y1=\"95.3\" y2=\"82.0\"/>\n<line stroke=\"rgb(0,0,0)\" stroke-width=\"2.0\" x1=\"74.6\" x2=\"51.3\" y1=\"160.0\" y2=\"173.5\"/>\n<line stroke=\"rgb(0,0,0)\" stroke-width=\"2.0\" x1=\"120.5\" x2=\"132.7\" y1=\"53.5\" y2=\"46.5\"/>\n<line stroke=\"rgb(0,0,0)\" stroke-width=\"2.0\" x1=\"98.0\" x2=\"85.9\" y1=\"53.5\" y2=\"46.5\"/>\n<line stroke=\"rgb(0,0,0)\" stroke-width=\"2.0\" x1=\"143.9\" x2=\"143.9\" y1=\"160.0\" y2=\"120.0\"/>\n<line stroke=\"rgb(0,0,0)\" stroke-width=\"2.0\" x1=\"151.1\" x2=\"151.1\" y1=\"154.0\" y2=\"126.0\"/>\n<line stroke=\"rgb(0,0,0)\" stroke-width=\"2.0\" x1=\"143.9\" x2=\"169.6\" y1=\"120.0\" y2=\"111.7\"/>\n<line stroke=\"rgb(0,0,0)\" stroke-width=\"2.0\" x1=\"189.6\" x2=\"205.5\" y1=\"118.2\" y2=\"140.0\"/>\n<line stroke=\"rgb(0,0,0)\" stroke-width=\"2.0\" x1=\"205.5\" x2=\"189.7\" y1=\"140.0\" y2=\"161.7\"/>\n<line stroke=\"rgb(0,0,0)\" stroke-width=\"2.0\" x1=\"196.1\" x2=\"185.1\" y1=\"140.6\" y2=\"155.8\"/>\n<line stroke=\"rgb(0,0,0)\" stroke-width=\"2.0\" x1=\"169.6\" x2=\"143.9\" y1=\"168.3\" y2=\"160.0\"/>\n<line stroke=\"rgb(0,0,0)\" stroke-width=\"2.0\" x1=\"74.6\" x2=\"74.6\" y1=\"160.0\" y2=\"133.0\"/>\n<line stroke=\"rgb(0,0,0)\" stroke-width=\"2.0\" x1=\"86.1\" x2=\"109.3\" y1=\"113.4\" y2=\"100.0\"/>\n<line stroke=\"rgb(0,0,0)\" stroke-width=\"2.0\" x1=\"91.4\" x2=\"107.7\" y1=\"118.6\" y2=\"109.2\"/>\n<line stroke=\"rgb(0,0,0)\" stroke-width=\"2.0\" x1=\"109.3\" x2=\"143.9\" y1=\"100.0\" y2=\"120.0\"/>\n<line stroke=\"rgb(0,0,0)\" stroke-width=\"2.0\" x1=\"143.9\" x2=\"120.5\" y1=\"160.0\" y2=\"173.5\"/>\n<line stroke=\"rgb(0,0,0)\" stroke-width=\"2.0\" x1=\"97.9\" x2=\"74.6\" y1=\"173.4\" y2=\"160.0\"/>\n<line stroke=\"rgb(0,0,0)\" stroke-width=\"2.0\" x1=\"99.7\" x2=\"83.4\" y1=\"166.2\" y2=\"156.8\"/>\n<text fill=\"rgb(12,12,255)\" font-size=\"16\" stroke=\"rgb(12,12,255)\" stroke-width=\"1\" x=\"175.965309\" y=\"180.360680\">N</text>\n<text fill=\"rgb(12,12,255)\" font-size=\"16\" stroke=\"rgb(12,12,255)\" stroke-width=\"1\" x=\"175.965309\" y=\"115.639320\">N</text>\n<text fill=\"rgb(12,12,255)\" font-size=\"16\" stroke=\"rgb(12,12,255)\" stroke-width=\"1\" x=\"68.641016\" y=\"128.000000\">N</text>\n<text fill=\"rgb(12,12,255)\" font-size=\"16\" stroke=\"rgb(12,12,255)\" stroke-width=\"1\" x=\"103.282032\" y=\"188.000000\">N</text>\n<text fill=\"rgb(12,12,255)\" font-size=\"16\" stroke=\"rgb(12,12,255)\" stroke-width=\"1\" x=\"103.282032\" y=\"68.000000\">N</text>\n<text fill=\"rgb(191,191,191)\" font-size=\"16\" stroke=\"rgb(191,191,191)\" stroke-width=\"1\" x=\"239.476719\" y=\"148.000000\">H</text>\n<text fill=\"rgb(191,191,191)\" font-size=\"16\" stroke=\"rgb(191,191,191)\" stroke-width=\"1\" x=\"188.325989\" y=\"77.597060\">H</text>\n<text fill=\"rgb(191,191,191)\" font-size=\"16\" stroke=\"rgb(191,191,191)\" stroke-width=\"1\" x=\"34.000000\" y=\"188.000000\">H</text>\n<text fill=\"rgb(191,191,191)\" font-size=\"16\" stroke=\"rgb(191,191,191)\" stroke-width=\"1\" x=\"137.923048\" y=\"48.000000\">H</text>\n<text fill=\"rgb(191,191,191)\" font-size=\"16\" stroke=\"rgb(191,191,191)\" stroke-width=\"1\" x=\"68.641016\" y=\"48.000000\">H</text>\n</svg>\n</g>\n<text fill=\"black\" font-family=\"sans-serif\" font-size=\"18.000000\" x=\"10.000000\" y=\"20.000000\"/>\n</svg>",
            "text/plain": "<IPython.core.display.SVG object>"
          },
          "execution_count": 7,
          "metadata": {},
          "output_type": "execute_result"
        }
      ]
    },
    {
      "metadata": {
        "trusted": false
      },
      "cell_type": "code",
      "source": "#Can we disable the colour?\npybel.readstring( \"smi\",\"O\" )",
      "execution_count": 8,
      "outputs": [
        {
          "data": {
            "image/svg+xml": "<svg xmlns=\"http://www.w3.org/2000/svg\" font-family=\"sans-serif\" height=\"100\" stroke=\"rgb(0,0,0)\" stroke-linecap=\"round\" stroke-width=\"2\" viewBox=\"0 0 80 80\" width=\"100\" x=\"0\" y=\"0\">\n<text fill=\"rgb(255,12,12)\" font-size=\"16\" stroke=\"rgb(255,12,12)\" stroke-width=\"1\" x=\"36\" y=\"48\">OH</text>\n<text fill=\"rgb(255,12,12)\" font-size=\"13\" stroke=\"rgb(255,12,12)\" stroke-width=\"1\" x=\"60\" y=\"51.68\">2</text>\n</svg>\n",
            "text/plain": "<pybel.Molecule at 0x7fc699d24ba8>"
          },
          "execution_count": 8,
          "metadata": {},
          "output_type": "execute_result"
        }
      ]
    },
    {
      "metadata": {},
      "cell_type": "markdown",
      "source": "We can create a simple SVG viewer to render a 2D molecule from a *SMILES* as follows:"
    },
    {
      "metadata": {
        "trusted": false
      },
      "cell_type": "code",
      "source": "from IPython.display import display\n\ndef smilesSVG(smi, addH=False, bw=False):\n    ''' Render molecule structure from SMILES string as SVG. '''\n    \n    mol = pybel.readstring( \"smi\",smi )\n    if addH: mol.addh()\n    conv = pybel.ob.OBConversion()\n    conv.SetOutFormat(\"svg\")\n    #Optonally, set black and white output\n    #The openbabel SVG export formatter has an -xu option which we can pass\n    #Via: https://github.com/openbabel/openbabel/issues/1879#issuecomment-411830813\n    if bw:\n        conv.SetOptions('u', conv.OUTOPTIONS)\n    display(SVG(conv.WriteString(mol.OBMol)))\n    #display(SVG(mol.write(\"svg\")))\n    \n#More command line options: https://openbabel.org/docs/dev/FileFormats/SVG_2D_depiction.html\n#Would perhaps make sense to be able to pass these too?",
      "execution_count": 15,
      "outputs": []
    },
    {
      "metadata": {
        "trusted": false
      },
      "cell_type": "code",
      "source": "smilesSVG( \"C1=NC2=C(N1)C(=NC=N2)N\" )",
      "execution_count": 16,
      "outputs": [
        {
          "data": {
            "image/svg+xml": "<svg height=\"200px\" id=\"topsvg\" version=\"1.1\" viewBox=\"0 0 100 100\" width=\"200px\" x=\"0\" xmlns=\"http://www.w3.org/2000/svg\" xmlns:cml=\"http://www.xml-cml.org/schema\" xmlns:xlink=\"http://www.w3.org/1999/xlink\" y=\"0\">\n<title> - Open Babel Depiction</title>\n<rect fill=\"white\" height=\"100\" width=\"100\" x=\"0\" y=\"0\"/>\n<g transform=\"translate(0,0)\">\n<svg font-family=\"sans-serif\" height=\"100\" stroke=\"rgb(0,0,0)\" stroke-linecap=\"round\" stroke-width=\"2\" viewBox=\"0 0 210.836 200\" width=\"100\" x=\"0\" y=\"0\">\n<line stroke=\"rgb(0,0,0)\" stroke-width=\"2.0\" x1=\"74.6\" x2=\"74.6\" y1=\"80.0\" y2=\"53.0\"/>\n<line stroke=\"rgb(0,0,0)\" stroke-width=\"2.0\" x1=\"109.3\" x2=\"109.3\" y1=\"140.0\" y2=\"100.0\"/>\n<line stroke=\"rgb(0,0,0)\" stroke-width=\"2.0\" x1=\"116.5\" x2=\"116.5\" y1=\"134.0\" y2=\"106.0\"/>\n<line stroke=\"rgb(0,0,0)\" stroke-width=\"2.0\" x1=\"109.3\" x2=\"135.0\" y1=\"100.0\" y2=\"91.7\"/>\n<line stroke=\"rgb(0,0,0)\" stroke-width=\"2.0\" x1=\"155.0\" x2=\"170.8\" y1=\"98.2\" y2=\"120.0\"/>\n<line stroke=\"rgb(0,0,0)\" stroke-width=\"2.0\" x1=\"170.8\" x2=\"155.1\" y1=\"120.0\" y2=\"141.7\"/>\n<line stroke=\"rgb(0,0,0)\" stroke-width=\"2.0\" x1=\"161.5\" x2=\"150.4\" y1=\"120.6\" y2=\"135.8\"/>\n<line stroke=\"rgb(0,0,0)\" stroke-width=\"2.0\" x1=\"135.0\" x2=\"109.3\" y1=\"148.3\" y2=\"140.0\"/>\n<line stroke=\"rgb(0,0,0)\" stroke-width=\"2.0\" x1=\"40.0\" x2=\"40.0\" y1=\"140.0\" y2=\"113.0\"/>\n<line stroke=\"rgb(0,0,0)\" stroke-width=\"2.0\" x1=\"51.4\" x2=\"74.6\" y1=\"93.4\" y2=\"80.0\"/>\n<line stroke=\"rgb(0,0,0)\" stroke-width=\"2.0\" x1=\"56.8\" x2=\"73.0\" y1=\"98.6\" y2=\"89.2\"/>\n<line stroke=\"rgb(0,0,0)\" stroke-width=\"2.0\" x1=\"74.6\" x2=\"109.3\" y1=\"80.0\" y2=\"100.0\"/>\n<line stroke=\"rgb(0,0,0)\" stroke-width=\"2.0\" x1=\"109.3\" x2=\"85.9\" y1=\"140.0\" y2=\"153.5\"/>\n<line stroke=\"rgb(0,0,0)\" stroke-width=\"2.0\" x1=\"63.2\" x2=\"40.0\" y1=\"153.4\" y2=\"140.0\"/>\n<line stroke=\"rgb(0,0,0)\" stroke-width=\"2.0\" x1=\"65.1\" x2=\"48.8\" y1=\"146.2\" y2=\"136.8\"/>\n<text fill=\"rgb(12,12,255)\" font-size=\"16\" stroke=\"rgb(12,12,255)\" stroke-width=\"1\" x=\"141.324293\" y=\"160.360680\">N</text>\n<text fill=\"rgb(12,12,255)\" font-size=\"16\" stroke=\"rgb(12,12,255)\" stroke-width=\"1\" x=\"141.324293\" y=\"95.639320\">N</text>\n<text fill=\"rgb(12,12,255)\" font-size=\"16\" stroke=\"rgb(12,12,255)\" stroke-width=\"1\" x=\"141.324293\" y=\"79.639320\">H</text>\n<text fill=\"rgb(12,12,255)\" font-size=\"16\" stroke=\"rgb(12,12,255)\" stroke-width=\"1\" x=\"34.000000\" y=\"108.000000\">N</text>\n<text fill=\"rgb(12,12,255)\" font-size=\"16\" stroke=\"rgb(12,12,255)\" stroke-width=\"1\" x=\"68.641016\" y=\"168.000000\">N</text>\n<text fill=\"rgb(12,12,255)\" font-size=\"16\" stroke=\"rgb(12,12,255)\" stroke-width=\"1\" x=\"70.641016\" y=\"48.000000\">NH</text>\n<text fill=\"rgb(12,12,255)\" font-size=\"13\" stroke=\"rgb(12,12,255)\" stroke-width=\"1\" x=\"94.641016\" y=\"51.680000\">2</text>\n</svg>\n</g>\n<text fill=\"black\" font-family=\"sans-serif\" font-size=\"18.000000\" x=\"10.000000\" y=\"20.000000\"/>\n</svg>",
            "text/plain": "<IPython.core.display.SVG object>"
          },
          "metadata": {},
          "output_type": "display_data"
        }
      ]
    },
    {
      "metadata": {
        "trusted": false
      },
      "cell_type": "code",
      "source": "smilesSVG( \"C1=NC2=C(N1)C(=NC=N2)N\", True )",
      "execution_count": 17,
      "outputs": [
        {
          "data": {
            "image/svg+xml": "<svg height=\"200px\" id=\"topsvg\" version=\"1.1\" viewBox=\"0 0 100 100\" width=\"200px\" x=\"0\" xmlns=\"http://www.w3.org/2000/svg\" xmlns:cml=\"http://www.xml-cml.org/schema\" xmlns:xlink=\"http://www.w3.org/1999/xlink\" y=\"0\">\n<title> - Open Babel Depiction</title>\n<rect fill=\"white\" height=\"100\" width=\"100\" x=\"0\" y=\"0\"/>\n<g transform=\"translate(0,0)\">\n<svg font-family=\"sans-serif\" height=\"100\" stroke=\"rgb(0,0,0)\" stroke-linecap=\"round\" stroke-width=\"2\" viewBox=\"0 0 285.477 220\" width=\"100\" x=\"0\" y=\"0\">\n<line stroke=\"rgb(0,0,0)\" stroke-width=\"2.0\" x1=\"109.3\" x2=\"109.3\" y1=\"100.0\" y2=\"73.0\"/>\n<line stroke=\"rgb(0,0,0)\" stroke-width=\"2.0\" x1=\"205.5\" x2=\"232.5\" y1=\"140.0\" y2=\"140.0\"/>\n<line stroke=\"rgb(0,0,0)\" stroke-width=\"2.0\" x1=\"186.0\" x2=\"190.3\" y1=\"95.3\" y2=\"82.0\"/>\n<line stroke=\"rgb(0,0,0)\" stroke-width=\"2.0\" x1=\"74.6\" x2=\"51.3\" y1=\"160.0\" y2=\"173.5\"/>\n<line stroke=\"rgb(0,0,0)\" stroke-width=\"2.0\" x1=\"120.5\" x2=\"132.7\" y1=\"53.5\" y2=\"46.5\"/>\n<line stroke=\"rgb(0,0,0)\" stroke-width=\"2.0\" x1=\"98.0\" x2=\"85.9\" y1=\"53.5\" y2=\"46.5\"/>\n<line stroke=\"rgb(0,0,0)\" stroke-width=\"2.0\" x1=\"143.9\" x2=\"143.9\" y1=\"160.0\" y2=\"120.0\"/>\n<line stroke=\"rgb(0,0,0)\" stroke-width=\"2.0\" x1=\"151.1\" x2=\"151.1\" y1=\"154.0\" y2=\"126.0\"/>\n<line stroke=\"rgb(0,0,0)\" stroke-width=\"2.0\" x1=\"143.9\" x2=\"169.6\" y1=\"120.0\" y2=\"111.7\"/>\n<line stroke=\"rgb(0,0,0)\" stroke-width=\"2.0\" x1=\"189.6\" x2=\"205.5\" y1=\"118.2\" y2=\"140.0\"/>\n<line stroke=\"rgb(0,0,0)\" stroke-width=\"2.0\" x1=\"205.5\" x2=\"189.7\" y1=\"140.0\" y2=\"161.7\"/>\n<line stroke=\"rgb(0,0,0)\" stroke-width=\"2.0\" x1=\"196.1\" x2=\"185.1\" y1=\"140.6\" y2=\"155.8\"/>\n<line stroke=\"rgb(0,0,0)\" stroke-width=\"2.0\" x1=\"169.6\" x2=\"143.9\" y1=\"168.3\" y2=\"160.0\"/>\n<line stroke=\"rgb(0,0,0)\" stroke-width=\"2.0\" x1=\"74.6\" x2=\"74.6\" y1=\"160.0\" y2=\"133.0\"/>\n<line stroke=\"rgb(0,0,0)\" stroke-width=\"2.0\" x1=\"86.1\" x2=\"109.3\" y1=\"113.4\" y2=\"100.0\"/>\n<line stroke=\"rgb(0,0,0)\" stroke-width=\"2.0\" x1=\"91.4\" x2=\"107.7\" y1=\"118.6\" y2=\"109.2\"/>\n<line stroke=\"rgb(0,0,0)\" stroke-width=\"2.0\" x1=\"109.3\" x2=\"143.9\" y1=\"100.0\" y2=\"120.0\"/>\n<line stroke=\"rgb(0,0,0)\" stroke-width=\"2.0\" x1=\"143.9\" x2=\"120.5\" y1=\"160.0\" y2=\"173.5\"/>\n<line stroke=\"rgb(0,0,0)\" stroke-width=\"2.0\" x1=\"97.9\" x2=\"74.6\" y1=\"173.4\" y2=\"160.0\"/>\n<line stroke=\"rgb(0,0,0)\" stroke-width=\"2.0\" x1=\"99.7\" x2=\"83.4\" y1=\"166.2\" y2=\"156.8\"/>\n<text fill=\"rgb(12,12,255)\" font-size=\"16\" stroke=\"rgb(12,12,255)\" stroke-width=\"1\" x=\"175.965309\" y=\"180.360680\">N</text>\n<text fill=\"rgb(12,12,255)\" font-size=\"16\" stroke=\"rgb(12,12,255)\" stroke-width=\"1\" x=\"175.965309\" y=\"115.639320\">N</text>\n<text fill=\"rgb(12,12,255)\" font-size=\"16\" stroke=\"rgb(12,12,255)\" stroke-width=\"1\" x=\"68.641016\" y=\"128.000000\">N</text>\n<text fill=\"rgb(12,12,255)\" font-size=\"16\" stroke=\"rgb(12,12,255)\" stroke-width=\"1\" x=\"103.282032\" y=\"188.000000\">N</text>\n<text fill=\"rgb(12,12,255)\" font-size=\"16\" stroke=\"rgb(12,12,255)\" stroke-width=\"1\" x=\"103.282032\" y=\"68.000000\">N</text>\n<text fill=\"rgb(191,191,191)\" font-size=\"16\" stroke=\"rgb(191,191,191)\" stroke-width=\"1\" x=\"239.476719\" y=\"148.000000\">H</text>\n<text fill=\"rgb(191,191,191)\" font-size=\"16\" stroke=\"rgb(191,191,191)\" stroke-width=\"1\" x=\"188.325989\" y=\"77.597060\">H</text>\n<text fill=\"rgb(191,191,191)\" font-size=\"16\" stroke=\"rgb(191,191,191)\" stroke-width=\"1\" x=\"34.000000\" y=\"188.000000\">H</text>\n<text fill=\"rgb(191,191,191)\" font-size=\"16\" stroke=\"rgb(191,191,191)\" stroke-width=\"1\" x=\"137.923048\" y=\"48.000000\">H</text>\n<text fill=\"rgb(191,191,191)\" font-size=\"16\" stroke=\"rgb(191,191,191)\" stroke-width=\"1\" x=\"68.641016\" y=\"48.000000\">H</text>\n</svg>\n</g>\n<text fill=\"black\" font-family=\"sans-serif\" font-size=\"18.000000\" x=\"10.000000\" y=\"20.000000\"/>\n</svg>",
            "text/plain": "<IPython.core.display.SVG object>"
          },
          "metadata": {},
          "output_type": "display_data"
        }
      ]
    },
    {
      "metadata": {
        "trusted": false
      },
      "cell_type": "code",
      "source": "smilesSVG( \"C1=NC2=C(N1)C(=NC=N2)N\", addH=False, bw=True );",
      "execution_count": 25,
      "outputs": [
        {
          "data": {
            "image/svg+xml": "<svg height=\"200px\" id=\"topsvg\" version=\"1.1\" viewBox=\"0 0 100 100\" width=\"200px\" x=\"0\" xmlns=\"http://www.w3.org/2000/svg\" xmlns:cml=\"http://www.xml-cml.org/schema\" xmlns:xlink=\"http://www.w3.org/1999/xlink\" y=\"0\">\n<title> - Open Babel Depiction</title>\n<rect fill=\"white\" height=\"100\" width=\"100\" x=\"0\" y=\"0\"/>\n<g transform=\"translate(0,0)\">\n<svg font-family=\"sans-serif\" height=\"100\" stroke=\"rgb(0,0,0)\" stroke-linecap=\"round\" stroke-width=\"2\" viewBox=\"0 0 210.836 200\" width=\"100\" x=\"0\" y=\"0\">\n<line stroke=\"rgb(0,0,0)\" stroke-width=\"2.0\" x1=\"74.6\" x2=\"74.6\" y1=\"80.0\" y2=\"53.0\"/>\n<line stroke=\"rgb(0,0,0)\" stroke-width=\"2.0\" x1=\"109.3\" x2=\"109.3\" y1=\"140.0\" y2=\"100.0\"/>\n<line stroke=\"rgb(0,0,0)\" stroke-width=\"2.0\" x1=\"116.5\" x2=\"116.5\" y1=\"134.0\" y2=\"106.0\"/>\n<line stroke=\"rgb(0,0,0)\" stroke-width=\"2.0\" x1=\"109.3\" x2=\"135.0\" y1=\"100.0\" y2=\"91.7\"/>\n<line stroke=\"rgb(0,0,0)\" stroke-width=\"2.0\" x1=\"155.0\" x2=\"170.8\" y1=\"98.2\" y2=\"120.0\"/>\n<line stroke=\"rgb(0,0,0)\" stroke-width=\"2.0\" x1=\"170.8\" x2=\"155.1\" y1=\"120.0\" y2=\"141.7\"/>\n<line stroke=\"rgb(0,0,0)\" stroke-width=\"2.0\" x1=\"161.5\" x2=\"150.4\" y1=\"120.6\" y2=\"135.8\"/>\n<line stroke=\"rgb(0,0,0)\" stroke-width=\"2.0\" x1=\"135.0\" x2=\"109.3\" y1=\"148.3\" y2=\"140.0\"/>\n<line stroke=\"rgb(0,0,0)\" stroke-width=\"2.0\" x1=\"40.0\" x2=\"40.0\" y1=\"140.0\" y2=\"113.0\"/>\n<line stroke=\"rgb(0,0,0)\" stroke-width=\"2.0\" x1=\"51.4\" x2=\"74.6\" y1=\"93.4\" y2=\"80.0\"/>\n<line stroke=\"rgb(0,0,0)\" stroke-width=\"2.0\" x1=\"56.8\" x2=\"73.0\" y1=\"98.6\" y2=\"89.2\"/>\n<line stroke=\"rgb(0,0,0)\" stroke-width=\"2.0\" x1=\"74.6\" x2=\"109.3\" y1=\"80.0\" y2=\"100.0\"/>\n<line stroke=\"rgb(0,0,0)\" stroke-width=\"2.0\" x1=\"109.3\" x2=\"85.9\" y1=\"140.0\" y2=\"153.5\"/>\n<line stroke=\"rgb(0,0,0)\" stroke-width=\"2.0\" x1=\"63.2\" x2=\"40.0\" y1=\"153.4\" y2=\"140.0\"/>\n<line stroke=\"rgb(0,0,0)\" stroke-width=\"2.0\" x1=\"65.1\" x2=\"48.8\" y1=\"146.2\" y2=\"136.8\"/>\n<text fill=\"rgb(0,0,0)\" font-size=\"16\" stroke=\"rgb(0,0,0)\" stroke-width=\"1\" x=\"141.324293\" y=\"160.360680\">N</text>\n<text fill=\"rgb(0,0,0)\" font-size=\"16\" stroke=\"rgb(0,0,0)\" stroke-width=\"1\" x=\"141.324293\" y=\"95.639320\">N</text>\n<text fill=\"rgb(0,0,0)\" font-size=\"16\" stroke=\"rgb(0,0,0)\" stroke-width=\"1\" x=\"141.324293\" y=\"79.639320\">H</text>\n<text fill=\"rgb(0,0,0)\" font-size=\"16\" stroke=\"rgb(0,0,0)\" stroke-width=\"1\" x=\"34.000000\" y=\"108.000000\">N</text>\n<text fill=\"rgb(0,0,0)\" font-size=\"16\" stroke=\"rgb(0,0,0)\" stroke-width=\"1\" x=\"68.641016\" y=\"168.000000\">N</text>\n<text fill=\"rgb(0,0,0)\" font-size=\"16\" stroke=\"rgb(0,0,0)\" stroke-width=\"1\" x=\"70.641016\" y=\"48.000000\">NH</text>\n<text fill=\"rgb(0,0,0)\" font-size=\"13\" stroke=\"rgb(0,0,0)\" stroke-width=\"1\" x=\"94.641016\" y=\"51.680000\">2</text>\n</svg>\n</g>\n<text fill=\"black\" font-family=\"sans-serif\" font-size=\"18.000000\" x=\"10.000000\" y=\"20.000000\"/>\n</svg>",
            "text/plain": "<IPython.core.display.SVG object>"
          },
          "metadata": {},
          "output_type": "display_data"
        }
      ]
    },
    {
      "metadata": {
        "trusted": false
      },
      "cell_type": "code",
      "source": "##Generate 3D co-ordinates\n#!mkdir -p demos/files\n#mol.make3D()\n##Write sdf file\n#mol",
      "execution_count": 10,
      "outputs": []
    },
    {
      "metadata": {},
      "cell_type": "markdown",
      "source": "## `py3Dmol`\n\nThe `py3Dmol` package provides a Python wrapper around the powerful [`3Dmol.js`](http://3dmol.csb.pitt.edu/doc/index.html) Javascript package and provides a convenient way of rendering three dimensional models of a wide variety of chemical structures, although it looks to be no longer maintained in favour of `nbmolviz`, which also looks to have installed and which raises errors doesn't work when trying to install it on Azure Notebooks. *There also looks to be a [Jupyterlab 3dmol extension](https://github.com/3dmol/jupyterlab_3Dmol), but I haven't tested it yet...*\n\nCompunds can be identified by various identifier schemes (`pdb` and `cid`/PubChem) and geometry schemes, including `sdf`, `mol2`, `xyz`, and `cube`."
    },
    {
      "metadata": {
        "trusted": true
      },
      "cell_type": "code",
      "source": "%%capture\ntry: \n    import py3Dmol\nexcept:\n    !pip install py3Dmol",
      "execution_count": 1,
      "outputs": []
    },
    {
      "metadata": {
        "trusted": true
      },
      "cell_type": "code",
      "source": "import py3Dmol",
      "execution_count": 2,
      "outputs": []
    },
    {
      "metadata": {},
      "cell_type": "markdown",
      "source": "Let's have a look at the structure of something simple, such as [*ethanol*, (PubChem cid 702](https://pubchem.ncbi.nlm.nih.gov/compound/ethanol)):"
    },
    {
      "metadata": {
        "trusted": true
      },
      "cell_type": "code",
      "source": "p=py3Dmol.view(query='cid:702')\np.setStyle({'stick': {'radius': .1}, 'sphere': {'scale': 0.25}})\np.show();",
      "execution_count": 3,
      "outputs": [
        {
          "output_type": "display_data",
          "data": {
            "application/3dmoljs_load.v0": "<div id=\"3dmolviewer_15381489106808884\"  style=\"position: relative; width: 640px; height: 480px\">\n        <p id=\"3dmolwarning_15381489106808884\" style=\"background-color:#ffcccc;color:black\">You appear to be running in JupyterLab (or JavaScript failed to load for some other reason).  You need to install the 3dmol extension: <br>\n        <tt>jupyter labextension install jupyterlab_3dmol</tt></p>\n        </div>\n<script>\n\nvar loadScriptAsync = function(uri){\n  return new Promise((resolve, reject) => {\n    var tag = document.createElement('script');\n    tag.src = uri;\n    tag.async = true;\n    tag.onload = () => {\n      resolve();\n    };\n  var firstScriptTag = document.getElementsByTagName('script')[0];\n  firstScriptTag.parentNode.insertBefore(tag, firstScriptTag);\n});\n};\n\nif(typeof $3Dmolpromise === 'undefined') {\n$3Dmolpromise = null;\n  $3Dmolpromise = loadScriptAsync('https://3dmol.csb.pitt.edu/build/3Dmol.js');\n}\n\nvar viewer_15381489106808884 = null;\nvar warn = document.getElementById(\"3dmolwarning_15381489106808884\");\nif(warn) {\n    warn.parentNode.removeChild(warn);\n}\n$3Dmolpromise.then(function() {\nviewer_15381489106808884 = $3Dmol.createViewer($(\"#3dmolviewer_15381489106808884\"),{backgroundColor:\"white\"});\n$3Dmol.download(\"cid:702\", viewer_15381489106808884, {}, function() {\n\tviewer_15381489106808884.setStyle({\"sphere\": {\"scale\": 0.25}, \"stick\": {\"radius\": 0.1}});\nviewer_15381489106808884.render();\n})\n});\n</script>",
            "text/html": "<div id=\"3dmolviewer_15381489106808884\"  style=\"position: relative; width: 640px; height: 480px\">\n        <p id=\"3dmolwarning_15381489106808884\" style=\"background-color:#ffcccc;color:black\">You appear to be running in JupyterLab (or JavaScript failed to load for some other reason).  You need to install the 3dmol extension: <br>\n        <tt>jupyter labextension install jupyterlab_3dmol</tt></p>\n        </div>\n<script>\n\nvar loadScriptAsync = function(uri){\n  return new Promise((resolve, reject) => {\n    var tag = document.createElement('script');\n    tag.src = uri;\n    tag.async = true;\n    tag.onload = () => {\n      resolve();\n    };\n  var firstScriptTag = document.getElementsByTagName('script')[0];\n  firstScriptTag.parentNode.insertBefore(tag, firstScriptTag);\n});\n};\n\nif(typeof $3Dmolpromise === 'undefined') {\n$3Dmolpromise = null;\n  $3Dmolpromise = loadScriptAsync('https://3dmol.csb.pitt.edu/build/3Dmol.js');\n}\n\nvar viewer_15381489106808884 = null;\nvar warn = document.getElementById(\"3dmolwarning_15381489106808884\");\nif(warn) {\n    warn.parentNode.removeChild(warn);\n}\n$3Dmolpromise.then(function() {\nviewer_15381489106808884 = $3Dmol.createViewer($(\"#3dmolviewer_15381489106808884\"),{backgroundColor:\"white\"});\n$3Dmol.download(\"cid:702\", viewer_15381489106808884, {}, function() {\n\tviewer_15381489106808884.setStyle({\"sphere\": {\"scale\": 0.25}, \"stick\": {\"radius\": 0.1}});\nviewer_15381489106808884.render();\n})\n});\n</script>"
          },
          "metadata": {}
        }
      ]
    },
    {
      "metadata": {
        "trusted": true
      },
      "cell_type": "code",
      "source": "p=py3Dmol.view(query='cid:702')\np.setStyle({'stick': {'radius': .4}, 'sphere': {'scale': 0.25}})\np.show();",
      "execution_count": 4,
      "outputs": [
        {
          "output_type": "display_data",
          "data": {
            "application/3dmoljs_load.v0": "<div id=\"3dmolviewer_15381489236401145\"  style=\"position: relative; width: 640px; height: 480px\">\n        <p id=\"3dmolwarning_15381489236401145\" style=\"background-color:#ffcccc;color:black\">You appear to be running in JupyterLab (or JavaScript failed to load for some other reason).  You need to install the 3dmol extension: <br>\n        <tt>jupyter labextension install jupyterlab_3dmol</tt></p>\n        </div>\n<script>\n\nvar loadScriptAsync = function(uri){\n  return new Promise((resolve, reject) => {\n    var tag = document.createElement('script');\n    tag.src = uri;\n    tag.async = true;\n    tag.onload = () => {\n      resolve();\n    };\n  var firstScriptTag = document.getElementsByTagName('script')[0];\n  firstScriptTag.parentNode.insertBefore(tag, firstScriptTag);\n});\n};\n\nif(typeof $3Dmolpromise === 'undefined') {\n$3Dmolpromise = null;\n  $3Dmolpromise = loadScriptAsync('https://3dmol.csb.pitt.edu/build/3Dmol.js');\n}\n\nvar viewer_15381489236401145 = null;\nvar warn = document.getElementById(\"3dmolwarning_15381489236401145\");\nif(warn) {\n    warn.parentNode.removeChild(warn);\n}\n$3Dmolpromise.then(function() {\nviewer_15381489236401145 = $3Dmol.createViewer($(\"#3dmolviewer_15381489236401145\"),{backgroundColor:\"white\"});\n$3Dmol.download(\"cid:702\", viewer_15381489236401145, {}, function() {\n\tviewer_15381489236401145.setStyle({\"sphere\": {\"scale\": 0.25}, \"stick\": {\"radius\": 0.4}});\nviewer_15381489236401145.render();\n})\n});\n</script>",
            "text/html": "<div id=\"3dmolviewer_15381489236401145\"  style=\"position: relative; width: 640px; height: 480px\">\n        <p id=\"3dmolwarning_15381489236401145\" style=\"background-color:#ffcccc;color:black\">You appear to be running in JupyterLab (or JavaScript failed to load for some other reason).  You need to install the 3dmol extension: <br>\n        <tt>jupyter labextension install jupyterlab_3dmol</tt></p>\n        </div>\n<script>\n\nvar loadScriptAsync = function(uri){\n  return new Promise((resolve, reject) => {\n    var tag = document.createElement('script');\n    tag.src = uri;\n    tag.async = true;\n    tag.onload = () => {\n      resolve();\n    };\n  var firstScriptTag = document.getElementsByTagName('script')[0];\n  firstScriptTag.parentNode.insertBefore(tag, firstScriptTag);\n});\n};\n\nif(typeof $3Dmolpromise === 'undefined') {\n$3Dmolpromise = null;\n  $3Dmolpromise = loadScriptAsync('https://3dmol.csb.pitt.edu/build/3Dmol.js');\n}\n\nvar viewer_15381489236401145 = null;\nvar warn = document.getElementById(\"3dmolwarning_15381489236401145\");\nif(warn) {\n    warn.parentNode.removeChild(warn);\n}\n$3Dmolpromise.then(function() {\nviewer_15381489236401145 = $3Dmol.createViewer($(\"#3dmolviewer_15381489236401145\"),{backgroundColor:\"white\"});\n$3Dmol.download(\"cid:702\", viewer_15381489236401145, {}, function() {\n\tviewer_15381489236401145.setStyle({\"sphere\": {\"scale\": 0.25}, \"stick\": {\"radius\": 0.4}});\nviewer_15381489236401145.render();\n})\n});\n</script>"
          },
          "metadata": {}
        }
      ]
    },
    {
      "metadata": {
        "trusted": true
      },
      "cell_type": "code",
      "source": "#Raw view\npy3Dmol.view(query='pdb:1ycr')",
      "execution_count": 5,
      "outputs": [
        {
          "output_type": "display_data",
          "data": {
            "application/3dmoljs_load.v0": "<div id=\"3dmolviewer_15381489372777724\"  style=\"position: relative; width: 640px; height: 480px\">\n        <p id=\"3dmolwarning_15381489372777724\" style=\"background-color:#ffcccc;color:black\">You appear to be running in JupyterLab (or JavaScript failed to load for some other reason).  You need to install the 3dmol extension: <br>\n        <tt>jupyter labextension install jupyterlab_3dmol</tt></p>\n        </div>\n<script>\n\nvar loadScriptAsync = function(uri){\n  return new Promise((resolve, reject) => {\n    var tag = document.createElement('script');\n    tag.src = uri;\n    tag.async = true;\n    tag.onload = () => {\n      resolve();\n    };\n  var firstScriptTag = document.getElementsByTagName('script')[0];\n  firstScriptTag.parentNode.insertBefore(tag, firstScriptTag);\n});\n};\n\nif(typeof $3Dmolpromise === 'undefined') {\n$3Dmolpromise = null;\n  $3Dmolpromise = loadScriptAsync('https://3dmol.csb.pitt.edu/build/3Dmol.js');\n}\n\nvar viewer_15381489372777724 = null;\nvar warn = document.getElementById(\"3dmolwarning_15381489372777724\");\nif(warn) {\n    warn.parentNode.removeChild(warn);\n}\n$3Dmolpromise.then(function() {\nviewer_15381489372777724 = $3Dmol.createViewer($(\"#3dmolviewer_15381489372777724\"),{backgroundColor:\"white\"});\n$3Dmol.download(\"pdb:1ycr\", viewer_15381489372777724, {}, function() {\nviewer_15381489372777724.render();\n})\n});\n</script>",
            "text/html": "<div id=\"3dmolviewer_15381489372777724\"  style=\"position: relative; width: 640px; height: 480px\">\n        <p id=\"3dmolwarning_15381489372777724\" style=\"background-color:#ffcccc;color:black\">You appear to be running in JupyterLab (or JavaScript failed to load for some other reason).  You need to install the 3dmol extension: <br>\n        <tt>jupyter labextension install jupyterlab_3dmol</tt></p>\n        </div>\n<script>\n\nvar loadScriptAsync = function(uri){\n  return new Promise((resolve, reject) => {\n    var tag = document.createElement('script');\n    tag.src = uri;\n    tag.async = true;\n    tag.onload = () => {\n      resolve();\n    };\n  var firstScriptTag = document.getElementsByTagName('script')[0];\n  firstScriptTag.parentNode.insertBefore(tag, firstScriptTag);\n});\n};\n\nif(typeof $3Dmolpromise === 'undefined') {\n$3Dmolpromise = null;\n  $3Dmolpromise = loadScriptAsync('https://3dmol.csb.pitt.edu/build/3Dmol.js');\n}\n\nvar viewer_15381489372777724 = null;\nvar warn = document.getElementById(\"3dmolwarning_15381489372777724\");\nif(warn) {\n    warn.parentNode.removeChild(warn);\n}\n$3Dmolpromise.then(function() {\nviewer_15381489372777724 = $3Dmol.createViewer($(\"#3dmolviewer_15381489372777724\"),{backgroundColor:\"white\"});\n$3Dmol.download(\"pdb:1ycr\", viewer_15381489372777724, {}, function() {\nviewer_15381489372777724.render();\n})\n});\n</script>"
          },
          "metadata": {}
        },
        {
          "output_type": "execute_result",
          "execution_count": 5,
          "data": {
            "text/plain": "<py3Dmol.view at 0x7f185fc47fd0>"
          },
          "metadata": {}
        }
      ]
    },
    {
      "metadata": {
        "trusted": true
      },
      "cell_type": "code",
      "source": "#Prettified \"cartoon\" view\np=py3Dmol.view(query='pdb:1ycr')\np.setStyle({'stick': {'radius': .1}, 'sphere': {'scale': 0.25}})\np.show();",
      "execution_count": 6,
      "outputs": [
        {
          "output_type": "display_data",
          "data": {
            "application/3dmoljs_load.v0": "<div id=\"3dmolviewer_15381489394573069\"  style=\"position: relative; width: 640px; height: 480px\">\n        <p id=\"3dmolwarning_15381489394573069\" style=\"background-color:#ffcccc;color:black\">You appear to be running in JupyterLab (or JavaScript failed to load for some other reason).  You need to install the 3dmol extension: <br>\n        <tt>jupyter labextension install jupyterlab_3dmol</tt></p>\n        </div>\n<script>\n\nvar loadScriptAsync = function(uri){\n  return new Promise((resolve, reject) => {\n    var tag = document.createElement('script');\n    tag.src = uri;\n    tag.async = true;\n    tag.onload = () => {\n      resolve();\n    };\n  var firstScriptTag = document.getElementsByTagName('script')[0];\n  firstScriptTag.parentNode.insertBefore(tag, firstScriptTag);\n});\n};\n\nif(typeof $3Dmolpromise === 'undefined') {\n$3Dmolpromise = null;\n  $3Dmolpromise = loadScriptAsync('https://3dmol.csb.pitt.edu/build/3Dmol.js');\n}\n\nvar viewer_15381489394573069 = null;\nvar warn = document.getElementById(\"3dmolwarning_15381489394573069\");\nif(warn) {\n    warn.parentNode.removeChild(warn);\n}\n$3Dmolpromise.then(function() {\nviewer_15381489394573069 = $3Dmol.createViewer($(\"#3dmolviewer_15381489394573069\"),{backgroundColor:\"white\"});\n$3Dmol.download(\"pdb:1ycr\", viewer_15381489394573069, {}, function() {\n\tviewer_15381489394573069.setStyle({\"sphere\": {\"scale\": 0.25}, \"stick\": {\"radius\": 0.1}});\nviewer_15381489394573069.render();\n})\n});\n</script>",
            "text/html": "<div id=\"3dmolviewer_15381489394573069\"  style=\"position: relative; width: 640px; height: 480px\">\n        <p id=\"3dmolwarning_15381489394573069\" style=\"background-color:#ffcccc;color:black\">You appear to be running in JupyterLab (or JavaScript failed to load for some other reason).  You need to install the 3dmol extension: <br>\n        <tt>jupyter labextension install jupyterlab_3dmol</tt></p>\n        </div>\n<script>\n\nvar loadScriptAsync = function(uri){\n  return new Promise((resolve, reject) => {\n    var tag = document.createElement('script');\n    tag.src = uri;\n    tag.async = true;\n    tag.onload = () => {\n      resolve();\n    };\n  var firstScriptTag = document.getElementsByTagName('script')[0];\n  firstScriptTag.parentNode.insertBefore(tag, firstScriptTag);\n});\n};\n\nif(typeof $3Dmolpromise === 'undefined') {\n$3Dmolpromise = null;\n  $3Dmolpromise = loadScriptAsync('https://3dmol.csb.pitt.edu/build/3Dmol.js');\n}\n\nvar viewer_15381489394573069 = null;\nvar warn = document.getElementById(\"3dmolwarning_15381489394573069\");\nif(warn) {\n    warn.parentNode.removeChild(warn);\n}\n$3Dmolpromise.then(function() {\nviewer_15381489394573069 = $3Dmol.createViewer($(\"#3dmolviewer_15381489394573069\"),{backgroundColor:\"white\"});\n$3Dmol.download(\"pdb:1ycr\", viewer_15381489394573069, {}, function() {\n\tviewer_15381489394573069.setStyle({\"sphere\": {\"scale\": 0.25}, \"stick\": {\"radius\": 0.1}});\nviewer_15381489394573069.render();\n})\n});\n</script>"
          },
          "metadata": {}
        }
      ]
    },
    {
      "metadata": {
        "trusted": true
      },
      "cell_type": "code",
      "source": "p.setStyle({'cartoon':{'color':'spectrum'}})\np.show();",
      "execution_count": 7,
      "outputs": [
        {
          "output_type": "display_data",
          "data": {
            "application/3dmoljs_load.v0": "<div id=\"3dmolviewer_15381489473395536\"  style=\"position: relative; width: 640px; height: 480px\">\n        <p id=\"3dmolwarning_15381489473395536\" style=\"background-color:#ffcccc;color:black\">You appear to be running in JupyterLab (or JavaScript failed to load for some other reason).  You need to install the 3dmol extension: <br>\n        <tt>jupyter labextension install jupyterlab_3dmol</tt></p>\n        </div>\n<script>\n\nvar loadScriptAsync = function(uri){\n  return new Promise((resolve, reject) => {\n    var tag = document.createElement('script');\n    tag.src = uri;\n    tag.async = true;\n    tag.onload = () => {\n      resolve();\n    };\n  var firstScriptTag = document.getElementsByTagName('script')[0];\n  firstScriptTag.parentNode.insertBefore(tag, firstScriptTag);\n});\n};\n\nif(typeof $3Dmolpromise === 'undefined') {\n$3Dmolpromise = null;\n  $3Dmolpromise = loadScriptAsync('https://3dmol.csb.pitt.edu/build/3Dmol.js');\n}\n\nvar viewer_15381489473395536 = null;\nvar warn = document.getElementById(\"3dmolwarning_15381489473395536\");\nif(warn) {\n    warn.parentNode.removeChild(warn);\n}\n$3Dmolpromise.then(function() {\nviewer_15381489473395536 = $3Dmol.createViewer($(\"#3dmolviewer_15381489473395536\"),{backgroundColor:\"white\"});\n$3Dmol.download(\"pdb:1ycr\", viewer_15381489473395536, {}, function() {\n\tviewer_15381489473395536.setStyle({\"sphere\": {\"scale\": 0.25}, \"stick\": {\"radius\": 0.1}});\n\tviewer_15381489473395536.setStyle({\"cartoon\": {\"color\": \"spectrum\"}});\nviewer_15381489473395536.render();\n})\n});\n</script>",
            "text/html": "<div id=\"3dmolviewer_15381489473395536\"  style=\"position: relative; width: 640px; height: 480px\">\n        <p id=\"3dmolwarning_15381489473395536\" style=\"background-color:#ffcccc;color:black\">You appear to be running in JupyterLab (or JavaScript failed to load for some other reason).  You need to install the 3dmol extension: <br>\n        <tt>jupyter labextension install jupyterlab_3dmol</tt></p>\n        </div>\n<script>\n\nvar loadScriptAsync = function(uri){\n  return new Promise((resolve, reject) => {\n    var tag = document.createElement('script');\n    tag.src = uri;\n    tag.async = true;\n    tag.onload = () => {\n      resolve();\n    };\n  var firstScriptTag = document.getElementsByTagName('script')[0];\n  firstScriptTag.parentNode.insertBefore(tag, firstScriptTag);\n});\n};\n\nif(typeof $3Dmolpromise === 'undefined') {\n$3Dmolpromise = null;\n  $3Dmolpromise = loadScriptAsync('https://3dmol.csb.pitt.edu/build/3Dmol.js');\n}\n\nvar viewer_15381489473395536 = null;\nvar warn = document.getElementById(\"3dmolwarning_15381489473395536\");\nif(warn) {\n    warn.parentNode.removeChild(warn);\n}\n$3Dmolpromise.then(function() {\nviewer_15381489473395536 = $3Dmol.createViewer($(\"#3dmolviewer_15381489473395536\"),{backgroundColor:\"white\"});\n$3Dmol.download(\"pdb:1ycr\", viewer_15381489473395536, {}, function() {\n\tviewer_15381489473395536.setStyle({\"sphere\": {\"scale\": 0.25}, \"stick\": {\"radius\": 0.1}});\n\tviewer_15381489473395536.setStyle({\"cartoon\": {\"color\": \"spectrum\"}});\nviewer_15381489473395536.render();\n})\n});\n</script>"
          },
          "metadata": {}
        }
      ]
    },
    {
      "metadata": {},
      "cell_type": "markdown",
      "source": "## `pubchempy`\n\nProvides python interface to [PubChem](https://pubchem.ncbi.nlm.nih.gov/), for example to support the lookup of the structure of chemical compounds by chemical name and then report on various properties and descriptive attributes, such as the SMILES representation. (Molecules can also be looked up via their SMILES string.)\n\n`pubchempy` can be used in conjunction with `py3Dmol` to look up a molecule by name (using `pubchempy`) and then display its structure as an interactive 3D model (using `py3Dmol`)."
    },
    {
      "metadata": {
        "trusted": false
      },
      "cell_type": "code",
      "source": "%%capture\ntry:\n    import pubchempy as pcp\nexcept:\n    !pip install pubchempy",
      "execution_count": 17,
      "outputs": []
    },
    {
      "metadata": {
        "trusted": false
      },
      "cell_type": "code",
      "source": "import pubchempy as pcp",
      "execution_count": 18,
      "outputs": []
    },
    {
      "metadata": {
        "trusted": false
      },
      "cell_type": "code",
      "source": "ethanol = pcp.get_compounds('ethanol', 'name')[0]\nethanol.canonical_smiles, ethanol.isomeric_smiles",
      "execution_count": 19,
      "outputs": [
        {
          "data": {
            "text/plain": "('CCO', 'CCO')"
          },
          "execution_count": 19,
          "metadata": {},
          "output_type": "execute_result"
        }
      ]
    },
    {
      "metadata": {
        "trusted": false
      },
      "cell_type": "code",
      "source": "#Look up by SMILES string\ncompound = pcp.get_compounds('CCO', 'smiles')[0]\ncompound.iupac_name",
      "execution_count": 20,
      "outputs": [
        {
          "data": {
            "text/plain": "'ethanol'"
          },
          "execution_count": 20,
          "metadata": {},
          "output_type": "execute_result"
        }
      ]
    },
    {
      "metadata": {
        "trusted": false
      },
      "cell_type": "code",
      "source": "compound.elements, compound.atoms",
      "execution_count": 21,
      "outputs": [
        {
          "data": {
            "text/plain": "(['O', 'C', 'C', 'H', 'H', 'H', 'H', 'H', 'H'],\n [Atom(1, O),\n  Atom(2, C),\n  Atom(3, C),\n  Atom(4, H),\n  Atom(5, H),\n  Atom(6, H),\n  Atom(7, H),\n  Atom(8, H),\n  Atom(9, H)])"
          },
          "execution_count": 21,
          "metadata": {},
          "output_type": "execute_result"
        }
      ]
    },
    {
      "metadata": {
        "trusted": false
      },
      "cell_type": "code",
      "source": "##For a full list of attributes, see:\n#compound.record",
      "execution_count": 22,
      "outputs": []
    },
    {
      "metadata": {
        "trusted": false
      },
      "cell_type": "code",
      "source": "compound.molecular_formula",
      "execution_count": 23,
      "outputs": [
        {
          "data": {
            "text/plain": "'C2H6O'"
          },
          "execution_count": 23,
          "metadata": {},
          "output_type": "execute_result"
        }
      ]
    },
    {
      "metadata": {
        "trusted": false
      },
      "cell_type": "code",
      "source": "compound.molecular_weight",
      "execution_count": 24,
      "outputs": [
        {
          "data": {
            "text/plain": "46.069"
          },
          "execution_count": 24,
          "metadata": {},
          "output_type": "execute_result"
        }
      ]
    },
    {
      "metadata": {
        "trusted": false
      },
      "cell_type": "code",
      "source": "compound.synonyms[:5]",
      "execution_count": 25,
      "outputs": [
        {
          "data": {
            "text/plain": "['ethanol', 'ethyl alcohol', 'alcohol', 'Methylcarbinol', 'grain alcohol']"
          },
          "execution_count": 25,
          "metadata": {},
          "output_type": "execute_result"
        }
      ]
    },
    {
      "metadata": {
        "trusted": false
      },
      "cell_type": "code",
      "source": "# pcp.get_compounds seems to return a list, so get the first (only, in many cases?) item\npentanol = pcp.get_compounds('pentanol', 'name')[0]",
      "execution_count": 26,
      "outputs": []
    },
    {
      "metadata": {
        "trusted": false
      },
      "cell_type": "code",
      "source": "p = pybel.readstring( \"smi\", pentanol.canonical_smiles )\np",
      "execution_count": 27,
      "outputs": [
        {
          "data": {
            "image/svg+xml": "<svg xmlns=\"http://www.w3.org/2000/svg\" font-family=\"sans-serif\" height=\"100\" stroke=\"rgb(0,0,0)\" stroke-linecap=\"round\" stroke-width=\"2\" viewBox=\"0 0 218.564 140\" width=\"100\" x=\"0\" y=\"0\">\n<line stroke=\"rgb(0,0,0)\" stroke-width=\"2.0\" x1=\"178.6\" x2=\"178.6\" y1=\"87.0\" y2=\"60.0\" />\n<line stroke=\"rgb(0,0,0)\" stroke-width=\"2.0\" x1=\"178.6\" x2=\"143.9\" y1=\"60.0\" y2=\"40.0\" />\n<line stroke=\"rgb(0,0,0)\" stroke-width=\"2.0\" x1=\"143.9\" x2=\"109.3\" y1=\"40.0\" y2=\"60.0\" />\n<line stroke=\"rgb(0,0,0)\" stroke-width=\"2.0\" x1=\"109.3\" x2=\"74.6\" y1=\"60.0\" y2=\"40.0\" />\n<line stroke=\"rgb(0,0,0)\" stroke-width=\"2.0\" x1=\"74.6\" x2=\"51.3\" y1=\"40.0\" y2=\"53.5\" />\n<text fill=\"rgb(102,102,102)\" font-size=\"16\" stroke=\"rgb(102,102,102)\" stroke-width=\"1\" x=\"174.564065\" y=\"108.000000\">CH</text>\n<text fill=\"rgb(102,102,102)\" font-size=\"13\" stroke=\"rgb(102,102,102)\" stroke-width=\"1\" x=\"198.564065\" y=\"111.680000\">3</text>\n<text fill=\"rgb(255,12,12)\" font-size=\"16\" stroke=\"rgb(255,12,12)\" stroke-width=\"1\" x=\"22.000000\" y=\"68.000000\">HO</text>\n</svg>\n",
            "text/plain": "<pybel.Molecule at 0x7fa19978e2b0>"
          },
          "execution_count": 27,
          "metadata": {},
          "output_type": "execute_result"
        }
      ]
    },
    {
      "metadata": {
        "trusted": false
      },
      "cell_type": "code",
      "source": "#Add hydrogens\np.addh()\np",
      "execution_count": 28,
      "outputs": [
        {
          "data": {
            "image/svg+xml": "<svg xmlns=\"http://www.w3.org/2000/svg\" font-family=\"sans-serif\" height=\"100\" stroke=\"rgb(0,0,0)\" stroke-linecap=\"round\" stroke-width=\"2\" viewBox=\"0 0 234.641 229.282\" width=\"100\" x=\"0\" y=\"0\">\n<line stroke=\"rgb(0,0,0)\" stroke-width=\"2.0\" x1=\"154.6\" x2=\"134.6\" y1=\"114.6\" y2=\"149.3\" />\n<line stroke=\"rgb(0,0,0)\" stroke-width=\"2.0\" x1=\"134.6\" x2=\"94.6\" y1=\"149.3\" y2=\"149.3\" />\n<line stroke=\"rgb(0,0,0)\" stroke-width=\"2.0\" x1=\"94.6\" x2=\"74.6\" y1=\"149.3\" y2=\"114.6\" />\n<line stroke=\"rgb(0,0,0)\" stroke-width=\"2.0\" x1=\"74.6\" x2=\"94.6\" y1=\"114.6\" y2=\"80.0\" />\n<line stroke=\"rgb(0,0,0)\" stroke-width=\"2.0\" x1=\"94.6\" x2=\"121.6\" y1=\"80.0\" y2=\"80.0\" />\n<line stroke=\"rgb(0,0,0)\" stroke-width=\"2.0\" x1=\"154.6\" x2=\"154.6\" y1=\"114.6\" y2=\"87.6\" />\n<line stroke=\"rgb(0,0,0)\" stroke-width=\"2.0\" x1=\"154.6\" x2=\"131.3\" y1=\"114.6\" y2=\"101.1\" />\n<line stroke=\"rgb(0,0,0)\" stroke-width=\"2.0\" x1=\"154.6\" x2=\"181.6\" y1=\"114.6\" y2=\"114.6\" />\n<line stroke=\"rgb(0,0,0)\" stroke-width=\"2.0\" x1=\"134.6\" x2=\"134.6\" y1=\"149.3\" y2=\"176.3\" />\n<line stroke=\"rgb(0,0,0)\" stroke-width=\"2.0\" x1=\"134.6\" x2=\"158.0\" y1=\"149.3\" y2=\"162.8\" />\n<line stroke=\"rgb(0,0,0)\" stroke-width=\"2.0\" x1=\"94.6\" x2=\"71.3\" y1=\"149.3\" y2=\"162.8\" />\n<line stroke=\"rgb(0,0,0)\" stroke-width=\"2.0\" x1=\"94.6\" x2=\"94.6\" y1=\"149.3\" y2=\"176.3\" />\n<line stroke=\"rgb(0,0,0)\" stroke-width=\"2.0\" x1=\"74.6\" x2=\"51.3\" y1=\"114.6\" y2=\"101.1\" />\n<line stroke=\"rgb(0,0,0)\" stroke-width=\"2.0\" x1=\"74.6\" x2=\"51.3\" y1=\"114.6\" y2=\"128.1\" />\n<line stroke=\"rgb(0,0,0)\" stroke-width=\"2.0\" x1=\"94.6\" x2=\"94.6\" y1=\"80.0\" y2=\"53.0\" />\n<line stroke=\"rgb(0,0,0)\" stroke-width=\"2.0\" x1=\"94.6\" x2=\"71.3\" y1=\"80.0\" y2=\"66.5\" />\n<line stroke=\"rgb(0,0,0)\" stroke-width=\"2.0\" x1=\"141.1\" x2=\"148.1\" y1=\"68.7\" y2=\"56.6\" />\n<text fill=\"rgb(191,191,191)\" font-size=\"16\" stroke=\"rgb(191,191,191)\" stroke-width=\"1\" x=\"128.641016\" y=\"197.282032\">H</text>\n<text fill=\"rgb(191,191,191)\" font-size=\"16\" stroke=\"rgb(191,191,191)\" stroke-width=\"1\" x=\"148.641016\" y=\"53.358984\">H</text>\n<text fill=\"rgb(191,191,191)\" font-size=\"16\" stroke=\"rgb(191,191,191)\" stroke-width=\"1\" x=\"54.000000\" y=\"68.000000\">H</text>\n<text fill=\"rgb(191,191,191)\" font-size=\"16\" stroke=\"rgb(191,191,191)\" stroke-width=\"1\" x=\"88.641016\" y=\"48.000000\">H</text>\n<text fill=\"rgb(191,191,191)\" font-size=\"16\" stroke=\"rgb(191,191,191)\" stroke-width=\"1\" x=\"34.000000\" y=\"142.641016\">H</text>\n<text fill=\"rgb(191,191,191)\" font-size=\"16\" stroke=\"rgb(191,191,191)\" stroke-width=\"1\" x=\"34.000000\" y=\"102.641016\">H</text>\n<text fill=\"rgb(191,191,191)\" font-size=\"16\" stroke=\"rgb(191,191,191)\" stroke-width=\"1\" x=\"88.641016\" y=\"197.282032\">H</text>\n<text fill=\"rgb(191,191,191)\" font-size=\"16\" stroke=\"rgb(191,191,191)\" stroke-width=\"1\" x=\"54.000000\" y=\"177.282032\">H</text>\n<text fill=\"rgb(191,191,191)\" font-size=\"16\" stroke=\"rgb(191,191,191)\" stroke-width=\"1\" x=\"163.282032\" y=\"177.282032\">H</text>\n<text fill=\"rgb(191,191,191)\" font-size=\"16\" stroke=\"rgb(191,191,191)\" stroke-width=\"1\" x=\"188.641016\" y=\"122.641016\">H</text>\n<text fill=\"rgb(191,191,191)\" font-size=\"16\" stroke=\"rgb(191,191,191)\" stroke-width=\"1\" x=\"114.000000\" y=\"102.641016\">H</text>\n<text fill=\"rgb(191,191,191)\" font-size=\"16\" stroke=\"rgb(191,191,191)\" stroke-width=\"1\" x=\"148.641016\" y=\"82.641016\">H</text>\n<text fill=\"rgb(255,12,12)\" font-size=\"16\" stroke=\"rgb(255,12,12)\" stroke-width=\"1\" x=\"128.641016\" y=\"88.000000\">O</text>\n</svg>\n",
            "text/plain": "<pybel.Molecule at 0x7fa19978e2b0>"
          },
          "execution_count": 28,
          "metadata": {},
          "output_type": "execute_result"
        }
      ]
    },
    {
      "metadata": {},
      "cell_type": "markdown",
      "source": "We can render a compund retrieved from \n\nUse the `cid:` selector with `py3Dmol` to specify a PubChem id."
    },
    {
      "metadata": {
        "trusted": false
      },
      "cell_type": "code",
      "source": "#http://3dmol.csb.pitt.edu/doc/types.html#ColorschemeSpec\np=py3Dmol.view(query='cid:{}'.format(pentanol.cid), width=500,height=400)\np.setStyle({'stick': {'radius': .1}, 'sphere': {'scale': 0.25}})\np.show();",
      "execution_count": 29,
      "outputs": [
        {
          "data": {
            "application/3dmoljs_load.v0": "<div id=\"3dmolviewer_15338214805045083\"  style=\"position: relative; width: 500px; height: 400px\">\n        <p id=\"3dmolwarning_15338214805045083\" style=\"background-color:#ffcccc;color:black\">You appear to be running in JupyterLab.  You need to install the 3dmol extension: <br>\n        <tt>jupyter labextension install jupyterlab_3dmol</tt></p>\n        </div>\n<script>\n\nvar loadScriptAsync = function(uri){\n  return new Promise((resolve, reject) => {\n    var tag = document.createElement('script');\n    tag.src = uri;\n    tag.async = true;\n    tag.onload = () => {\n      resolve();\n    };\n  var firstScriptTag = document.getElementsByTagName('script')[0];\n  firstScriptTag.parentNode.insertBefore(tag, firstScriptTag);\n});\n};\n\nif(typeof $3Dmolpromise === 'undefined') {\n$3Dmolpromise = null;\n  $3Dmolpromise = loadScriptAsync('https://3dmol.csb.pitt.edu/build/3Dmol.js');\n}\n\nvar viewer_15338214805045083 = null;\nvar warn = document.getElementById(\"3dmolwarning_15338214805045083\");\nif(warn) {\n    warn.parentNode.removeChild(warn);\n}\n$3Dmolpromise.then(function() {\nviewer_15338214805045083 = $3Dmol.createViewer($(\"#3dmolviewer_15338214805045083\"),{backgroundColor:\"white\"});\n$3Dmol.download(\"cid:6276\", viewer_15338214805045083, {}, function() {\n\tviewer_15338214805045083.setStyle({\"stick\": {\"radius\": 0.1}, \"sphere\": {\"scale\": 0.25}});\nviewer_15338214805045083.render();\n})\n});\n</script>",
            "text/html": "<div id=\"3dmolviewer_15338214805045083\"  style=\"position: relative; width: 500px; height: 400px\">\n        <p id=\"3dmolwarning_15338214805045083\" style=\"background-color:#ffcccc;color:black\">You appear to be running in JupyterLab.  You need to install the 3dmol extension: <br>\n        <tt>jupyter labextension install jupyterlab_3dmol</tt></p>\n        </div>\n<script>\n\nvar loadScriptAsync = function(uri){\n  return new Promise((resolve, reject) => {\n    var tag = document.createElement('script');\n    tag.src = uri;\n    tag.async = true;\n    tag.onload = () => {\n      resolve();\n    };\n  var firstScriptTag = document.getElementsByTagName('script')[0];\n  firstScriptTag.parentNode.insertBefore(tag, firstScriptTag);\n});\n};\n\nif(typeof $3Dmolpromise === 'undefined') {\n$3Dmolpromise = null;\n  $3Dmolpromise = loadScriptAsync('https://3dmol.csb.pitt.edu/build/3Dmol.js');\n}\n\nvar viewer_15338214805045083 = null;\nvar warn = document.getElementById(\"3dmolwarning_15338214805045083\");\nif(warn) {\n    warn.parentNode.removeChild(warn);\n}\n$3Dmolpromise.then(function() {\nviewer_15338214805045083 = $3Dmol.createViewer($(\"#3dmolviewer_15338214805045083\"),{backgroundColor:\"white\"});\n$3Dmol.download(\"cid:6276\", viewer_15338214805045083, {}, function() {\n\tviewer_15338214805045083.setStyle({\"stick\": {\"radius\": 0.1}, \"sphere\": {\"scale\": 0.25}});\nviewer_15338214805045083.render();\n})\n});\n</script>"
          },
          "metadata": {},
          "output_type": "display_data"
        }
      ]
    },
    {
      "metadata": {},
      "cell_type": "markdown",
      "source": "## `chembl_webresource_client`\n\nProvides a Python interface to [ChEMBL](https://www.ebi.ac.uk/chembl/) to support the lookup of chemical compounds by common name."
    },
    {
      "metadata": {
        "trusted": false
      },
      "cell_type": "code",
      "source": "%%capture\ntry:\n    import chembl_webresource_client\nexcept:\n    !pip install --upgrade --user chembl_webresource_client",
      "execution_count": 30,
      "outputs": []
    },
    {
      "metadata": {
        "trusted": false
      },
      "cell_type": "code",
      "source": "from chembl_webresource_client.new_client import new_client\nmolecule = new_client.molecule\nres = molecule.search('aspirin')\n\nfor r in res:\n    pref_name = r['pref_name']\n    if pref_name is not None:\n        print(pref_name)",
      "execution_count": 31,
      "outputs": [
        {
          "name": "stdout",
          "output_type": "stream",
          "text": "ASPIRIN\nASPIRIN EUGENOL ESTER\nLYSINE ACETYLSALICYLATE\n"
        }
      ]
    },
    {
      "metadata": {
        "trusted": false
      },
      "cell_type": "code",
      "source": "aspirin = [r for r in res if r['pref_name']=='ASPIRIN'][0]\naspirin['molecule_synonyms'][:5]",
      "execution_count": 32,
      "outputs": [
        {
          "data": {
            "text/plain": "[{'molecule_synonym': '8-Hour Bayer',\n  'syn_type': 'TRADE_NAME',\n  'synonyms': '8-HOUR BAYER'},\n {'molecule_synonym': 'Acetylsalic Acid',\n  'syn_type': 'TRADE_NAME',\n  'synonyms': 'ACETYLSALIC ACID'},\n {'molecule_synonym': 'Acetylsalicylic Acid',\n  'syn_type': 'ATC',\n  'synonyms': 'ACETYLSALICYLIC ACID'},\n {'molecule_synonym': 'Acetylsalicylic Acid',\n  'syn_type': 'OTHER',\n  'synonyms': 'ACETYLSALICYLIC ACID'},\n {'molecule_synonym': 'Alka Rapid',\n  'syn_type': 'TRADE_NAME',\n  'synonyms': 'ALKA RAPID'}]"
          },
          "execution_count": 32,
          "metadata": {},
          "output_type": "execute_result"
        }
      ]
    },
    {
      "metadata": {},
      "cell_type": "markdown",
      "source": "## `pypdb`\n\n`pydb` is a Python API for the [RCSB Protein Data Bank (PDB)](https://www.rcsb.org/pdb/home/home.do)."
    },
    {
      "metadata": {
        "trusted": false
      },
      "cell_type": "code",
      "source": "%%capture\ntry:\n    import pypdb\nexcept:\n    !pip install pypdb",
      "execution_count": 3,
      "outputs": []
    },
    {
      "metadata": {
        "trusted": false
      },
      "cell_type": "code",
      "source": "#https://github.com/williamgilpin/pypdb/blob/master/demos/demos.ipynb\nimport pypdb\n\nsearch_dict = pypdb.make_query('nitroglycerin')\nfound_pdbs = pypdb.do_search(search_dict)\nprint(found_pdbs)",
      "execution_count": 18,
      "outputs": [
        {
          "name": "stdout",
          "output_type": "stream",
          "text": "['4FQF', '4FR8']\n"
        }
      ]
    },
    {
      "metadata": {
        "trusted": false
      },
      "cell_type": "code",
      "source": "#pypdb.get_info('4FQF')['molDescription']",
      "execution_count": 19,
      "outputs": []
    },
    {
      "metadata": {
        "trusted": false
      },
      "cell_type": "code",
      "source": "#Not sure where to find the chemicalID?\n#Or how to look up by chemical name?\nchem_desc = pypdb.describe_chemical('NAG')\nchem_desc",
      "execution_count": 8,
      "outputs": [
        {
          "data": {
            "text/plain": "{'describeHet': {'ligandInfo': {'ligand': {'@chemicalID': 'NAG',\n    '@molecularWeight': '221.208',\n    '@type': 'D-saccharide',\n    'InChI': 'InChI=1S/C8H15NO6/c1-3(11)9-5-7(13)6(12)4(2-10)15-8(5)14/h4-8,10,12-14H,2H2,1H3,(H,9,11)/t4-,5-,6-,7-,8-/m1/s1',\n    'InChIKey': 'OVRNDRQMDRJTHS-FMDGEEDCSA-N',\n    'chemicalName': 'N-ACETYL-D-GLUCOSAMINE',\n    'formula': 'C8 H15 N O6',\n    'smiles': 'CC(=O)N[C@@H]1[C@H]([C@@H]([C@H](O[C@H]1O)CO)O)O'}}}}"
          },
          "execution_count": 8,
          "metadata": {},
          "output_type": "execute_result"
        }
      ]
    },
    {
      "metadata": {},
      "cell_type": "markdown",
      "source": "## Material Properties\n\nThe [`pymatgen`](http://pymatgen.org/) package provides a range of utilities that support materials analysis."
    },
    {
      "metadata": {
        "trusted": false
      },
      "cell_type": "code",
      "source": "%%capture\n#Building python wheels can take a chunk of time - opt out by disabling the cache\n# (This might still take an age to install as it is...)\ntry:\n    import pymatgen\nexcept:\n    !pip install --no-cache-dir pymatgen",
      "execution_count": 43,
      "outputs": []
    },
    {
      "metadata": {},
      "cell_type": "markdown",
      "source": "For example, we can specify an element and then lookup a range of material properties."
    },
    {
      "metadata": {
        "trusted": false
      },
      "cell_type": "code",
      "source": "import pymatgen as mg",
      "execution_count": 42,
      "outputs": [
        {
          "ename": "ImportError",
          "evalue": "No module named 'pymatgen'",
          "output_type": "error",
          "traceback": [
            "\u001b[0;31m---------------------------------------------------------------------------\u001b[0m",
            "\u001b[0;31mImportError\u001b[0m                               Traceback (most recent call last)",
            "\u001b[0;32m<ipython-input-42-5ed8002cdce8>\u001b[0m in \u001b[0;36m<module>\u001b[0;34m()\u001b[0m\n\u001b[0;32m----> 1\u001b[0;31m \u001b[0;32mimport\u001b[0m \u001b[0mpymatgen\u001b[0m \u001b[0;32mas\u001b[0m \u001b[0mmg\u001b[0m\u001b[0;34m\u001b[0m\u001b[0m\n\u001b[0m",
            "\u001b[0;31mImportError\u001b[0m: No module named 'pymatgen'"
          ]
        }
      ]
    },
    {
      "metadata": {
        "trusted": false
      },
      "cell_type": "code",
      "source": "si = mg.Element('Si')\n\nsi.atomic_mass, si.melting_point, si.boiling_point",
      "execution_count": 35,
      "outputs": [
        {
          "data": {
            "text/plain": "(28.0855, 1687.0, 3173.0)"
          },
          "execution_count": 35,
          "metadata": {},
          "output_type": "execute_result"
        }
      ]
    },
    {
      "metadata": {
        "trusted": false
      },
      "cell_type": "code",
      "source": "si.is_alkali, si.is_halogen, si.is_lanthanoid, si.is_metalloid, si.is_noble_gas, si.is_quadrupolar, \\\n    si.is_rare_earth_metal, si.is_transition_metal\n",
      "execution_count": 59,
      "outputs": [
        {
          "data": {
            "text/plain": "(False, False, False, True, False, False, False, False)"
          },
          "execution_count": 59,
          "metadata": {},
          "output_type": "execute_result"
        }
      ]
    },
    {
      "metadata": {
        "trusted": false
      },
      "cell_type": "code",
      "source": "si.print_periodic_table()",
      "execution_count": 50,
      "outputs": [
        {
          "name": "stdout",
          "output_type": "stream",
          "text": "H                                                                   He \nLi  Be                                          B   C   N   O   F   Ne \nNa  Mg                                          Al  Si  P   S   Cl  Ar \nK   Ca  Sc  Ti  V   Cr  Mn  Fe  Co  Ni  Cu  Zn  Ga  Ge  As  Se  Br  Kr \nRb  Sr  Y   Zr  Nb  Mo  Tc  Ru  Rh  Pd  Ag  Cd  In  Sn  Sb  Te  I   Xe \nCs  Ba      Hf  Ta  W   Re  Os  Ir  Pt  Au  Hg  Tl  Pb  Bi  Po  At  Rn \nFr  Ra                                                                 \n        La  Ce  Pr  Nd  Pm  Sm  Eu  Gd  Tb  Dy  Ho  Er  Tm  Yb  Lu     \n        Ac  Th  Pa  U   Np  Pu  Am  Cm  Bk  Cf  Es  Fm  Md  No  Lr     \n"
        }
      ]
    },
    {
      "metadata": {
        "trusted": false
      },
      "cell_type": "code",
      "source": "si.value, si.row, si.number, si.group",
      "execution_count": 54,
      "outputs": [
        {
          "data": {
            "text/plain": "('Si', 3, 14, 14)"
          },
          "execution_count": 54,
          "metadata": {},
          "output_type": "execute_result"
        }
      ]
    },
    {
      "metadata": {
        "trusted": false
      },
      "cell_type": "code",
      "source": "si.full_electronic_structure",
      "execution_count": 57,
      "outputs": [
        {
          "data": {
            "text/plain": "[(1, 's', 2), (2, 's', 2), (2, 'p', 6), (3, 's', 2), (3, 'p', 2)]"
          },
          "execution_count": 57,
          "metadata": {},
          "output_type": "execute_result"
        }
      ]
    },
    {
      "metadata": {},
      "cell_type": "markdown",
      "source": "We can also look up properties of compounds:"
    },
    {
      "metadata": {
        "trusted": false
      },
      "cell_type": "code",
      "source": "comp = mg.Composition('Fe2O3')\ncomp.is_element, comp.weight, comp.num_atoms, comp.elements",
      "execution_count": 80,
      "outputs": [
        {
          "data": {
            "text/plain": "(False, 159.6882, 5.0, [Element O, Element Fe])"
          },
          "execution_count": 80,
          "metadata": {},
          "output_type": "execute_result"
        }
      ]
    },
    {
      "metadata": {
        "trusted": false
      },
      "cell_type": "code",
      "source": "comp.formula, comp.alphabetical_formula, comp.reduced_formula, comp.hill_formula, \\\ncomp.element_composition,  comp.reduced_composition",
      "execution_count": 79,
      "outputs": [
        {
          "data": {
            "text/plain": "('Fe2 O3', 'Fe2 O3', 'Fe2O3', 'Fe2 O3', Comp: Fe2 O3, Comp: Fe2 O3)"
          },
          "execution_count": 79,
          "metadata": {},
          "output_type": "execute_result"
        }
      ]
    },
    {
      "metadata": {
        "trusted": false
      },
      "cell_type": "code",
      "source": "comp.fractional_composition,  comp.get_atomic_fraction('Fe'),  comp.get_atomic_fraction('O')",
      "execution_count": 78,
      "outputs": [
        {
          "data": {
            "text/plain": "(Comp: Fe0.4 O0.6, 0.4, 0.6)"
          },
          "execution_count": 78,
          "metadata": {},
          "output_type": "execute_result"
        }
      ]
    },
    {
      "metadata": {
        "trusted": false
      },
      "cell_type": "code",
      "source": "comp.total_electrons, comp.weight",
      "execution_count": 68,
      "outputs": [
        {
          "data": {
            "text/plain": "(76.0, 159.6882)"
          },
          "execution_count": 68,
          "metadata": {},
          "output_type": "execute_result"
        }
      ]
    },
    {
      "metadata": {},
      "cell_type": "markdown",
      "source": "Spatial / geometric information is also available. Check out the documentation for more details."
    },
    {
      "metadata": {},
      "cell_type": "markdown",
      "source": "## `chempy`\n\n`chempy` provides a range of utilities that can be used to support the production of examples associated physical, inorganic and analytical chemistry."
    },
    {
      "metadata": {
        "trusted": false
      },
      "cell_type": "code",
      "source": "%%capture\n#Azure notebooks so slow as to be virtually unusable atm\n# Not sure if this installs or not?\n# pip install has a requirement on sympy in more recent version than installed version\n#   AND the current version can be uninstalled / updated?\ntry:\n    import chempy\nexcept:\n    !conda install -c bjodah chempy ",
      "execution_count": null,
      "outputs": []
    },
    {
      "metadata": {
        "trusted": false
      },
      "cell_type": "code",
      "source": "from chempy import Substance\nferricyanide = Substance.from_formula('Fe(CN)6-3')\nferricyanide.composition == {0: -3, 26: 1, 6: 6, 7: 6}  # 0 for charge\nferricyanide.unicode_name",
      "execution_count": null,
      "outputs": []
    },
    {
      "metadata": {
        "trusted": false
      },
      "cell_type": "code",
      "source": "ferricyanide.latex_name",
      "execution_count": null,
      "outputs": []
    },
    {
      "metadata": {
        "trusted": false
      },
      "cell_type": "code",
      "source": "ferricyanide.html_name",
      "execution_count": null,
      "outputs": []
    },
    {
      "metadata": {
        "trusted": false
      },
      "cell_type": "code",
      "source": "ferricyanide.mass",
      "execution_count": null,
      "outputs": []
    },
    {
      "metadata": {},
      "cell_type": "markdown",
      "source": "## `RDKit`"
    },
    {
      "metadata": {
        "trusted": false
      },
      "cell_type": "code",
      "source": "%%capture\ntry:\n    import rdkit\nexcept:\n    !conda install -y -c rdkit rdkit",
      "execution_count": 22,
      "outputs": []
    },
    {
      "metadata": {
        "trusted": false
      },
      "cell_type": "code",
      "source": "%matplotlib inline",
      "execution_count": 44,
      "outputs": []
    },
    {
      "metadata": {
        "trusted": false
      },
      "cell_type": "code",
      "source": "from rdkit import Chem\n#Following is needed to render molecule structure views in Jupyter notebook\nfrom rdkit.Chem.Draw import IPythonConsole ",
      "execution_count": 45,
      "outputs": []
    },
    {
      "metadata": {
        "trusted": true
      },
      "cell_type": "code",
      "source": "from rdkit.Chem import Draw\nmol_str = 'COc1ccc2c(c1)[nH]c(n2)[S@@](=O)Cc1ncc(c(c1C)OC)C'\n\nm = Chem.MolFromSmiles( mol_str )\n\ntry:\n    #We can write out the structure to different flavours of image file\n    Draw.MolToFile(m,'images/test/cdk2_mol1.o.png')\n    Draw.MolToFile(m,'images/test/cdk2_mol1.o.svg')\nexcept:\n    pass",
      "execution_count": null,
      "outputs": []
    },
    {
      "metadata": {},
      "cell_type": "markdown",
      "source": "png:\n![](images/test/cdk2_mol1.o.png)\n\nsvg:\n![](images/test/cdk2_mol1.o.svg)"
    },
    {
      "metadata": {
        "trusted": false
      },
      "cell_type": "code",
      "source": "from rdkit.Chem import AllChem\n\ndef smilesH(m):\n    return AllChem.AddHs(Chem.MolFromSmiles(m))\n\nbromomethane = smilesH('CBr')\nbromoethane = smilesH('CCBr')\n_2_bromopropane =  smilesH('CC(Br)C')\n_2_bromo_2_methylpropane = smilesH('CC(Br)(C)C')\n\nmy_molecules = [bromomethane, \n                bromoethane,\n                _2_bromopropane,\n                _2_bromo_2_methylpropane,\n               ]\n\nDraw.MolsToGridImage(my_molecules, useSVG=False)",
      "execution_count": 35,
      "outputs": [
        {
          "data": {
            "image/png": "[encoded data removed]",
            "text/plain": "<PIL.PngImagePlugin.PngImageFile image mode=RGB size=600x400 at 0x7F6FF62D4438>"
          },
          "execution_count": 35,
          "metadata": {},
          "output_type": "execute_result"
        }
      ]
    },
    {
      "metadata": {
        "trusted": false
      },
      "cell_type": "code",
      "source": "from rdkit.Chem import RemoveHs\n\nRemoveHs(_2_bromo_2_methylpropane)",
      "execution_count": 67,
      "outputs": [
        {
          "data": {
            "image/png": "[encoded data removed]",
            "text/plain": "<rdkit.Chem.rdchem.Mol at 0x7f6ff346f3f0>"
          },
          "execution_count": 67,
          "metadata": {},
          "output_type": "execute_result"
        }
      ]
    },
    {
      "metadata": {
        "trusted": false
      },
      "cell_type": "code",
      "source": "#Index in to periodic table\nperiodic_table = AllChem.GetPeriodicTable()\nperiodic_table.GetElementSymbol(1)",
      "execution_count": 54,
      "outputs": [
        {
          "data": {
            "text/plain": "'H'"
          },
          "execution_count": 54,
          "metadata": {},
          "output_type": "execute_result"
        }
      ]
    },
    {
      "metadata": {
        "trusted": false
      },
      "cell_type": "code",
      "source": "periodic_table.GetAtomicNumber('Si')",
      "execution_count": 56,
      "outputs": [
        {
          "data": {
            "text/plain": "14"
          },
          "execution_count": 56,
          "metadata": {},
          "output_type": "execute_result"
        }
      ]
    },
    {
      "metadata": {
        "trusted": false
      },
      "cell_type": "code",
      "source": "periodic_table.GetNOuterElecs('Ar')",
      "execution_count": 66,
      "outputs": [
        {
          "data": {
            "text/plain": "8"
          },
          "execution_count": 66,
          "metadata": {},
          "output_type": "execute_result"
        }
      ]
    },
    {
      "metadata": {
        "scrolled": true,
        "trusted": false
      },
      "cell_type": "code",
      "source": "m = Chem.MolFromSmiles(\"C1=NC2=C(N1)C(=NC=N2)N\")\nm",
      "execution_count": 63,
      "outputs": [
        {
          "data": {
            "image/png": "[encoded data removed]",
            "text/plain": "<rdkit.Chem.rdchem.Mol at 0x7f5dbddfa8a0>"
          },
          "execution_count": 63,
          "metadata": {},
          "output_type": "execute_result"
        }
      ]
    },
    {
      "metadata": {},
      "cell_type": "markdown",
      "source": "[SMARTS](http://www.daylight.com/dayhtml/doc/theory/theory.smarts.html) is an extension of SMILES, with SMILES strings forming a subset of SMARTS strings (?).\n\nAlthough SMILES strings can represent reactions, these are not handled directly by RDKit, although they are when treated as SMARTS strings."
    },
    {
      "metadata": {
        "trusted": false
      },
      "cell_type": "code",
      "source": "AllChem.ReactionFromSmarts(\"C=CCBr>>C=CCI\")",
      "execution_count": 77,
      "outputs": [
        {
          "data": {
            "image/png": "[encoded data removed]",
            "text/plain": "<rdkit.Chem.rdChemReactions.ChemicalReaction at 0x7f6ff310de40>"
          },
          "execution_count": 77,
          "metadata": {},
          "output_type": "execute_result"
        }
      ]
    },
    {
      "metadata": {
        "trusted": false
      },
      "cell_type": "code",
      "source": "AllChem.ReactionFromSmarts(\"C=CCBr.[Na+].[I-]>CC(=O)C>C=CCI.[Na+].[Br-]\")",
      "execution_count": 75,
      "outputs": [
        {
          "data": {
            "image/png": "[encoded data removed]",
            "text/plain": "<rdkit.Chem.rdChemReactions.ChemicalReaction at 0x7f6ff310dc10>"
          },
          "execution_count": 75,
          "metadata": {},
          "output_type": "execute_result"
        }
      ]
    },
    {
      "metadata": {},
      "cell_type": "markdown",
      "source": "An interesting question, pedagogically, is whether the availability of notations for describing reactions, and tools capable of rendering them, can drive the way educational materials are presented. That is, would authors *come to use* a particular diagrammatic convention *if* the tools for automatically creating such diagrams are readily available?"
    },
    {
      "metadata": {
        "trusted": false
      },
      "cell_type": "code",
      "source": "m = AllChem.AddHs(m)\nm",
      "execution_count": 64,
      "outputs": [
        {
          "data": {
            "image/png": "[encoded data removed]",
            "text/plain": "<rdkit.Chem.rdchem.Mol at 0x7f5dbe0833a0>"
          },
          "execution_count": 64,
          "metadata": {},
          "output_type": "execute_result"
        }
      ]
    },
    {
      "metadata": {
        "trusted": false
      },
      "cell_type": "code",
      "source": "#Simplified from: http://rdkit.blogspot.com/2016/07/using-ipywidgets-and-py3dmol-to-browse.html\nimport py3Dmol\ndef drawitbase(m,p=None):\n        if p is None:\n            p = py3Dmol.view(width=400,height=400)\n        #p.removeAllModels()\n        p.addModel(Chem.MolToMolBlock(m),'sdf')\n        p.setStyle({'stick':{}})\n        p.setBackgroundColor('0xeeeeee')\n        p.zoomTo()\n        return p.show()\n\nAllChem.EmbedMultipleConfs(m,useExpTorsionAnglePrefs=True,useBasicKnowledge=True)\ndrawitbase(m)",
      "execution_count": 67,
      "outputs": [
        {
          "data": {
            "application/3dmoljs_load.v0": "<div id=\"3dmolviewer_1534272075715037\"  style=\"position: relative; width: 400px; height: 400px\">\n        <p id=\"3dmolwarning_1534272075715037\" style=\"background-color:#ffcccc;color:black\">You appear to be running in JupyterLab.  You need to install the 3dmol extension: <br>\n        <tt>jupyter labextension install jupyterlab_3dmol</tt></p>\n        </div>\n<script>\n\nvar loadScriptAsync = function(uri){\n  return new Promise((resolve, reject) => {\n    var tag = document.createElement('script');\n    tag.src = uri;\n    tag.async = true;\n    tag.onload = () => {\n      resolve();\n    };\n  var firstScriptTag = document.getElementsByTagName('script')[0];\n  firstScriptTag.parentNode.insertBefore(tag, firstScriptTag);\n});\n};\n\nif(typeof $3Dmolpromise === 'undefined') {\n$3Dmolpromise = null;\n  $3Dmolpromise = loadScriptAsync('https://3dmol.csb.pitt.edu/build/3Dmol.js');\n}\n\nvar viewer_1534272075715037 = null;\nvar warn = document.getElementById(\"3dmolwarning_1534272075715037\");\nif(warn) {\n    warn.parentNode.removeChild(warn);\n}\n$3Dmolpromise.then(function() {\nviewer_1534272075715037 = $3Dmol.createViewer($(\"#3dmolviewer_1534272075715037\"),{backgroundColor:\"white\"});\n\tviewer_1534272075715037.addModel(\"\\n     RDKit          3D\\n\\n 15 16  0  0  0  0  0  0  0  0999 V2000\\n    2.2125   -1.0219   -0.0435 C   0  0  0  0  0  0  0  0  0  0  0  0\\n    1.2986   -1.9802   -0.2060 N   0  0  0  0  0  0  0  0  0  0  0  0\\n    0.0800   -1.3995   -0.1783 C   0  0  0  0  0  0  0  0  0  0  0  0\\n    0.2977   -0.0582    0.0068 C   0  0  0  0  0  0  0  0  0  0  0  0\\n    1.6414    0.1785    0.0916 N   0  0  0  0  0  0  0  0  0  0  0  0\\n   -0.7890    0.7933    0.0753 C   0  0  0  0  0  0  0  0  0  0  0  0\\n   -2.0180    0.2909   -0.0398 N   0  0  0  0  0  0  0  0  0  0  0  0\\n   -2.2402   -1.0212   -0.2212 C   0  0  0  0  0  0  0  0  0  0  0  0\\n   -1.1810   -1.8454   -0.2873 N   0  0  0  0  0  0  0  0  0  0  0  0\\n   -0.5275    2.1748    0.2675 N   0  0  0  0  0  0  0  0  0  0  0  0\\n    3.2917   -1.2120   -0.0253 H   0  0  0  0  0  0  0  0  0  0  0  0\\n    2.0760    1.1215    0.2329 H   0  0  0  0  0  0  0  0  0  0  0  0\\n   -3.2722   -1.3949   -0.3116 H   0  0  0  0  0  0  0  0  0  0  0  0\\n   -0.2525    2.5657    1.1833 H   0  0  0  0  0  0  0  0  0  0  0  0\\n   -0.6175    2.8087   -0.5442 H   0  0  0  0  0  0  0  0  0  0  0  0\\n  1  2  2  0\\n  2  3  1  0\\n  3  4  2  0\\n  4  5  1  0\\n  4  6  1  0\\n  6  7  2  0\\n  7  8  1  0\\n  8  9  2  0\\n  6 10  1  0\\n  5  1  1  0\\n  9  3  1  0\\n  1 11  1  0\\n  5 12  1  0\\n  8 13  1  0\\n 10 14  1  0\\n 10 15  1  0\\nM  END\\n\",\"sdf\");\n\tviewer_1534272075715037.setStyle({\"stick\": {}});\n\tviewer_1534272075715037.setBackgroundColor(\"0xeeeeee\");\n\tviewer_1534272075715037.zoomTo();\nviewer_1534272075715037.render();\n});\n</script>",
            "text/html": "<div id=\"3dmolviewer_1534272075715037\"  style=\"position: relative; width: 400px; height: 400px\">\n        <p id=\"3dmolwarning_1534272075715037\" style=\"background-color:#ffcccc;color:black\">You appear to be running in JupyterLab.  You need to install the 3dmol extension: <br>\n        <tt>jupyter labextension install jupyterlab_3dmol</tt></p>\n        </div>\n<script>\n\nvar loadScriptAsync = function(uri){\n  return new Promise((resolve, reject) => {\n    var tag = document.createElement('script');\n    tag.src = uri;\n    tag.async = true;\n    tag.onload = () => {\n      resolve();\n    };\n  var firstScriptTag = document.getElementsByTagName('script')[0];\n  firstScriptTag.parentNode.insertBefore(tag, firstScriptTag);\n});\n};\n\nif(typeof $3Dmolpromise === 'undefined') {\n$3Dmolpromise = null;\n  $3Dmolpromise = loadScriptAsync('https://3dmol.csb.pitt.edu/build/3Dmol.js');\n}\n\nvar viewer_1534272075715037 = null;\nvar warn = document.getElementById(\"3dmolwarning_1534272075715037\");\nif(warn) {\n    warn.parentNode.removeChild(warn);\n}\n$3Dmolpromise.then(function() {\nviewer_1534272075715037 = $3Dmol.createViewer($(\"#3dmolviewer_1534272075715037\"),{backgroundColor:\"white\"});\n\tviewer_1534272075715037.addModel(\"\\n     RDKit          3D\\n\\n 15 16  0  0  0  0  0  0  0  0999 V2000\\n    2.2125   -1.0219   -0.0435 C   0  0  0  0  0  0  0  0  0  0  0  0\\n    1.2986   -1.9802   -0.2060 N   0  0  0  0  0  0  0  0  0  0  0  0\\n    0.0800   -1.3995   -0.1783 C   0  0  0  0  0  0  0  0  0  0  0  0\\n    0.2977   -0.0582    0.0068 C   0  0  0  0  0  0  0  0  0  0  0  0\\n    1.6414    0.1785    0.0916 N   0  0  0  0  0  0  0  0  0  0  0  0\\n   -0.7890    0.7933    0.0753 C   0  0  0  0  0  0  0  0  0  0  0  0\\n   -2.0180    0.2909   -0.0398 N   0  0  0  0  0  0  0  0  0  0  0  0\\n   -2.2402   -1.0212   -0.2212 C   0  0  0  0  0  0  0  0  0  0  0  0\\n   -1.1810   -1.8454   -0.2873 N   0  0  0  0  0  0  0  0  0  0  0  0\\n   -0.5275    2.1748    0.2675 N   0  0  0  0  0  0  0  0  0  0  0  0\\n    3.2917   -1.2120   -0.0253 H   0  0  0  0  0  0  0  0  0  0  0  0\\n    2.0760    1.1215    0.2329 H   0  0  0  0  0  0  0  0  0  0  0  0\\n   -3.2722   -1.3949   -0.3116 H   0  0  0  0  0  0  0  0  0  0  0  0\\n   -0.2525    2.5657    1.1833 H   0  0  0  0  0  0  0  0  0  0  0  0\\n   -0.6175    2.8087   -0.5442 H   0  0  0  0  0  0  0  0  0  0  0  0\\n  1  2  2  0\\n  2  3  1  0\\n  3  4  2  0\\n  4  5  1  0\\n  4  6  1  0\\n  6  7  2  0\\n  7  8  1  0\\n  8  9  2  0\\n  6 10  1  0\\n  5  1  1  0\\n  9  3  1  0\\n  1 11  1  0\\n  5 12  1  0\\n  8 13  1  0\\n 10 14  1  0\\n 10 15  1  0\\nM  END\\n\",\"sdf\");\n\tviewer_1534272075715037.setStyle({\"stick\": {}});\n\tviewer_1534272075715037.setBackgroundColor(\"0xeeeeee\");\n\tviewer_1534272075715037.zoomTo();\nviewer_1534272075715037.render();\n});\n</script>"
          },
          "metadata": {},
          "output_type": "display_data"
        }
      ]
    },
    {
      "metadata": {
        "trusted": false
      },
      "cell_type": "code",
      "source": "#http://nbviewer.jupyter.org/github/greglandrum/rdkit_blog/blob/master/notebooks/Trying%20py3Dmol.ipynb",
      "execution_count": null,
      "outputs": []
    },
    {
      "metadata": {
        "trusted": false
      },
      "cell_type": "code",
      "source": "#Highlight a substructure\nm.GetSubstructMatch(Chem.MolFromSmiles('C(N)'))\nm",
      "execution_count": 70,
      "outputs": [
        {
          "data": {
            "image/png": "[encoded data removed]",
            "text/plain": "<rdkit.Chem.rdchem.Mol at 0x7f5dbe0833a0>"
          },
          "execution_count": 70,
          "metadata": {},
          "output_type": "execute_result"
        }
      ]
    }
  ],
  "metadata": {
    "kernelspec": {
      "name": "python3",
      "display_name": "Python 3",
      "language": "python"
    },
    "language_info": {
      "mimetype": "text/x-python",
      "nbconvert_exporter": "python",
      "name": "python",
      "file_extension": ".py",
      "version": "3.5.4",
      "pygments_lexer": "ipython3",
      "codemirror_mode": {
        "version": 3,
        "name": "ipython"
      }
    }
  },
  "nbformat": 4,
  "nbformat_minor": 2
}