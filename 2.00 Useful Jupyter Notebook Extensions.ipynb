{
 "cells": [
  {
   "cell_type": "markdown",
   "metadata": {},
   "source": [
    "# Useful Jupyter Notebook Extensions\n",
    "\n",
    "A wide variety of extensions are available that can be used to customise the Jupyter notebook environment. Customisations include the ability to add notebook toolbar or menu options and customise the behaviour of notebook cells."
   ]
  },
  {
   "cell_type": "markdown",
   "metadata": {},
   "source": [
    "Notebook extensions can be managed via the [nbextensions_configurator](/nbextensions), which can be found via the tab on the notebook homepage or from within a notebook via the `Edit->nbextensions config` menu option.\n",
    "\n",
    "<div style=\"float:centre; width:500 px\">\n",
    "<div style=\"float:left; width:100 px; padding-right:150px\"><a href=\"/nbextensions\"><img src='images/nbextensions_tab.png' width=400/></a></div>\n",
    "<div style=\"float:left; width:100 px\"><a href=\"/nbextensions\"><img src='images/nbextensions_menu.png' width=150/></a></div>\n",
    "\n",
    "Notebook extensions can be enabled by default. In this Microsoft Azure notebooks environment, for example, the `RISE slidehow` extension is enabled by default. To see the other extensions in action, you will need to enable then using the *Notebook Extension Configurator* and then reload this notebook.\n",
    "\n",
    "Once the extensions are enabled, they will be enabled in all notebooks for the duration of the notebook session.\n",
    "</div>"
   ]
  },
  {
   "cell_type": "markdown",
   "metadata": {},
   "source": [
    "The extensions can also be enabled automatically for all notebooks in the current session by running the following code cell."
   ]
  },
  {
   "cell_type": "code",
   "execution_count": null,
   "metadata": {},
   "outputs": [],
   "source": [
    "%%bash\n",
    "jupyter nbextension enable freeze/main --user\n",
    "jupyter nbextension enable highlighter/highlighter --user\n",
    "jupyter nbextension enable spellchecker/main --user\n",
    "jupyter nbextension enable collapsible_headings/main --user\n",
    "jupyter nbextension enable codefolding/main --user\n",
    "jupyter nbextension enable rubberband/main --user\n",
    "jupyter nbextension enable exercise2/main --user\n",
    "jupyter nbextension enable python-markdown/main --user\n",
    "jupyter nbextension enable export_embedded/main --user"
   ]
  },
  {
   "cell_type": "markdown",
   "metadata": {},
   "source": [
    "To see the effect of enabling the extensions, refresh/reload this notebook webpage after running the previous cell."
   ]
  },
  {
   "cell_type": "markdown",
   "metadata": {},
   "source": [
    "## Notebook Extension Configurator"
   ]
  },
  {
   "cell_type": "markdown",
   "metadata": {},
   "source": [
    "The *notebook extension configurator* allows you to enable or disable extensions by checking the corresponding select box. Extensions are versioned and an option exists to disable activation of an extension from the configurator if it is not explicilty declared as compatible with the current notebook. In many cases, these extensions will still work, so I tend to allow all extensions to be enabled and then just ignore any that cause me problems with a particular notebook.\n",
    "\n",
    "\n",
    "<a href=\"/nbextensions\"><img src=\"images/nb_config1.png\" width=800 /></a>\n",
    "\n",
    "If you click on the name of an extension, a descriptive panel appears that describes that extension. This panel contains two sections:\n",
    "\n",
    "- a `parameter` section\n",
    "- a `README` section\n",
    "\n",
    "The `parameter` section allows you to customise the settings of the extension itself:\n",
    "\n",
    "<img src=\"images/nb_config2.png\" width=800 />\n",
    "\n",
    "\n",
    "The README  section describes the operation of the extension:\n",
    "\n",
    "<img src=\"images/nb_config3.png\" width=800 />"
   ]
  },
  {
   "cell_type": "markdown",
   "metadata": {},
   "source": [
    "## Useful Extensions"
   ]
  },
  {
   "cell_type": "markdown",
   "metadata": {},
   "source": [
    "Microsoft Azure notebooks are bundled with the \"official\" [ipython-contrib/jupyter_contrib_nbextensions](https://github.com/ipython-contrib/jupyter_contrib_nbextensions) as well as [several other custom extensions](https://notebooks.azure.com/help/jupyter-notebooks/jupyter-extensions).\n",
    "\n",
    "In OU software distributions such as the TM351 VM, several additional third party extensions and OU custom developed extensions are also installed and enable by default.\n",
    "\n",
    "These extensions may be disabled from the notebook extension configurator, although notebooks developed for use with particular extensions may not be displayed as intended if you do disable them.\n",
    "\n",
    "To see the extensions in action, you will need to enable then from the (linked) extensions configurator and then reload the notebook)."
   ]
  },
  {
   "cell_type": "markdown",
   "metadata": {},
   "source": [
    "### General Notebook Presentation"
   ]
  },
  {
   "cell_type": "markdown",
   "metadata": {},
   "source": [
    "- [`collapsible_headings`](../nbextensions/?nbextension=collapsible_headings/main): provides upport for collapsible heading so that hierarchically organised sections of the notebook appearing in separate markdown cells can be collapsed or expanded. \n",
    "- the [Table of Contents (2)](../nbextensions/?nbextension=toc2/main) (*sic*) extension can also use headings to create a table of contents that appears at the top of the notebook (check the appropriate setting).\n",
    "- the [Code Font Size](../nbextensions/?nbextension=code_font_size/code_font_size) extension  allows you to increase or decrease the font size of code cells or the contents of markdown cells in edit mode."
   ]
  },
  {
   "cell_type": "markdown",
   "metadata": {},
   "source": [
    "### Workflow Support"
   ]
  },
  {
   "cell_type": "markdown",
   "metadata": {},
   "source": [
    "- [`highlighter`](../nbextensions/?nbextension=highlighter/highlighter): highlight <span class=\"mark\">selected text</span> in a markdown cell\n",
    "- [`spellchecker`](../nbextensions/?nbextension=spellchecker): performs a live spell check as you edit the contents of a markdown cell\n",
    "- [`export_embedded`](../nbextensions/?nbextension=export_embedded/main): adds an export option to the `File` menu that allows you to export the current notebook as an HTML file with images embedded in it (`File -> Download as -> HTML Embedded (.html)`)\n",
    "- [`freeze`](../nbextensions/?nbextension=freeze/main): allows you to make a cell read-only / non-editable or frozen (read-only and non-executable if it's a code cell)"
   ]
  },
  {
   "cell_type": "code",
   "execution_count": null,
   "metadata": {
    "deletable": false,
    "editable": false
   },
   "outputs": [],
   "source": [
    "print('Read only code cell')"
   ]
  },
  {
   "cell_type": "code",
   "execution_count": null,
   "metadata": {
    "deletable": false,
    "editable": false,
    "run_control": {
     "frozen": true
    }
   },
   "outputs": [],
   "source": [
    "print('Frozen code cell')"
   ]
  },
  {
   "cell_type": "markdown",
   "metadata": {},
   "source": [
    "A useful third party extension that is not installed by default in Microsoft Azure notebooks is the [WYSIWYG HTML/Markdown Editor for Jupyter Notebook](https://github.com/genepattern/jupyter-wysiwyg). You can install it by running the following cell (then reload this notebook to see it in action when you double click on a markdown cell to edit it)."
   ]
  },
  {
   "cell_type": "code",
   "execution_count": null,
   "metadata": {},
   "outputs": [],
   "source": [
    "%%capture\n",
    "! pip install jupyter-wysiwyg\n",
    "! jupyter nbextension install --py --user jupyter_wysiwyg\n",
    "! jupyter nbextension enable --py jupyter_wysiwyg"
   ]
  },
  {
   "cell_type": "markdown",
   "metadata": {},
   "source": [
    "### Python / Code Cell Related Presentation and Styling"
   ]
  },
  {
   "cell_type": "markdown",
   "metadata": {},
   "source": [
    "- [`init_cell`](../nbextensions/?nbextension=init_cell/main): allows one or more cells to set as initialisation cells that can be executed from the toolbar or autmomatically whenever the notebook kernel is (re)started. \n",
    "- [`skip-traceback`](../nbextensions/?nbextension=skip-traceback/main): collapse Python error messages under a succinct statement of the error."
   ]
  },
  {
   "cell_type": "code",
   "execution_count": null,
   "metadata": {},
   "outputs": [],
   "source": [
    "pront(\"What happens if you run this cell, as is...?\")"
   ]
  },
  {
   "cell_type": "markdown",
   "metadata": {},
   "source": [
    "- [`codefolding`](/nbextensions/?nbextension=codefolding/main): allow code folding on function names, first line comments and cell magics"
   ]
  },
  {
   "cell_type": "code",
   "execution_count": null,
   "metadata": {
    "code_folding": [
     0,
     6
    ]
   },
   "outputs": [],
   "source": [
    "def collapsed_function1():\n",
    "    pass\n",
    "\n",
    "def uncollapsed_function():\n",
    "    pass\n",
    "\n",
    "def collapsed_function2():\n",
    "    pass"
   ]
  },
  {
   "cell_type": "code",
   "execution_count": null,
   "metadata": {
    "code_folding": [
     0
    ]
   },
   "outputs": [],
   "source": [
    "# First line comment lets you collapse a code cell in its entirety\n",
    "pass"
   ]
  },
  {
   "cell_type": "markdown",
   "metadata": {},
   "source": [
    "- [`hide_input`](/nbextensions/?nbextension=hide_input/main): allows the output of a specific code cell to be hidden. For example, select the (hidden) code cell directly beneath cell and see if you can reveal it.\n",
    "\n",
    "If you run the cell while it is hidden, any output *will* be displayed. You can also select a hidden code cell and run it to see if it renders any output."
   ]
  },
  {
   "cell_type": "code",
   "execution_count": null,
   "metadata": {
    "code_folding": [],
    "hide_input": true
   },
   "outputs": [],
   "source": [
    "# Found it!\n",
    "print('Hello... The code that produced me is (or at least, was) hidden...')"
   ]
  },
  {
   "cell_type": "markdown",
   "metadata": {},
   "source": [
    "- [`python-markdown`](/nbextensions/?nbextension=python-markdown/main): allows the value of python variables to be returned inline into a markdown cell"
   ]
  },
  {
   "cell_type": "markdown",
   "metadata": {
    "variables": {
     "a": "1",
     "a+a": "2",
     "a=1;a": "1"
    }
   },
   "source": [
    "Some markdown with a sum in it: {{a=1;a}} + {{a}} = {{a+a}}. Put this markdown cell into cell edit mode to see the code...\n",
    "\n",
    "It works with *pandas* too..."
   ]
  },
  {
   "cell_type": "code",
   "execution_count": null,
   "metadata": {},
   "outputs": [],
   "source": [
    "import pandas as pd\n",
    "df = pd.DataFrame({'col1':['a','b','c'],'col2':[1,2,3] })"
   ]
  },
  {
   "cell_type": "markdown",
   "metadata": {
    "variables": {
     "df": "<div>\n<style scoped>\n    .dataframe tbody tr th:only-of-type {\n        vertical-align: middle;\n    }\n\n    .dataframe tbody tr th {\n        vertical-align: top;\n    }\n\n    .dataframe thead th {\n        text-align: right;\n    }\n</style>\n<table border=\"1\" class=\"dataframe\">\n  <thead>\n    <tr style=\"text-align: right;\">\n      <th></th>\n      <th>col1</th>\n      <th>col2</th>\n    </tr>\n  </thead>\n  <tbody>\n    <tr>\n      <th>0</th>\n      <td>a</td>\n      <td>1</td>\n    </tr>\n    <tr>\n      <th>1</th>\n      <td>b</td>\n      <td>2</td>\n    </tr>\n    <tr>\n      <th>2</th>\n      <td>c</td>\n      <td>3</td>\n    </tr>\n  </tbody>\n</table>\n</div>"
    }
   },
   "source": [
    "Here's my table...\n",
    "\n",
    "{{df}}\n",
    "\n",
    "Although not directly relevant to notebook extensions, it's also worth noting that *pandas* dataframes can be styled as per [*pandas* docs - Styling](https://pandas.pydata.org/pandas-docs/stable/style.html). "
   ]
  },
  {
   "cell_type": "markdown",
   "metadata": {},
   "source": [
    "### Module Team / AL Support"
   ]
  },
  {
   "cell_type": "markdown",
   "metadata": {},
   "source": [
    "- [`rubberband`](../nbextensions?nbextension=rubberband/main): supports the click'n'drag selection of multiple contiguous cells for use with the `exercise2` extension\n",
    "- [`exercise2`](../nbextensions?nbextension=exercise2/main): from a group of selected cells, use the first cell as a question cell and hide the selected cell(s) below; also add a \"reveal answer\" button to the first cell in the selected group to toggle the display of the answer cell(s)\n",
    "- [`RISE`](../nbextensions/?nbextension=rise): this extension turns a notebook with appropriately set cell metadata into a \"live slideshow\", with cells appearing as slides or slide fragments. Code cells are executable within the slideshow. Any output returned from an executed code cell will also be rendered within the slide. For more detail, see the [official docs](https://damianavila.github.io/RISE/).\n",
    "\n",
    "![](images/rise_slides.gif)"
   ]
  },
  {
   "cell_type": "markdown",
   "metadata": {},
   "source": [
    "### OU custom menu extensions"
   ]
  },
  {
   "cell_type": "markdown",
   "metadata": {},
   "source": [
    "As well as the notebook toolbar extensions, two custom OU extensions have been added to the `File` menu."
   ]
  },
  {
   "cell_type": "markdown",
   "metadata": {},
   "source": [
    "- [MS Word export](https://github.com/innovationOUtside/nb_extension_wordexport): download the current notebook as a Microsoft Word document (`File -> Download as -> MS Word (.docx)`)\n",
    "- [ODS](https://github.com/innovationOUtside/nb_extension_odszip) : download the current notebook as an HTML file and compress it with the original (saved) `.ipynb` document as a zip file using an `.nbk` suffix so that it can be uploae to *Open Design Studio* (`File -> ODSzip (.nbk)`) \n",
    "  "
   ]
  }
 ],
 "metadata": {
  "kernelspec": {
   "display_name": "Python 3",
   "language": "python",
   "name": "python3"
  },
  "language_info": {
   "codemirror_mode": {
    "name": "ipython",
    "version": 3
   },
   "file_extension": ".py",
   "mimetype": "text/x-python",
   "name": "python",
   "nbconvert_exporter": "python",
   "pygments_lexer": "ipython3",
   "version": "3.5.4"
  }
 },
 "nbformat": 4,
 "nbformat_minor": 2
}
