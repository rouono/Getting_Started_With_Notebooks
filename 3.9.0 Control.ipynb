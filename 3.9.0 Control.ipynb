{
  "cells": [
    {
      "metadata": {
        "trusted": true
      },
      "cell_type": "code",
      "source": "!pip install control",
      "execution_count": 1,
      "outputs": [
        {
          "output_type": "stream",
          "text": "Collecting control\n\u001b[?25l  Downloading https://files.pythonhosted.org/packages/89/6b/5ab127da1f93d8f12d108194b0ae4d245c77b97aa57ac01e9200a70d15b9/control-0.8.0.tar.gz (165kB)\n\u001b[K    100% |████████████████████████████████| 174kB 3.9MB/s ta 0:00:01\n\u001b[?25hRequirement already satisfied: numpy in /home/nbuser/anaconda3_420/lib/python3.5/site-packages (from control) (1.15.2)\nRequirement already satisfied: scipy in /home/nbuser/anaconda3_420/lib/python3.5/site-packages (from control) (1.1.0)\nRequirement already satisfied: matplotlib in /home/nbuser/anaconda3_420/lib/python3.5/site-packages (from control) (2.1.1)\nRequirement already satisfied: six>=1.10 in /home/nbuser/anaconda3_420/lib/python3.5/site-packages (from matplotlib->control) (1.11.0)\nRequirement already satisfied: python-dateutil>=2.0 in /home/nbuser/anaconda3_420/lib/python3.5/site-packages (from matplotlib->control) (2.7.3)\nRequirement already satisfied: pytz in /home/nbuser/anaconda3_420/lib/python3.5/site-packages (from matplotlib->control) (2016.6.1)\nRequirement already satisfied: cycler>=0.10 in /home/nbuser/anaconda3_420/lib/python3.5/site-packages (from matplotlib->control) (0.10.0)\nRequirement already satisfied: pyparsing!=2.0.4,!=2.1.2,!=2.1.6,>=2.0.1 in /home/nbuser/anaconda3_420/lib/python3.5/site-packages (from matplotlib->control) (2.1.4)\nBuilding wheels for collected packages: control\n  Running setup.py bdist_wheel for control ... \u001b[?25ldone\n\u001b[?25h  Stored in directory: /home/nbuser/.cache/pip/wheels/d2/8f/04/16760efa8227635eced77a90b880f874bfbb7c91d6272bda14\nSuccessfully built control\nInstalling collected packages: control\nSuccessfully installed control-0.8.0\n\u001b[33mYou are using pip version 18.0, however version 18.1 is available.\nYou should consider upgrading via the 'pip install --upgrade pip' command.\u001b[0m\n",
          "name": "stdout"
        }
      ]
    },
    {
      "metadata": {
        "trusted": true
      },
      "cell_type": "code",
      "source": "#https://nbviewer.jupyter.org/github/claesenm/kul-systeemtheorie/blob/master/notebooks/Effect%20of%20time%20constant%2C%20damping%20and%20natural%20frequency.ipynb?short_path=228a4a6",
      "execution_count": 2,
      "outputs": []
    },
    {
      "metadata": {
        "trusted": true
      },
      "cell_type": "code",
      "source": "https://nbviewer.jupyter.org/github/phys3112/intro/blob/master/mcba9-control-theory.ipynb?short_path=7776f88",
      "execution_count": null,
      "outputs": []
    }
  ],
  "metadata": {
    "kernelspec": {
      "name": "python3",
      "display_name": "Python 3",
      "language": "python"
    },
    "language_info": {
      "mimetype": "text/x-python",
      "nbconvert_exporter": "python",
      "name": "python",
      "pygments_lexer": "ipython3",
      "version": "3.5.4",
      "file_extension": ".py",
      "codemirror_mode": {
        "version": 3,
        "name": "ipython"
      }
    }
  },
  "nbformat": 4,
  "nbformat_minor": 2
}