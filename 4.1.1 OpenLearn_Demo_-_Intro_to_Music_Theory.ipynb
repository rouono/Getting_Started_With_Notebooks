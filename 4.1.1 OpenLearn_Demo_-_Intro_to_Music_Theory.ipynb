{
  "cells": [
    {
      "metadata": {
        "trusted": true
      },
      "cell_type": "code",
      "source": "%%capture\n#In Azure notebooks, on first run per session, this package installation cell could take a considerable time to run\ntry:\n    import music21\nexcept:\n    ! wget http://lilypond.org/download/binaries/linux-64/lilypond-2.18.2-1.linux-64.sh\n    #then for forced (no prompts) install:\n    !sh lilypond-2.18.2-1.linux-64.sh --batch\n    !pip install music21\n\nLILYPOND_PATH = '/home/nbuser/bin/lilypond'\n\n%matplotlib inline\nimport warnings\nwarnings.filterwarnings(\"ignore\", message=\"numpy.dtype size changed\")\nwarnings.filterwarnings(\"ignore\", message=\"numpy.ufunc size changed\")\n\n%load_ext music21.ipython21\n\nfrom IPython.display import Image\n\nfrom music21 import *\nenvironment.UserSettings()['lilypondPath']= LILYPOND_PATH\n\ndef render(s):\n    return Image(filename=str(s.write(fmt='lily.png')))\n\ndef showlily(s):\n    print(lily.translate.LilypondConverter().textFromMusic21Object(s))",
      "execution_count": 1,
      "outputs": []
    },
    {
      "metadata": {},
      "cell_type": "markdown",
      "source": "# OpenLearn - An introduction to music theory\n\nThis notebook demonstrates a partial reworking of the OpenLearn course [An introduction to music theory](http://www.open.edu/openlearn/history-the-arts/culture/music/introduction-music-theory/content-section-0?active-tab=content-tab).\n\n\n----"
    },
    {
      "metadata": {},
      "cell_type": "markdown",
      "source": "## 2 The basics\n### 2.1 The staff\n\nThe idea of placing notes on a set of horizontal lines – the staff –to show the relationship of various pitches with each other – staff notation – emerged in western music towards the end of the ninth century. Originally, each pitch was allocated its own line, but the Italian music theorist, Guido of Arezzo, who lived during the early eleventh century, suggested that lines should be drawn for every other pitch, so that alternate pitches sat on the lines and the remaining pitches were placed in the intervening spaces between the lines.\n\nThis principle was soon adopted and has remained in force in traditional western music notation to the present day. The number of lines included in the staff has varied depending on the range of the music being notated. However, the norm has evolved as the five-line staff, shown in Example 1.\n\n#### Example 1\n\n*I'm not sure how to do empty staves in `music21`...*"
    },
    {
      "metadata": {
        "trusted": true
      },
      "cell_type": "code",
      "source": "import os\nfrom IPython.display import Image\n\ndef lp(score):\n    score='''\\version \"2.18.2\"\n    \\header {{ \n    tagline = \"\"  % removed \n    }} {}'''.format(score)\n    with open(\"test.ly\", \"w\") as out_file:\n        out_file.write(score)\n    os.system( \"{} -dbackend=eps -dno-gs-load-fonts -dinclude-eps-fonts --png test.ly\".format(LILYPOND_PATH) )\n    return Image(filename='test.png')\n#Handy lilypond editor - http://lilybin.com/#",
      "execution_count": 2,
      "outputs": []
    },
    {
      "metadata": {
        "trusted": true
      },
      "cell_type": "code",
      "source": "#Should make some block magic for entering lilypond script?\nempty=r\"\"\"\n#(set-global-staff-size 20)\n\n\\score {\n  {\n    \\repeat unfold 2 { s1 \\break }\n  }\n  \\layout {\n    indent = 0\\in\n    \\context {\n      \\Staff\n      \\remove \"Time_signature_engraver\"\n      \\remove \"Clef_engraver\"\n      \\remove \"Bar_engraver\"\n    }\n    \\context {\n      \\Score\n      \\remove \"Bar_number_engraver\"\n    }\n  }\n  }\n\"\"\"\nlp(empty)",
      "execution_count": 3,
      "outputs": [
        {
          "output_type": "execute_result",
          "execution_count": 3,
          "data": {
            "image/png": "[encoded data removed]",
            "text/plain": "<IPython.core.display.Image object>"
          },
          "metadata": {}
        }
      ]
    },
    {
      "metadata": {
        "hide_input": true
      },
      "cell_type": "markdown",
      "source": "As shown in Example 2, if we place pitches in the form of note heads on the staff, information about the relationship of the pitches with each other is produced.\n\n#### Example 2"
    },
    {
      "metadata": {
        "trusted": false
      },
      "cell_type": "code",
      "source": "lp(r'''\n#(set-global-staff-size 20)\n\\score{\n    {\n        e'1 f' g' a' b' c'' d'' e'' f''\n    }\n\n    \\layout{\\context {\n      \\Staff\n        \\remove \"Time_signature_engraver\"\n        \\remove \"Clef_engraver\"\n        \\remove \"Bar_engraver\"\n      }\n  }\n}\n''')",
      "execution_count": 99,
      "outputs": [
        {
          "data": {
            "image/png": "[encoded data removed]",
            "text/plain": "<IPython.core.display.Image object>"
          },
          "execution_count": 99,
          "metadata": {},
          "output_type": "execute_result"
        }
      ]
    },
    {
      "metadata": {},
      "cell_type": "markdown",
      "source": "### 2.2 Clefs\nAs it stands, the first note in Example 2 could be any pitch we care to choose."
    },
    {
      "metadata": {},
      "cell_type": "markdown",
      "source": "So if we wish to specify a particular pitch or series of pitches we need some sort of guide – a sign that will enable us to indicate the specific pitch. That sign is supplied by a clef (from the Latin, clavis, meaning ‘key’). From the eleventh century onwards, several Roman letters, including c and f, were used systematically for clefs, with g subsequently becoming increasingly common. In a stylised form, g, with flamboyant curls and flourishes, is still used as the treble or G clef, and signifies that a note placed on the second line from the bottom is G (see Example 3).\n\n#### Example 3"
    },
    {
      "metadata": {
        "trusted": false
      },
      "cell_type": "code",
      "source": "lp(r'''\n#(set-global-staff-size 20)\n\\score{\n    {\n     g'1-\"G\"\n    }\n\n    \\layout{\\context {\n      \\Staff\n        \\remove \"Time_signature_engraver\"\n        \\remove \"Bar_engraver\"\n      }\n  }\n  \n}\n''')",
      "execution_count": 114,
      "outputs": [
        {
          "data": {
            "image/png": "[encoded data removed]",
            "text/plain": "<IPython.core.display.Image object>"
          },
          "execution_count": 114,
          "metadata": {},
          "output_type": "execute_result"
        }
      ]
    },
    {
      "metadata": {
        "trusted": false
      },
      "cell_type": "code",
      "source": "#I think we can export midi from lilypond? Just add \\midi{} to the score?",
      "execution_count": null,
      "outputs": []
    },
    {
      "metadata": {
        "trusted": true
      },
      "cell_type": "code",
      "source": "#If we generate midi from music21, it automatically adds time measure and clef\ns = stream.Stream()\n\nm = \"tinyNotation: g1\"\n\n#s.append(note.Note('G', type='whole'))\ns = converter.parse(m)\n\ndisplay(render(s))\n\n#To get the midi file to play properly, it seems as if we need to add a rest at the start\n_m = m.split(':')\nif len(_m)==2 and _m[0]=='tinyNotation':\n    sm = converter.parse(''.join(['tinyNotation: ','r', m.split(':')[1]]))\n    sm.show('midi')\nelse:\n    s.show('midi')",
      "execution_count": 20,
      "outputs": [
        {
          "output_type": "display_data",
          "data": {
            "image/png": "[encoded data removed]",
            "text/plain": "<IPython.core.display.Image object>"
          },
          "metadata": {}
        },
        {
          "output_type": "display_data",
          "data": {
            "text/plain": "<IPython.core.display.HTML object>",
            "text/html": "\n                <div id='midiPlayerDiv485'></div>\n                <link rel=\"stylesheet\" href=\"//cuthbertLab.github.io/music21j/css/m21.css\"\n                    type=\"text/css\" />\n                <script>\n                require.config({\n                    paths: {'music21': '//cuthbertLab.github.io/music21j/src/music21'}\n                });\n                require(['music21'], function() {\n                               mp = new music21.miditools.MidiPlayer();\n                               mp.addPlayer('#midiPlayerDiv485');\n                               mp.base64Load('data:audio/midi;base64,TVRoZAAAAAYAAQABBABNVHJrAAAAHwD/AwAA4ABAAP9YBAQCGAiIAJBDWqAAgEMAiAD/LwA=');\n                        });\n                </script>"
          },
          "metadata": {}
        }
      ]
    },
    {
      "metadata": {},
      "cell_type": "markdown",
      "source": "And this is not any G, but specifically the one above middle C. (We’ll come to an explanation of middle C in a moment.)\n\nAs Example 4 shows, the other notes are named with letters from the alphabet, A–G, with A returning after G has been reached.\n\n#### Example 4"
    },
    {
      "metadata": {
        "trusted": false
      },
      "cell_type": "code",
      "source": "lp(r'''\n#(set-global-staff-size 20)\n\\score{\n    {\n     e'1-\"E\" f'-\"F\" \n     \t\t \\override NoteHead.color = #red\n\t\t g'-\"G\"\n\t\t \\override NoteHead.color = #black\n\t\t \\override Stem.color = #black\n          a'-\"A\" b'-\"B\" c''-\"C\" d''-\"D\" e''-\"E\" f''-\"F\"\n    }\n\n    \\layout{\\context {\n      \\Staff\n        \\remove \"Time_signature_engraver\"\n        \\remove \"Bar_engraver\"\n      }\n  }\n  \n}\n''')",
      "execution_count": 133,
      "outputs": [
        {
          "data": {
            "image/png": "[encoded data removed]",
            "text/plain": "<IPython.core.display.Image object>"
          },
          "execution_count": 133,
          "metadata": {},
          "output_type": "execute_result"
        }
      ]
    },
    {
      "metadata": {
        "trusted": false
      },
      "cell_type": "code",
      "source": "s = stream.Stream()\n#For the midi to play correctly, it seems we need to insert a rest at the beginning?\ns.append(note.Rest())\ns.append(note.Note('E4', type='whole'))\ns.append(note.Note('F4', type='whole'))\ns.append(note.Note('G4', type='whole'))\ns.append(note.Note('A4', type='whole'))\ns.append(note.Note('B4', type='whole'))\ns.append(note.Note('C5', type='whole'))\ns.append(note.Note('D5', type='whole'))\ns.append(note.Note('E5', type='whole'))\ns.append(note.Note('F5', type='whole'))\ndisplay((render(s)))\ns.show('midi')",
      "execution_count": 128,
      "outputs": [
        {
          "data": {
            "image/png": "[encoded data removed]",
            "text/plain": "<IPython.core.display.Image object>"
          },
          "metadata": {},
          "output_type": "display_data"
        },
        {
          "data": {
            "text/html": "\n                <div id='midiPlayerDiv1883'></div>\n                <link rel=\"stylesheet\" href=\"//cuthbertLab.github.io/music21j/css/m21.css\"\n                    type=\"text/css\" />\n                <script>\n                require.config({\n                    paths: {'music21': '//cuthbertLab.github.io/music21j/src/music21'}\n                });\n                require(['music21'], function() {\n                               mp = new music21.miditools.MidiPlayer();\n                               mp.addPlayer('#midiPlayerDiv1883');\n                               mp.base64Load('data:audio/midi;base64,TVRoZAAAAAYAAQABBABNVHJrAAAAXwD/AwAA4ABAiACQQFqgAIBAAACQQVqgAIBBAACQQ1qgAIBDAACQRVqgAIBFAACQR1qgAIBHAACQSFqgAIBIAACQSlqgAIBKAACQTFqgAIBMAACQTVqgAIBNAIgA/y8A');\n                        });\n                </script>",
            "text/plain": "<IPython.core.display.HTML object>"
          },
          "metadata": {},
          "output_type": "display_data"
        }
      ]
    },
    {
      "metadata": {},
      "cell_type": "markdown",
      "source": "Notice that as the notes are placed higher and higher up the staff, the pitch becomes higher and higher as well. Notice too that we read music from left to right, and with a whole page of music, from top to bottom. This reflects the way we read words in western culture.\n\nThe letter, f, in a stylised form and in a mirror image, is now used as the bass or F clef. It signifies that a note placed on the second line from the top is F, and specifically the F below middle C (see Example 5).\n\n#### Example 5"
    },
    {
      "metadata": {
        "trusted": false
      },
      "cell_type": "code",
      "source": "#Not sure how to colour additional text\nlp(r'''\\score{\n\n\t{ \\clef F\n\t\t g,1 a, b, c d e\n\t\t \\override NoteHead.color = #red\n\t\t f-\"F\"\n\t\t \\override NoteHead.color = #black\n\t\t \\override Stem.color = #black\n\t\t g a\n\t}\n\n\t\\layout{\\context {\n      \\Staff\n\t  \\remove \"Time_signature_engraver\"\n\n      \\remove \"Bar_engraver\"}\n}\n}\n''')",
      "execution_count": 135,
      "outputs": [
        {
          "data": {
            "image/png": "[encoded data removed]",
            "text/plain": "<IPython.core.display.Image object>"
          },
          "execution_count": 135,
          "metadata": {},
          "output_type": "execute_result"
        }
      ]
    },
    {
      "metadata": {
        "trusted": false
      },
      "cell_type": "code",
      "source": "#Not sure how to add the whitespace in upper stave?\nlp(r'''\\score{\n\n\t\\new GrandStaff <<\n  \\new Staff \\relative { c''1-\"C\" b-\"B\" a-\"A\" g-\"G\" f-\"F\" e-\"E\" d-\"D\"  \\override NoteHead.color = #red c-\"C\"  }\n  \\new Staff \\relative { \\clef \"bass\" c1-\"C\" d-\"D\" e-\"E\" f-\"F\" g-\"G\" a-\"A\" b-\"B\" \\override NoteHead.color = #red c-\"C\" | }\n>>\n\n\t\\layout{\\context {\n      \\Staff\n\t  \\remove \"Time_signature_engraver\"\n\n      \\remove \"Bar_engraver\"}\n}\n}\n    \t\\layout{\\context {\n      \\Staff\n\t  \\remove \"Time_signature_engraver\"\n\n      \\remove \"Bar_engraver\"}\n}\n}\n''')",
      "execution_count": 162,
      "outputs": [
        {
          "data": {
            "image/png": "[encoded data removed]",
            "text/plain": "<IPython.core.display.Image object>"
          },
          "execution_count": 162,
          "metadata": {},
          "output_type": "execute_result"
        }
      ]
    },
    {
      "metadata": {
        "trusted": false
      },
      "cell_type": "code",
      "source": "#How can we force the autochanger to use a middle C on the upper staff after the switch?\nlp(r'''\\score{\n\n\\new GrandStaff {\n \\autochange {\nc1-\"C\" d-\"D\" e-\"E\" f-\"F\" g-\"G\" a-\"A\" b-\"B\" \\override NoteHead.color = #red c'-\"C\" \n     \\hideNotes g' \\unHideNotes\n     c'-\"C\"\n     \\override NoteHead.color = #red d'-\"D\" e'-\"E\" f'-\"F\"  g'-\"G\" a'-\"A\" \n    b'-\"B\"     c''-\"C\" \n  }\n}\n\n\n\t\\layout{\\context {\n      \\Staff\n\t  \\remove \"Time_signature_engraver\"\n\n      \\remove \"Bar_engraver\"}\n}\n}\n\n''')",
      "execution_count": 69,
      "outputs": [
        {
          "data": {
            "image/png": "[encoded data removed]",
            "text/plain": "<IPython.core.display.Image object>"
          },
          "execution_count": 69,
          "metadata": {},
          "output_type": "execute_result"
        }
      ]
    },
    {
      "metadata": {
        "trusted": false
      },
      "cell_type": "code",
      "source": "#Red C is the same note - middle C...\nlp(r'''\\score{\n\n\t\\new GrandStaff <<\n  \\new Staff \\relative {  c''1-\"C\" \\override NoteHead.color = #red  c,-\"middle-C\" }\n  \\new Staff \\relative { \\clef \"bass\"  c1-\"C\" \\override NoteHead.color = #red c'}\n>>\n\n\t\\layout{\\context {\n      \\Staff\n\t  \\remove \"Time_signature_engraver\"\n\n      \\remove \"Bar_engraver\"}\n}\n}\n    \t\\layout{\\context {\n      \\Staff\n\t  \\remove \"Time_signature_engraver\"\n\n      \\remove \"Bar_engraver\"}\n}\n''')",
      "execution_count": 158,
      "outputs": [
        {
          "data": {
            "image/png": "[encoded data removed]",
            "text/plain": "<IPython.core.display.Image object>"
          },
          "execution_count": 158,
          "metadata": {},
          "output_type": "execute_result"
        }
      ]
    },
    {
      "metadata": {},
      "cell_type": "markdown",
      "source": "### TH doodlings"
    },
    {
      "metadata": {
        "trusted": false
      },
      "cell_type": "code",
      "source": "#example 9\nlp(r'''\\score{\n\\new Staff { \n             \\relative c'' {\n  \\clef treble\n f1-\"F\" g-\"G\" a-\"A\" b-\"B\" c-\"C\" d-\"D\" e-\"E etc\"\n\n              }\n\t\t\t  \\relative g,\n             \\clef bass\n             f,-\"F\" e,-\"E\" d,-\"D\" c,-\"C\" b,,-\"B\" a,,-\"A etc.\"\n}\n\n\t\\layout{\\context {\n      \\Staff\n\t  \\remove \"Time_signature_engraver\"\n\n      \\remove \"Bar_engraver\"}\n}\n}\n\n''')",
      "execution_count": 51,
      "outputs": [
        {
          "data": {
            "image/png": "[encoded data removed]",
            "text/plain": "<IPython.core.display.Image object>"
          },
          "execution_count": 51,
          "metadata": {},
          "output_type": "execute_result"
        }
      ]
    },
    {
      "metadata": {
        "trusted": false
      },
      "cell_type": "code",
      "source": "noteC = note.Note(\"C4\", type=\"half\")\nnoteD = note.Note(\"D4\", type=\"quarter\")\nnoteE = note.Note(\"E4\", type=\"half\")\nnoteF = note.Note(\"F4\", type=\"quarter\")\n\ntsThreeFour = meter.TimeSignature('3/4')",
      "execution_count": 21,
      "outputs": []
    },
    {
      "metadata": {
        "trusted": false
      },
      "cell_type": "code",
      "source": "stream1 = stream.Stream()\n\nfor thisThing in [note.Rest(), tsThreeFour, noteC, noteD, noteE, noteF]:\n    stream1.append(thisThing)\n    \ndisplay(render(stream1))\nstream1.show('midi')",
      "execution_count": 24,
      "outputs": [
        {
          "data": {
            "image/png": "[encoded data removed]",
            "text/plain": "<IPython.core.display.Image object>"
          },
          "metadata": {},
          "output_type": "display_data"
        },
        {
          "data": {
            "text/html": "\n                <div id='midiPlayerDiv186'></div>\n                <link rel=\"stylesheet\" href=\"//cuthbertLab.github.io/music21j/css/m21.css\"\n                    type=\"text/css\" />\n                <script>\n                require.config({\n                    paths: {'music21': '//cuthbertLab.github.io/music21j/src/music21'}\n                });\n                require(['music21'], function() {\n                               mp = new music21.miditools.MidiPlayer();\n                               mp.addPlayer('#midiPlayerDiv186');\n                               mp.base64Load('data:audio/midi;base64,TVRoZAAAAAYAAQABBABNVHJrAAAAOgD/AwAA4ABAiAD/WAQDAhgIAJA8WpAAgDwAAJA+WogAgD4AAJBAWpAAgEAAAJBBWogAgEEAiAD/LwA=');\n                        });\n                </script>",
            "text/plain": "<IPython.core.display.HTML object>"
          },
          "metadata": {},
          "output_type": "display_data"
        }
      ]
    },
    {
      "metadata": {
        "trusted": false
      },
      "cell_type": "code",
      "source": "def viewer(s, typ='stream'):\n    def _viewer(_s):\n        display(render(_s))\n        _s.show('midi')\n\n    if typ=='stream':\n        _viewer(s)\n    elif typ=='tiny':\n        _viewer(converter.parse('tinyNotation: {}'.format(s)))",
      "execution_count": 28,
      "outputs": []
    },
    {
      "metadata": {
        "trusted": false
      },
      "cell_type": "code",
      "source": "#Capital letters root on C in bass clef\n#lower case c is middle C\nviewer(\"4/4 r C4 D E8 F G16 A B c\",'tiny')",
      "execution_count": 32,
      "outputs": [
        {
          "data": {
            "image/png": "[encoded data removed]",
            "text/plain": "<IPython.core.display.Image object>"
          },
          "metadata": {},
          "output_type": "display_data"
        },
        {
          "data": {
            "text/html": "\n                <div id='midiPlayerDiv1146'></div>\n                <link rel=\"stylesheet\" href=\"//cuthbertLab.github.io/music21j/css/m21.css\"\n                    type=\"text/css\" />\n                <script>\n                require.config({\n                    paths: {'music21': '//cuthbertLab.github.io/music21j/src/music21'}\n                });\n                require(['music21'], function() {\n                               mp = new music21.miditools.MidiPlayer();\n                               mp.addPlayer('#midiPlayerDiv1146');\n                               mp.base64Load('data:audio/midi;base64,TVRoZAAAAAYAAQABBABNVHJrAAAAXgD/AwAA4ABAAP9YBAQCGAiIAJAwWogAgDAAAJAyWogAgDIAAJA0WoQAgDQAAJA1WoQAgDUAAJA3WoIAgDcAAJA5WoIAgDkAAJA7WoIAgDsAAJA8WoIAgDwAiAD/LwA=');\n                        });\n                </script>",
            "text/plain": "<IPython.core.display.HTML object>"
          },
          "metadata": {},
          "output_type": "display_data"
        }
      ]
    },
    {
      "metadata": {
        "trusted": false
      },
      "cell_type": "code",
      "source": "#Apostrophe suffix is C above middle C\nviewer(\"4/4 r c4 d e8 f g16 a b c'\",'tiny')",
      "execution_count": 43,
      "outputs": [
        {
          "data": {
            "image/png": "[encoded data removed]",
            "text/plain": "<IPython.core.display.Image object>"
          },
          "metadata": {},
          "output_type": "display_data"
        },
        {
          "data": {
            "text/html": "\n                <div id='midiPlayerDiv1533'></div>\n                <link rel=\"stylesheet\" href=\"//cuthbertLab.github.io/music21j/css/m21.css\"\n                    type=\"text/css\" />\n                <script>\n                require.config({\n                    paths: {'music21': '//cuthbertLab.github.io/music21j/src/music21'}\n                });\n                require(['music21'], function() {\n                               mp = new music21.miditools.MidiPlayer();\n                               mp.addPlayer('#midiPlayerDiv1533');\n                               mp.base64Load('data:audio/midi;base64,TVRoZAAAAAYAAQABBABNVHJrAAAAXgD/AwAA4ABAAP9YBAQCGAiIAJA8WogAgDwAAJA+WogAgD4AAJBAWoQAgEAAAJBBWoQAgEEAAJBDWoIAgEMAAJBFWoIAgEUAAJBHWoIAgEcAAJBIWoIAgEgAiAD/LwA=');\n                        });\n                </script>",
            "text/plain": "<IPython.core.display.HTML object>"
          },
          "metadata": {},
          "output_type": "display_data"
        }
      ]
    },
    {
      "metadata": {
        "trusted": false
      },
      "cell_type": "code",
      "source": "viewer(\"4/4 r f'1 g' a' b' c'' d'' e''\",'tiny')",
      "execution_count": 80,
      "outputs": [
        {
          "data": {
            "image/png": "[encoded data removed]",
            "text/plain": "<IPython.core.display.Image object>"
          },
          "metadata": {},
          "output_type": "display_data"
        },
        {
          "data": {
            "text/html": "\n                <div id='midiPlayerDiv3710'></div>\n                <link rel=\"stylesheet\" href=\"//cuthbertLab.github.io/music21j/css/m21.css\"\n                    type=\"text/css\" />\n                <script>\n                require.config({\n                    paths: {'music21': '//cuthbertLab.github.io/music21j/src/music21'}\n                });\n                require(['music21'], function() {\n                               mp = new music21.miditools.MidiPlayer();\n                               mp.addPlayer('#midiPlayerDiv3710');\n                               mp.base64Load('data:audio/midi;base64,TVRoZAAAAAYAAQABBABNVHJrAAAAVQD/AwAA4ABAAP9YBAQCGAiIAJBNWqAAgE0AAJBPWqAAgE8AAJBRWqAAgFEAAJBTWqAAgFMAAJBUWqAAgFQAAJBWWqAAgFYAAJBYWqAAgFgAiAD/LwA=');\n                        });\n                </script>",
            "text/plain": "<IPython.core.display.HTML object>"
          },
          "metadata": {},
          "output_type": "display_data"
        }
      ]
    },
    {
      "metadata": {
        "trusted": false
      },
      "cell_type": "code",
      "source": "viewer(\"4/4 r GG1 FF EE DD CC BBB AAA\",'tiny')",
      "execution_count": 78,
      "outputs": [
        {
          "data": {
            "image/png": "[encoded data removed]",
            "text/plain": "<IPython.core.display.Image object>"
          },
          "metadata": {},
          "output_type": "display_data"
        },
        {
          "data": {
            "text/html": "\n                <div id='midiPlayerDiv3113'></div>\n                <link rel=\"stylesheet\" href=\"//cuthbertLab.github.io/music21j/css/m21.css\"\n                    type=\"text/css\" />\n                <script>\n                require.config({\n                    paths: {'music21': '//cuthbertLab.github.io/music21j/src/music21'}\n                });\n                require(['music21'], function() {\n                               mp = new music21.miditools.MidiPlayer();\n                               mp.addPlayer('#midiPlayerDiv3113');\n                               mp.base64Load('data:audio/midi;base64,TVRoZAAAAAYAAQABBABNVHJrAAAAVQD/AwAA4ABAAP9YBAQCGAiIAJArWqAAgCsAAJApWqAAgCkAAJAoWqAAgCgAAJAmWqAAgCYAAJAkWqAAgCQAAJAjWqAAgCMAAJAhWqAAgCEAiAD/LwA=');\n                        });\n                </script>",
            "text/plain": "<IPython.core.display.HTML object>"
          },
          "metadata": {},
          "output_type": "display_data"
        }
      ]
    },
    {
      "metadata": {
        "trusted": false
      },
      "cell_type": "code",
      "source": "",
      "execution_count": null,
      "outputs": []
    }
  ],
  "metadata": {
    "hide_input": false,
    "kernelspec": {
      "name": "python3",
      "display_name": "Python 3",
      "language": "python"
    },
    "language_info": {
      "mimetype": "text/x-python",
      "nbconvert_exporter": "python",
      "name": "python",
      "file_extension": ".py",
      "version": "3.5.4",
      "pygments_lexer": "ipython3",
      "codemirror_mode": {
        "version": 3,
        "name": "ipython"
      }
    }
  },
  "nbformat": 4,
  "nbformat_minor": 2
}