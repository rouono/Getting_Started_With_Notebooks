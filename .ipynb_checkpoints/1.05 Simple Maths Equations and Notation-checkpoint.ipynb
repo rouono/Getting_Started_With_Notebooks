{
 "cells": [
  {
   "cell_type": "markdown",
   "metadata": {
    "collapsed": true
   },
   "source": [
    "# Simple Maths Equations\n",
    "\n",
    "As well as rendering simple text based markdown scripts as richer HTML, Jupyter notebook markdown cells can also include `TeX`/`LateX` script using *Mathjax*.\n",
    "\n",
    "Mathematical expressions can also be defined, rendered and evaluated, using the `sympy` symbolic maths package, an approach that can be used to limit the potential for introducing errors when equations are calculated or solved.\n",
    "\n",
    "Note that `sympy` code can be embedded - and rendered - within notebook markdown cells. However, this requires:\n",
    "\n",
    "- the `Python markdown` extension to be enabled (and the notebook reloaded?)\n",
    "- the notebook to be trusted\n",
    "- the markdown cell to be run in the correct order (with any code cells it is dependent on being run first).\n",
    "\n",
    "Whilst authoring maths texts directly using *LaTeX* provides a significant degree of control over the typographical properties, it is often at the risk that logical or numerical errors can enter the text if it spans several related mathematical expressions. The ability to generate at least \"first draft\" *LaTeX* expressions directly from expressions derived from symbolic maths manipulations may help reduce mathematical errors or inconsistencies within a text that is heavy in mathematical derivations."
   ]
  },
  {
   "cell_type": "markdown",
   "metadata": {
    "collapsed": true
   },
   "source": [
    "## `Mathjax`\n",
    "\n",
    "For example, including the following as \"raw\" text in a markdown cell:\n",
    "\n",
    "```\n",
    "\\begin{align}\n",
    "\\dot{x} & = \\sigma(y-x) \\\\\n",
    "\\dot{y} & = \\rho x - y - xz \\\\\n",
    "\\dot{z} & = -\\beta z + xy\n",
    "\\end{align}\n",
    "```\n",
    "\n",
    "renders as:\n",
    "\n",
    "\\begin{align}\n",
    "\\dot{x} & = \\sigma(y-x) \\\\\n",
    "\\dot{y} & = \\rho x - y - xz \\\\\n",
    "\\dot{z} & = -\\beta z + xy\n",
    "\\end{align}\n",
    "\n",
    "*Double click on this cell in a running notebook environment to enter cell edit mode to see the raw markdown / LaTex.*"
   ]
  },
  {
   "cell_type": "markdown",
   "metadata": {},
   "source": [
    "More complex expressions / equations are, of course, possible:\n",
    "\n",
    "\\begin{equation*}\n",
    "\\left( \\sum_{k=1}^n a_k b_k \\right)^2 \\leq \\left( \\sum_{k=1}^n a_k^2 \\right) \\left( \\sum_{k=1}^n b_k^2 \\right)\n",
    "\\end{equation*}"
   ]
  },
  {
   "cell_type": "markdown",
   "metadata": {},
   "source": [
    "We can also include inline `TeX` expressions, such as $\\sqrt{3x-1}+(1+x)^2$, which means we don't need to break onto a new line if we don't want to.\n",
    "\n",
    "This is achieved by enclosing the expression within start and end `$` characters.\n",
    "\n",
    "For example, the above inline expression is written inline as `$\\sqrt{3x-1}+(1+x)^2$`."
   ]
  },
  {
   "cell_type": "markdown",
   "metadata": {},
   "source": [
    "A full range of multiline and matrix notations are available too:\n",
    "\n",
    "\\begin{cases} 3x + 5y + z = 0 \\\\ 7x – 2y + 4z = 4 \\\\ -6x + 3y + 2z  = -2\\end{cases}\n",
    "\n",
    "\\begin{equation*}\\left| \\begin{array}{cc} x_{11} & x_{12} \\\\ x_{21} & x_{22} \\end{array} \\right|\\end{equation*}\n",
    "\n",
    "\\begin{bmatrix} 0 & \\cdots & 0 \\\\ \\vdots & \\ddots & \\vdots \\\\ 0 & \\cdots & 0 \\end{bmatrix}\n",
    "\n",
    "\n",
    "\n",
    "*Some [more examples](https://kogler.wordpress.com/2008/03/21/latex-multiline-equations-systems-and-matrices/) to draw on...*"
   ]
  },
  {
   "cell_type": "markdown",
   "metadata": {},
   "source": [
    "## Equation Numbering\n",
    "\n",
    "A notebook extension adds in the ability to automatically number equations within a notebook.\n",
    "\n",
    "The extension can be enabled from the extension configurator: [equation numbering](../nbextensions/?nbextension=equation-numbering/main).\n",
    "\n",
    "Numbered equations are identified by specifying them within `{equation}` tags:\n",
    "\n",
    "```\n",
    "\\begin{equation}\n",
    "E = F \\cdot s \n",
    "\\end{equation}\n",
    "```\n",
    "\n",
    "Enable the extension and then refresh this notebook page.\n",
    "\n",
    "Select and run the following notebook cell to re-render it:"
   ]
  },
  {
   "cell_type": "markdown",
   "metadata": {},
   "source": [
    "\\begin{equation}\n",
    "E = F \\cdot s \n",
    "\\end{equation}\n",
    "\n",
    "\\begin{equation*}\n",
    "E = F \\cdot s \n",
    "\\end{equation*}\n",
    "\n",
    "\\begin{equation}\n",
    "E = F \\cdot s \n",
    "\\end{equation}"
   ]
  },
  {
   "cell_type": "markdown",
   "metadata": {},
   "source": [
    "## `sympy`\n",
    "\n",
    "`sympy` is a symbolic maths package that allows equatrions to be rendered - and calculated - in a similar way to the way mathematical expressions can be handled in a package such as Mathematica. (Note that [programming language kernels](https://github.com/jupyter/jupyter/wiki/Jupyter-kernels) other than Python can be used by Jupyter notebook code cells, including *SageMath*, *Matlab*, *Scilab* and *Octave*.)\n",
    "\n",
    "Part of the advantage of using a symbolic maths engine to support the production of educational materials is that we can minimise the chances of introducing errors in some expressions by allowing a machine to calculate them, albeit subject to the logical ordering or layout constraints imposed by the symobolic maths engine.\n",
    "\n",
    "Using `sympy` on a Jupyter python kernel is not necessarily the best way of writing maths based materials, but it's free and available directly on Azure Notebooks without the need to install any other kernels."
   ]
  },
  {
   "cell_type": "code",
   "execution_count": 12,
   "metadata": {},
   "outputs": [],
   "source": [
    "%%capture\n",
    "try:\n",
    "    import sympy\n",
    "except:\n",
    "    !pip install sympy"
   ]
  },
  {
   "cell_type": "code",
   "execution_count": 7,
   "metadata": {},
   "outputs": [],
   "source": [
    "#Enable pretty printing in the notebooks\n",
    "from sympy import init_printing\n",
    "init_printing() "
   ]
  },
  {
   "cell_type": "code",
   "execution_count": 8,
   "metadata": {},
   "outputs": [
    {
     "data": {
      "image/png": "[encoded data removed]",
      "text/latex": [
       "$$\\sum_{n=a}^{b} \\left(2^{n} + 6 n^{2}\\right)$$"
      ],
      "text/plain": [
       "  b              \n",
       " ___             \n",
       " ╲               \n",
       "  ╲   ⎛ n      2⎞\n",
       "  ╱   ⎝2  + 6⋅n ⎠\n",
       " ╱               \n",
       " ‾‾‾             \n",
       "n = a            "
      ]
     },
     "execution_count": 8,
     "metadata": {},
     "output_type": "execute_result"
    }
   ],
   "source": [
    "from sympy import symbols, Sum\n",
    "\n",
    "a, b, n = symbols('a b n')\n",
    "s= Sum(6*n**2 + 2**n, (n, a, b))\n",
    "s"
   ]
  },
  {
   "cell_type": "code",
   "execution_count": 9,
   "metadata": {},
   "outputs": [
    {
     "data": {
      "image/png": "[encoded data removed]",
      "text/latex": [
       "$$- 2^{a} + 2^{b + 1} - 2 a^{3} + 3 a^{2} - a + 2 b^{3} + 3 b^{2} + b$$"
      ],
      "text/plain": [
       "   a    b + 1      3      2          3      2    \n",
       "- 2  + 2      - 2⋅a  + 3⋅a  - a + 2⋅b  + 3⋅b  + b"
      ]
     },
     "execution_count": 9,
     "metadata": {},
     "output_type": "execute_result"
    }
   ],
   "source": [
    "#Calculate the summation\n",
    "s.doit()"
   ]
  },
  {
   "cell_type": "code",
   "execution_count": 10,
   "metadata": {},
   "outputs": [
    {
     "data": {
      "image/png": "[encoded data removed]",
      "text/latex": [
       "$$\\sum_{n=a}^{b} \\left(2^{n} + 6 n^{2}\\right) = - 2^{a} + 2^{b + 1} - 2 a^{3} + 3 a^{2} - a + 2 b^{3} + 3 b^{2} + b$$"
      ],
      "text/plain": [
       "  b                                                                  \n",
       " ___                                                                 \n",
       " ╲                                                                   \n",
       "  ╲   ⎛ n      2⎞      a    b + 1      3      2          3      2    \n",
       "  ╱   ⎝2  + 6⋅n ⎠ = - 2  + 2      - 2⋅a  + 3⋅a  - a + 2⋅b  + 3⋅b  + b\n",
       " ╱                                                                   \n",
       " ‾‾‾                                                                 \n",
       "n = a                                                                "
      ]
     },
     "execution_count": 10,
     "metadata": {},
     "output_type": "execute_result"
    }
   ],
   "source": [
    "#We can present this as an equality\n",
    "from sympy import Eq\n",
    "Eq(s, s.doit())"
   ]
  },
  {
   "cell_type": "code",
   "execution_count": 11,
   "metadata": {},
   "outputs": [
    {
     "data": {
      "image/png": "[encoded data removed]",
      "text/latex": [
       "$$\\sum_{n=1}^{2} \\left(2^{n} + 6 n^{2}\\right) = 36$$"
      ],
      "text/plain": [
       "  2                   \n",
       " ___                  \n",
       " ╲                    \n",
       "  ╲   ⎛ n      2⎞     \n",
       "  ╱   ⎝2  + 6⋅n ⎠ = 36\n",
       " ╱                    \n",
       " ‾‾‾                  \n",
       "n = 1                 "
      ]
     },
     "execution_count": 11,
     "metadata": {},
     "output_type": "execute_result"
    }
   ],
   "source": [
    "#We can substitute in values and perform the calculation\n",
    "s2=s.subs(a, 1).subs(b, 2)\n",
    "Eq(s2, s2.doit())"
   ]
  },
  {
   "cell_type": "markdown",
   "metadata": {},
   "source": [
    "`sympy` can also simplify expressions. For example:"
   ]
  },
  {
   "cell_type": "code",
   "execution_count": 75,
   "metadata": {},
   "outputs": [
    {
     "data": {
      "image/png": "[encoded data removed]",
      "text/latex": [
       "$$\\sin{\\left (x \\right )} \\cos{\\left (x \\right )} = \\frac{1}{2} \\sin{\\left (2 x \\right )}$$"
      ],
      "text/plain": [
       "                sin(2⋅x)\n",
       "sin(x)⋅cos(x) = ────────\n",
       "                   2    "
      ]
     },
     "execution_count": 75,
     "metadata": {},
     "output_type": "execute_result"
    }
   ],
   "source": [
    "from sympy import simplify\n",
    "\n",
    "from sympy import sin, cos\n",
    "\n",
    "x = symbols('x')\n",
    "expr = sin(x) * cos(x)\n",
    "\n",
    "Eq(expr,simplify(expr))"
   ]
  },
  {
   "cell_type": "markdown",
   "metadata": {
    "variables": {
     "Eq(expr,simplify(expr))": "$$\\sin{\\left (x \\right )} \\cos{\\left (x \\right )} = \\frac{1}{2} \\sin{\\left (2 x \\right )}$$"
    }
   },
   "source": [
    "Letting the machine calculate the simplified expression directly from the original expression removes the chances of error that occur when manually authoring such statements. For example, we can embed the above expression in a markdown cell as follows:\n",
    "\n",
    "{{Eq(expr,simplify(expr))}}\n"
   ]
  },
  {
   "cell_type": "markdown",
   "metadata": {},
   "source": [
    "### Solve a simple equation\n",
    "\n",
    "We can make use of values defined in code cells within markdown cells. For example:"
   ]
  },
  {
   "cell_type": "code",
   "execution_count": 80,
   "metadata": {},
   "outputs": [],
   "source": [
    "from sympy import factor\n",
    "\n",
    "eqn = Eq(x**3 + 2*x**2 + 4*x + 8, 0)\n",
    "feqn = factor(eqn)"
   ]
  },
  {
   "cell_type": "markdown",
   "metadata": {
    "variables": {
     "eqn": "$$x^{3} + 2 x^{2} + 4 x + 8 = 0$$",
     "feqn": "$$\\left(x + 2\\right) \\left(x^{2} + 4\\right) = 0$$"
    }
   },
   "source": [
    "We can define an equation:\n",
    "\n",
    "{{eqn}}\n",
    "\n",
    "and then factorise it:\n",
    "\n",
    "\n",
    "{{feqn}}\n",
    "\n",
    " \n",
    "(To render this cell correctly requires the *Python markdown* extension to be enabled,  the notebook trusted and the cell to be run.)"
   ]
  },
  {
   "cell_type": "markdown",
   "metadata": {},
   "source": [
    "We can also go round the other way:"
   ]
  },
  {
   "cell_type": "code",
   "execution_count": 16,
   "metadata": {},
   "outputs": [
    {
     "data": {
      "image/png": "[encoded data removed]",
      "text/latex": [
       "$$x^{3} + 2 x^{2} + 4 x + 8 = 0$$"
      ],
      "text/plain": [
       " 3      2              \n",
       "x  + 2⋅x  + 4⋅x + 8 = 0"
      ]
     },
     "execution_count": 16,
     "metadata": {},
     "output_type": "execute_result"
    }
   ],
   "source": [
    "from sympy import expand\n",
    "\n",
    "expand(factor(eqn))"
   ]
  },
  {
   "cell_type": "markdown",
   "metadata": {},
   "source": [
    "Unfortunately, I don't think there's a way of seeing what steps are taking when factorising the original function, which makes is slightly less useful for teaching purposes. However, we can still use `sympy` to check that our factorised or expanded solution is correct."
   ]
  },
  {
   "cell_type": "markdown",
   "metadata": {},
   "source": [
    "We can also solve the equation to find the numerical roots of it:"
   ]
  },
  {
   "cell_type": "code",
   "execution_count": 125,
   "metadata": {},
   "outputs": [
    {
     "name": "stdout",
     "output_type": "stream",
     "text": [
      "There are 3 roots to this equation:\n"
     ]
    },
    {
     "data": {
      "image/png": "[encoded data removed]",
      "text/latex": [
       "$$\\left [ -2, \\quad - 2 i, \\quad 2 i\\right ]$$"
      ],
      "text/plain": [
       "[-2, -2⋅ⅈ, 2⋅ⅈ]"
      ]
     },
     "metadata": {},
     "output_type": "display_data"
    }
   ],
   "source": [
    "from sympy import solve\n",
    "\n",
    "# We can solve the equation automatically:\n",
    "roots=solve(eqn)\n",
    "print('There are {} roots to this equation:'.format(len(roots)))\n",
    "display(roots)"
   ]
  },
  {
   "cell_type": "markdown",
   "metadata": {
    "variables": {
     "eqn": "$$x^{3} + 2 x^{2} + 4 x + 8 = 0$$"
    }
   },
   "source": [
    "We can embed the `sympy` expressions in a markdown cell if we enable the `Python Markdown` notebook extension and check that the notebook is trusted.\n",
    "\n",
    "For example, the solution of:\n",
    "\n",
    "{{eqn}}"
   ]
  },
  {
   "cell_type": "markdown",
   "metadata": {
    "variables": {
     "solve(eqn, x)": "$$\\left [ -2, \\quad - 2 i, \\quad 2 i\\right ]$$",
     "str(len(roots))": "3"
    }
   },
   "source": [
    "has {{str(len(roots))}} roots, specifically:\n",
    "\n",
    "{{solve(eqn, x)}}"
   ]
  },
  {
   "cell_type": "markdown",
   "metadata": {},
   "source": [
    "### Calculus\n",
    "\n",
    "We can use `sympy` to help us write differential equations as well as differentiating and integrating expressions and solving differential and integral equations."
   ]
  },
  {
   "cell_type": "code",
   "execution_count": 45,
   "metadata": {},
   "outputs": [
    {
     "data": {
      "image/png": "[encoded data removed]",
      "text/latex": [
       "$$\\frac{d}{d x} \\sin{\\left (x \\right )} = \\cos{\\left (x \\right )}$$"
      ],
      "text/plain": [
       "d                  \n",
       "──(sin(x)) = cos(x)\n",
       "dx                 "
      ]
     },
     "execution_count": 45,
     "metadata": {},
     "output_type": "execute_result"
    }
   ],
   "source": [
    "from sympy import Derivative\n",
    "expr = sin(x)\n",
    "Eq(Derivative(expr, x), Derivative(expr, x).doit())"
   ]
  },
  {
   "cell_type": "code",
   "execution_count": 46,
   "metadata": {},
   "outputs": [
    {
     "data": {
      "image/png": "[encoded data removed]",
      "text/latex": [
       "$$\\frac{d}{d x} \\sin{\\left (x \\right )} = \\cos{\\left (x \\right )}$$"
      ],
      "text/plain": [
       "d                  \n",
       "──(sin(x)) = cos(x)\n",
       "dx                 "
      ]
     },
     "execution_count": 46,
     "metadata": {},
     "output_type": "execute_result"
    }
   ],
   "source": [
    "#We can also call the diff function to differentiate an expression explicitly\n",
    "from sympy import diff\n",
    "Eq(Derivative(expr, x), diff(expr, x))"
   ]
  },
  {
   "cell_type": "code",
   "execution_count": 55,
   "metadata": {},
   "outputs": [
    {
     "data": {
      "image/png": "[encoded data removed]",
      "text/latex": [
       "$$\\int_{0}^{\\frac{\\pi}{2}} \\sin{\\left (x \\right )}\\, dx$$"
      ],
      "text/plain": [
       "π          \n",
       "─          \n",
       "2          \n",
       "⌠          \n",
       "⎮ sin(x) dx\n",
       "⌡          \n",
       "0          "
      ]
     },
     "execution_count": 55,
     "metadata": {},
     "output_type": "execute_result"
    }
   ],
   "source": [
    "#We can add limits to integrals\n",
    "from sympy import pi\n",
    "Integral(sin(x), (x, 0, pi/2))"
   ]
  },
  {
   "cell_type": "code",
   "execution_count": 52,
   "metadata": {},
   "outputs": [
    {
     "data": {
      "image/png": "[encoded data removed]",
      "text/latex": [
       "$$\\int \\sin{\\left (x \\right )}\\, dx = - \\cos{\\left (x \\right )}$$"
      ],
      "text/plain": [
       "⌠                    \n",
       "⎮ sin(x) dx = -cos(x)\n",
       "⌡                    "
      ]
     },
     "execution_count": 52,
     "metadata": {},
     "output_type": "execute_result"
    }
   ],
   "source": [
    "#And calculate integrals either directly from an Integral using .doit(), or via integrate()\n",
    "from sympy import integrate, Integral\n",
    "Eq(Integral(expr, x), integrate(expr, x))"
   ]
  },
  {
   "cell_type": "code",
   "execution_count": 41,
   "metadata": {},
   "outputs": [
    {
     "data": {
      "image/png": "[encoded data removed]",
      "text/latex": [
       "$$\\int_{a}^{b} e^{- x}\\, dx = - e^{- b} + e^{- a}$$"
      ],
      "text/plain": [
       "b                     \n",
       "⌠                     \n",
       "⎮  -x         -b    -a\n",
       "⎮ ℯ   dx = - ℯ   + ℯ  \n",
       "⌡                     \n",
       "a                     "
      ]
     },
     "execution_count": 41,
     "metadata": {},
     "output_type": "execute_result"
    }
   ],
   "source": [
    "#We can solve integrals symbolically, although we can't see the working...\n",
    "expr=Integral(exp(-x), (x, a, b))\n",
    "Eq(expr,expr.doit())"
   ]
  },
  {
   "cell_type": "code",
   "execution_count": 34,
   "metadata": {},
   "outputs": [
    {
     "data": {
      "image/png": "[encoded data removed]",
      "text/latex": [
       "$$\\int_{0}^{\\infty} e^{- x}\\, dx = 1$$"
      ],
      "text/plain": [
       "∞           \n",
       "⌠           \n",
       "⎮  -x       \n",
       "⎮ ℯ   dx = 1\n",
       "⌡           \n",
       "0           "
      ]
     },
     "execution_count": 34,
     "metadata": {},
     "output_type": "execute_result"
    }
   ],
   "source": [
    "#And we can also calculate integrals when limits are provided\n",
    "from sympy import oo, exp\n",
    "expr=Integral(exp(-x), (x, 0, oo))\n",
    "Eq(expr,expr.doit())"
   ]
  },
  {
   "cell_type": "markdown",
   "metadata": {},
   "source": [
    "### Matrices\n",
    "\n",
    "We have ready access to matrix representations within `sympy`."
   ]
  },
  {
   "cell_type": "code",
   "execution_count": 140,
   "metadata": {},
   "outputs": [
    {
     "data": {
      "text/latex": [
       "$$\\left[\\begin{matrix}1 & x\\\\y & 1\\end{matrix}\\right]$$"
      ],
      "text/plain": [
       "⎡1  x⎤\n",
       "⎢    ⎥\n",
       "⎣y  1⎦"
      ]
     },
     "execution_count": 140,
     "metadata": {},
     "output_type": "execute_result"
    }
   ],
   "source": [
    "from sympy import Matrix, Symbol\n",
    "\n",
    "y = Symbol('y')\n",
    "#Define the matrix as a list of row lists\n",
    "#The matrix element values may be symbols\n",
    "A = Matrix([[1,x], [y,1]])\n",
    "A"
   ]
  },
  {
   "cell_type": "code",
   "execution_count": 72,
   "metadata": {},
   "outputs": [
    {
     "data": {
      "text/latex": [
       "$$\\left[\\begin{matrix}1 & y\\\\x & 1\\end{matrix}\\right]$$"
      ],
      "text/plain": [
       "⎡1  y⎤\n",
       "⎢    ⎥\n",
       "⎣x  1⎦"
      ]
     },
     "execution_count": 72,
     "metadata": {},
     "output_type": "execute_result"
    }
   ],
   "source": [
    "#Find the transpose\n",
    "A.T"
   ]
  },
  {
   "cell_type": "code",
   "execution_count": 62,
   "metadata": {},
   "outputs": [
    {
     "data": {
      "text/latex": [
       "$$\\left[\\begin{matrix}1 & x\\\\5 & 1\\end{matrix}\\right]$$"
      ],
      "text/plain": [
       "⎡1  x⎤\n",
       "⎢    ⎥\n",
       "⎣5  1⎦"
      ]
     },
     "execution_count": 62,
     "metadata": {},
     "output_type": "execute_result"
    }
   ],
   "source": [
    "#symbols can be instantiated with particular values...\n",
    "A.subs(y,5)"
   ]
  },
  {
   "cell_type": "code",
   "execution_count": 70,
   "metadata": {},
   "outputs": [
    {
     "data": {
      "text/latex": [
       "$$\\left[\\begin{matrix}x y + 1 & 2 x\\\\2 y & x y + 1\\end{matrix}\\right] = \\left[\\begin{matrix}3 y + 1 & 6\\\\2 y & 3 y + 1\\end{matrix}\\right]$$"
      ],
      "text/plain": [
       "⎡x⋅y + 1    2⋅x  ⎤ = ⎡3⋅y + 1     6   ⎤\n",
       "⎢                ⎥   ⎢                ⎥\n",
       "⎣  2⋅y    x⋅y + 1⎦   ⎣  2⋅y    3⋅y + 1⎦"
      ]
     },
     "execution_count": 70,
     "metadata": {},
     "output_type": "execute_result"
    }
   ],
   "source": [
    "#We can also do sums on matrices\n",
    "A2=A**2\n",
    "Eq(A2,A2.subs(x,3))"
   ]
  },
  {
   "cell_type": "code",
   "execution_count": 74,
   "metadata": {},
   "outputs": [
    {
     "data": {
      "text/latex": [
       "$$\\left[\\begin{matrix}x^{2} + 1 & x + y\\\\x + y & y^{2} + 1\\end{matrix}\\right]$$"
      ],
      "text/plain": [
       "⎡ 2            ⎤\n",
       "⎢x  + 1  x + y ⎥\n",
       "⎢              ⎥\n",
       "⎢         2    ⎥\n",
       "⎣x + y   y  + 1⎦"
      ]
     },
     "execution_count": 74,
     "metadata": {},
     "output_type": "execute_result"
    }
   ],
   "source": [
    "A * A.T"
   ]
  },
  {
   "cell_type": "markdown",
   "metadata": {},
   "source": [
    "### Simultaneous Linear Equations\n",
    "\n",
    "??https://stackoverflow.com/a/31547816/454773"
   ]
  },
  {
   "cell_type": "code",
   "execution_count": 146,
   "metadata": {},
   "outputs": [
    {
     "data": {
      "image/png": "[encoded data removed]",
      "text/latex": [
       "$$\\left [ 2 x + y = 10, \\quad x - 2 y = 11\\right ]$$"
      ],
      "text/plain": [
       "[2⋅x + y = 10, x - 2⋅y = 11]"
      ]
     },
     "execution_count": 146,
     "metadata": {},
     "output_type": "execute_result"
    }
   ],
   "source": [
    "equations = [\n",
    "    Eq( 2*x + 1*y ,  10 ),\n",
    "    Eq( 1*x - 2*y ,  11 )\n",
    "]\n",
    "equations"
   ]
  },
  {
   "cell_type": "markdown",
   "metadata": {},
   "source": [
    "I'm not sure if there's a `sympy` way of doing this, but we can construct a hacky route to churning a list of equations into something a little more nicely formatted:"
   ]
  },
  {
   "cell_type": "code",
   "execution_count": 162,
   "metadata": {},
   "outputs": [
    {
     "data": {
      "text/latex": [
       "\\begin{cases}2 x + y = 10 \\\\ x - 2 y = 11\\end{cases}"
      ],
      "text/plain": [
       "<IPython.core.display.Latex object>"
      ]
     },
     "execution_count": 162,
     "metadata": {},
     "output_type": "execute_result"
    }
   ],
   "source": [
    "from sympy import latex\n",
    "eqs='\\\\begin{cases}'+' \\\\\\ '.join([latex(e) for e in equations])+'\\\\end{cases}'\n",
    "Latex(eqs)"
   ]
  },
  {
   "cell_type": "code",
   "execution_count": 106,
   "metadata": {},
   "outputs": [
    {
     "data": {
      "image/png": "[encoded data removed]",
      "text/latex": [
       "$$\\left \\{ x : \\frac{31}{5}, \\quad y : - \\frac{12}{5}\\right \\}$$"
      ],
      "text/plain": [
       "{x: 31/5, y: -12/5}"
      ]
     },
     "execution_count": 106,
     "metadata": {},
     "output_type": "execute_result"
    }
   ],
   "source": [
    "solve(equations)"
   ]
  },
  {
   "cell_type": "code",
   "execution_count": 88,
   "metadata": {},
   "outputs": [
    {
     "data": {
      "image/png": "[encoded data removed]",
      "text/latex": [
       "$$\\left\\{\\left ( \\frac{31}{5}, \\quad - \\frac{12}{5}\\right )\\right\\}$$"
      ],
      "text/plain": [
       "{(31/5, -12/5)}"
      ]
     },
     "execution_count": 88,
     "metadata": {},
     "output_type": "execute_result"
    }
   ],
   "source": [
    "#Alternatively (solutions are in order provided)\n",
    "linsolve(equations, (x, y))"
   ]
  },
  {
   "cell_type": "code",
   "execution_count": 122,
   "metadata": {},
   "outputs": [
    {
     "data": {
      "image/png": "[encoded data removed]",
      "text/latex": [
       "$$\\left\\{\\left ( \\frac{31}{5}, \\quad - \\frac{12}{5}\\right )\\right\\}$$"
      ],
      "text/plain": [
       "{(31/5, -12/5)}"
      ]
     },
     "execution_count": 122,
     "metadata": {},
     "output_type": "execute_result"
    }
   ],
   "source": [
    "#If we assume expressions are set to equal 0:\n",
    "linsolve([2*x + y - 10, x-2*y - 11 ], (x, y))"
   ]
  },
  {
   "cell_type": "code",
   "execution_count": 119,
   "metadata": {},
   "outputs": [
    {
     "data": {
      "text/latex": [
       "$$\\left[\\begin{matrix}2 & 1 & 10\\\\1 & -2 & 11\\end{matrix}\\right]$$"
      ],
      "text/plain": [
       "⎡2  1   10⎤\n",
       "⎢         ⎥\n",
       "⎣1  -2  11⎦"
      ]
     },
     "execution_count": 119,
     "metadata": {},
     "output_type": "execute_result"
    }
   ],
   "source": [
    "from sympy import linsolve\n",
    "\n",
    "#Augmented matrix; the final column shows what each row equation equals\n",
    "#The presentation is not ideal from a teaching sense\n",
    "#Ideally we would annotation the matrix, eg with a bar to separate off the solution?\n",
    "M = Matrix(([2, 1, 10], [1, -2, 11]))\n",
    "M"
   ]
  },
  {
   "cell_type": "markdown",
   "metadata": {},
   "source": [
    "Even if we don't get the form of *LaTeX* we want for a particular expression, we might be able to get a first draft of it from a `sympy` representation:"
   ]
  },
  {
   "cell_type": "code",
   "execution_count": 147,
   "metadata": {},
   "outputs": [
    {
     "data": {
      "text/plain": [
       "'\\\\left[\\\\begin{matrix}2 & 1 & 10\\\\\\\\1 & -2 & 11\\\\end{matrix}\\\\right]'"
      ]
     },
     "execution_count": 147,
     "metadata": {},
     "output_type": "execute_result"
    }
   ],
   "source": [
    "latex(M)"
   ]
  },
  {
   "cell_type": "code",
   "execution_count": 132,
   "metadata": {},
   "outputs": [
    {
     "data": {
      "image/png": "[encoded data removed]",
      "text/latex": [
       "$$\\left\\{\\left ( \\frac{31}{5}, \\quad - \\frac{12}{5}\\right )\\right\\}$$"
      ],
      "text/plain": [
       "{(31/5, -12/5)}"
      ]
     },
     "execution_count": 132,
     "metadata": {},
     "output_type": "execute_result"
    }
   ],
   "source": [
    "#We can solve the augmented matrix representation sttraghtforwardly\n",
    "linsolve(M, (x, y))"
   ]
  },
  {
   "cell_type": "code",
   "execution_count": 120,
   "metadata": {},
   "outputs": [
    {
     "data": {
      "image/png": "[encoded data removed]",
      "text/latex": [
       "$$\\left\\{\\left ( \\frac{31}{5}, \\quad - \\frac{12}{5}\\right )\\right\\}$$"
      ],
      "text/plain": [
       "{(31/5, -12/5)}"
      ]
     },
     "execution_count": 120,
     "metadata": {},
     "output_type": "execute_result"
    }
   ],
   "source": [
    "#This is perhaps slightly clearer in how we define things from the matrix, \n",
    "#  at least, if you know how to read indices!\n",
    "#We have system of the form A*x = b\n",
    "system = A, b = M[:, :-1], M[:, -1]\n",
    "\n",
    "linsolve(system, x, y)"
   ]
  },
  {
   "cell_type": "markdown",
   "metadata": {},
   "source": [
    "## `mhchem` Chemical Equations\n",
    "\n",
    "\n",
    "See the `3.1.1 Chemical Equations.ipynb` notebook for examples of how to enable and use the `mhchem` *MathJax* extension for writing simple chemical equations."
   ]
  },
  {
   "cell_type": "code",
   "execution_count": null,
   "metadata": {},
   "outputs": [],
   "source": []
  }
 ],
 "metadata": {
  "kernelspec": {
   "display_name": "Python 3",
   "language": "python",
   "name": "python3"
  },
  "language_info": {
   "codemirror_mode": {
    "name": "ipython",
    "version": 3
   },
   "file_extension": ".py",
   "mimetype": "text/x-python",
   "name": "python",
   "nbconvert_exporter": "python",
   "pygments_lexer": "ipython3",
   "version": "3.5.4"
  },
  "latex_envs": {
   "LaTeX_envs_menu_present": true,
   "autoclose": false,
   "autocomplete": true,
   "bibliofile": "biblio.bib",
   "cite_by": "apalike",
   "current_citInitial": 1,
   "eqLabelWithNumbers": true,
   "eqNumInitial": 1,
   "hotkeys": {
    "equation": "Ctrl-E",
    "itemize": "Ctrl-I"
   },
   "labels_anchors": false,
   "latex_user_defs": false,
   "report_style_numbering": false,
   "user_envs_cfg": false
  }
 },
 "nbformat": 4,
 "nbformat_minor": 2
}
