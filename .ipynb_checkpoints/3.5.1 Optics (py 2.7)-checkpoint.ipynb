{
 "cells": [
  {
   "cell_type": "markdown",
   "metadata": {
    "collapsed": true
   },
   "source": [
    "# Optics\n",
    "\n",
    "Resources that are useful for creating eucational materials related to the study of optics and require Python2.7."
   ]
  },
  {
   "cell_type": "markdown",
   "metadata": {},
   "source": [
    "## `opticspy`\n",
    "\n",
    "This looks handy  - it looks like the method for specifying set-ups is quite straightforward."
   ]
  },
  {
   "cell_type": "code",
   "execution_count": 1,
   "metadata": {},
   "outputs": [
    {
     "name": "stdout",
     "output_type": "stream",
     "text": [
      "Collecting git+https://github.com/Sterncat/opticspy.git\n",
      "  Cloning https://github.com/Sterncat/opticspy.git to /tmp/pip-req-build-HKRXlX\n",
      "Requirement already satisfied, skipping upgrade: numpy>=1.9.3 in /home/nbuser/anaconda2_501/lib/python2.7/site-packages (from opticspy==0.2.1) (1.15.0)\n",
      "Requirement already satisfied, skipping upgrade: matplotlib>=1.4.3 in /home/nbuser/anaconda2_501/lib/python2.7/site-packages (from opticspy==0.2.1) (2.1.0)\n",
      "Collecting unwrap (from opticspy==0.2.1)\n",
      "  Downloading https://files.pythonhosted.org/packages/0f/a0/c1f7d5b06ee68e0e3f64d279323f61dbca0c32053f0d6d06f56132d3f322/unwrap-0.1.1.tar.gz\n",
      "Requirement already satisfied, skipping upgrade: six>=1.10 in /home/nbuser/anaconda2_501/lib/python2.7/site-packages (from matplotlib>=1.4.3->opticspy==0.2.1) (1.11.0)\n",
      "Requirement already satisfied, skipping upgrade: python-dateutil>=2.0 in /home/nbuser/anaconda2_501/lib/python2.7/site-packages (from matplotlib>=1.4.3->opticspy==0.2.1) (2.6.1)\n",
      "Requirement already satisfied, skipping upgrade: backports.functools_lru_cache in /home/nbuser/anaconda2_501/lib/python2.7/site-packages (from matplotlib>=1.4.3->opticspy==0.2.1) (1.4)\n",
      "Requirement already satisfied, skipping upgrade: subprocess32 in /home/nbuser/anaconda2_501/lib/python2.7/site-packages (from matplotlib>=1.4.3->opticspy==0.2.1) (3.2.7)\n",
      "Requirement already satisfied, skipping upgrade: pytz in /home/nbuser/anaconda2_501/lib/python2.7/site-packages (from matplotlib>=1.4.3->opticspy==0.2.1) (2017.2)\n",
      "Requirement already satisfied, skipping upgrade: cycler>=0.10 in /home/nbuser/anaconda2_501/lib/python2.7/site-packages (from matplotlib>=1.4.3->opticspy==0.2.1) (0.10.0)\n",
      "Requirement already satisfied, skipping upgrade: pyparsing!=2.0.4,!=2.1.2,!=2.1.6,>=2.0.1 in /home/nbuser/anaconda2_501/lib/python2.7/site-packages (from matplotlib>=1.4.3->opticspy==0.2.1) (2.2.0)\n",
      "Requirement already satisfied, skipping upgrade: cffi>=0.7 in /home/nbuser/anaconda2_501/lib/python2.7/site-packages (from unwrap->opticspy==0.2.1) (1.10.0)\n",
      "Requirement already satisfied, skipping upgrade: pycparser in /home/nbuser/anaconda2_501/lib/python2.7/site-packages (from cffi>=0.7->unwrap->opticspy==0.2.1) (2.18)\n",
      "Building wheels for collected packages: opticspy, unwrap\n",
      "  Running setup.py bdist_wheel for opticspy ... \u001b[?25ldone\n",
      "\u001b[?25h  Stored in directory: /tmp/pip-ephem-wheel-cache-NeM8pM/wheels/ad/35/f5/2cc5cee6cda4534dcf5603e0d6b0fd92aa1db9caf98f839ba5\n",
      "  Running setup.py bdist_wheel for unwrap ... \u001b[?25ldone\n",
      "\u001b[?25h  Stored in directory: /home/nbuser/.cache/pip/wheels/a6/f6/90/907e1c41c75b731a3cb0485f309813c6940cdf44844bd380ee\n",
      "Successfully built opticspy unwrap\n",
      "Installing collected packages: unwrap, opticspy\n",
      "Successfully installed opticspy-0.2.1 unwrap-0.1.1\n"
     ]
    }
   ],
   "source": [
    "#%%capture\n",
    "#!pip2 install opticspy\n",
    "!pip2 install --upgrade git+https://github.com/Sterncat/opticspy.git"
   ]
  },
  {
   "cell_type": "code",
   "execution_count": 3,
   "metadata": {},
   "outputs": [],
   "source": [
    "%matplotlib inline\n",
    "from opticspy.ray_tracing import *"
   ]
  },
  {
   "cell_type": "code",
   "execution_count": 4,
   "metadata": {},
   "outputs": [
    {
     "name": "stdout",
     "output_type": "stream",
     "text": [
      "Triplet\n",
      "XF\n"
     ]
    }
   ],
   "source": [
    "New_Lens = lens.Lens(lens_name='Triplet',creator='XF')\n",
    "New_Lens.FNO = 5\n",
    "New_Lens.lens_info()"
   ]
  },
  {
   "cell_type": "code",
   "execution_count": 5,
   "metadata": {},
   "outputs": [
    {
     "name": "stdout",
     "output_type": "stream",
     "text": [
      "Add wavelength 656.3nm done\n",
      "Add wavelength 587.6nm done\n",
      "Add wavelength 486.1nm done\n",
      "List all wavelength information\n",
      "('Wavelength', 486.1, 'nm')\n",
      "('Wavelength', 587.6, 'nm')\n",
      "('Wavelength', 656.3, 'nm')\n"
     ]
    }
   ],
   "source": [
    "New_Lens.add_wavelength(wl = 656.30)\n",
    "New_Lens.add_wavelength(wl = 587.60)\n",
    "New_Lens.add_wavelength(wl = 486.10)\n",
    "New_Lens.list_wavelengths()"
   ]
  },
  {
   "cell_type": "code",
   "execution_count": 6,
   "metadata": {},
   "outputs": [
    {
     "name": "stdout",
     "output_type": "stream",
     "text": [
      "Add field angle:0 degree done\n",
      "Add field angle:14 degree done\n",
      "Add field angle:20 degree done\n",
      "list all fields information\n",
      "('Field angle:', 0)\n",
      "('Field angle:', 14)\n",
      "('Field angle:', 20)\n"
     ]
    }
   ],
   "source": [
    "New_Lens.add_field_YAN(angle=0)\n",
    "New_Lens.add_field_YAN(angle=14)\n",
    "New_Lens.add_field_YAN(angle=20)\n",
    "New_Lens.list_fields()"
   ]
  },
  {
   "cell_type": "code",
   "execution_count": null,
   "metadata": {},
   "outputs": [],
   "source": [
    "#The following cell raises an error\n",
    "#IOError: [Errno 2] No such file or directory: \n",
    "#'/home/nbuser/anaconda2_501/lib/python2.7/site-packages/opticspy/ray_tracing/glass_database/library.yml'\n",
    "\n",
    "# The glass database exists as a folder in:\n",
    "#https://github.com/Sterncat/opticspy/tree/master/opticspy/ray_tracing/glass_database\n",
    "\n",
    "#So it's not being installed properly?\n",
    "\n",
    "# Seems like evidence of s/thing related commented out in https://github.com/Sterncat/opticspy/blob/master/setup.py"
   ]
  },
  {
   "cell_type": "code",
   "execution_count": 2,
   "metadata": {},
   "outputs": [
    {
     "name": "stdout",
     "output_type": "stream",
     "text": [
      "aperture.py\t    gauss.pyc\t\t       jones.py\t\tseidel.py\r\n",
      "aperture.pyc\t    hartmann.py\t\t       jones.pyc\tseidel.pyc\r\n",
      "asphere.py\t    hartmann.pyc\t       lens\t\ttest\r\n",
      "asphere.pyc\t    __init__.py\t\t       mplot3d\t\ttools.py\r\n",
      "diffraction123.py   __init__.pyc\t       phaseunwrap.py\ttools.pyc\r\n",
      "diffraction123.pyc  interferometer_seidel.py   phaseunwrap.pyc\tzernike.py\r\n",
      "diffraction.py\t    interferometer_seidel.pyc  ray_tracing\tzernike.pyc\r\n",
      "diffraction.pyc     interferometer_zenike.py   seidel2.py\tzernike_rec.py\r\n",
      "gauss.py\t    interferometer_zenike.pyc  seidel2.pyc\tzernike_rec.pyc\r\n"
     ]
    }
   ],
   "source": [
    "!ls /home/nbuser/anaconda2_501/lib/python2.7/site-packages/opticspy"
   ]
  },
  {
   "cell_type": "code",
   "execution_count": 7,
   "metadata": {},
   "outputs": [
    {
     "name": "stdout",
     "output_type": "stream",
     "text": [
      "-----------------------Add surface:-------------------------------\n",
      "------------------------------------------------------------------\n",
      "| Num   |  Radius     |  Thickness   |  Glass           |  STO   |\n",
      "------------------------------------------------------------------\n",
      "| 1     |  Infinity   |  Infinity    |  air             |  False |\n",
      "------------------------------------------------------------------\n",
      "-----------------------Add surface:-------------------------------\n",
      "------------------------------------------------------------------\n",
      "| Num   |  Radius     |  Thickness   |  Glass           |  STO   |\n",
      "------------------------------------------------------------------\n",
      "| 2     |  41.1591    |  6.0976      |  S-BSM18_ohara   |  False |\n",
      "------------------------------------------------------------------\n"
     ]
    },
    {
     "ename": "IOError",
     "evalue": "[Errno 2] No such file or directory: '/home/nbuser/anaconda2_501/lib/python2.7/site-packages/opticspy/ray_tracing/glass_database/library.yml'",
     "output_type": "error",
     "traceback": [
      "\u001b[0;31m\u001b[0m",
      "\u001b[0;31mIOError\u001b[0mTraceback (most recent call last)",
      "\u001b[0;32m<ipython-input-7-8b6207385061>\u001b[0m in \u001b[0;36m<module>\u001b[0;34m()\u001b[0m\n\u001b[1;32m      1\u001b[0m \u001b[0mNew_Lens\u001b[0m\u001b[0;34m.\u001b[0m\u001b[0madd_surface\u001b[0m\u001b[0;34m(\u001b[0m\u001b[0mnumber\u001b[0m\u001b[0;34m=\u001b[0m\u001b[0;36m1\u001b[0m\u001b[0;34m,\u001b[0m\u001b[0mradius\u001b[0m\u001b[0;34m=\u001b[0m\u001b[0;36m10000000\u001b[0m\u001b[0;34m,\u001b[0m\u001b[0mthickness\u001b[0m\u001b[0;34m=\u001b[0m\u001b[0;36m1000000\u001b[0m\u001b[0;34m,\u001b[0m\u001b[0mglass\u001b[0m\u001b[0;34m=\u001b[0m\u001b[0;34m'air'\u001b[0m\u001b[0;34m,\u001b[0m\u001b[0moutput\u001b[0m\u001b[0;34m=\u001b[0m\u001b[0mTrue\u001b[0m\u001b[0;34m)\u001b[0m\u001b[0;34m\u001b[0m\u001b[0m\n\u001b[0;32m----> 2\u001b[0;31m \u001b[0mNew_Lens\u001b[0m\u001b[0;34m.\u001b[0m\u001b[0madd_surface\u001b[0m\u001b[0;34m(\u001b[0m\u001b[0mnumber\u001b[0m\u001b[0;34m=\u001b[0m\u001b[0;36m2\u001b[0m\u001b[0;34m,\u001b[0m\u001b[0mradius\u001b[0m\u001b[0;34m=\u001b[0m\u001b[0;36m41.15909\u001b[0m\u001b[0;34m,\u001b[0m\u001b[0mthickness\u001b[0m\u001b[0;34m=\u001b[0m\u001b[0;36m6.097555\u001b[0m \u001b[0;34m,\u001b[0m\u001b[0mglass\u001b[0m\u001b[0;34m=\u001b[0m\u001b[0;34m'S-BSM18_ohara'\u001b[0m\u001b[0;34m,\u001b[0m\u001b[0moutput\u001b[0m\u001b[0;34m=\u001b[0m\u001b[0mTrue\u001b[0m\u001b[0;34m)\u001b[0m\u001b[0;34m\u001b[0m\u001b[0m\n\u001b[0m\u001b[1;32m      3\u001b[0m \u001b[0mNew_Lens\u001b[0m\u001b[0;34m.\u001b[0m\u001b[0madd_surface\u001b[0m\u001b[0;34m(\u001b[0m\u001b[0mnumber\u001b[0m\u001b[0;34m=\u001b[0m\u001b[0;36m3\u001b[0m\u001b[0;34m,\u001b[0m\u001b[0mradius\u001b[0m\u001b[0;34m=\u001b[0m\u001b[0;34m-\u001b[0m\u001b[0;36m957.83146\u001b[0m\u001b[0;34m,\u001b[0m\u001b[0mthickness\u001b[0m\u001b[0;34m=\u001b[0m\u001b[0;36m9.349584\u001b[0m\u001b[0;34m,\u001b[0m\u001b[0mglass\u001b[0m\u001b[0;34m=\u001b[0m\u001b[0;34m'air'\u001b[0m\u001b[0;34m,\u001b[0m\u001b[0moutput\u001b[0m\u001b[0;34m=\u001b[0m\u001b[0mTrue\u001b[0m\u001b[0;34m)\u001b[0m\u001b[0;34m\u001b[0m\u001b[0m\n\u001b[1;32m      4\u001b[0m \u001b[0mNew_Lens\u001b[0m\u001b[0;34m.\u001b[0m\u001b[0madd_surface\u001b[0m\u001b[0;34m(\u001b[0m\u001b[0mnumber\u001b[0m\u001b[0;34m=\u001b[0m\u001b[0;36m4\u001b[0m\u001b[0;34m,\u001b[0m\u001b[0mradius\u001b[0m\u001b[0;34m=\u001b[0m\u001b[0;34m-\u001b[0m\u001b[0;36m51.32104\u001b[0m\u001b[0;34m,\u001b[0m\u001b[0mthickness\u001b[0m\u001b[0;34m=\u001b[0m\u001b[0;36m2.032518\u001b[0m\u001b[0;34m,\u001b[0m\u001b[0mglass\u001b[0m\u001b[0;34m=\u001b[0m\u001b[0;34m'N-SF2_schott'\u001b[0m\u001b[0;34m,\u001b[0m\u001b[0moutput\u001b[0m\u001b[0;34m=\u001b[0m\u001b[0mTrue\u001b[0m\u001b[0;34m)\u001b[0m\u001b[0;34m\u001b[0m\u001b[0m\n\u001b[1;32m      5\u001b[0m \u001b[0mNew_Lens\u001b[0m\u001b[0;34m.\u001b[0m\u001b[0madd_surface\u001b[0m\u001b[0;34m(\u001b[0m\u001b[0mnumber\u001b[0m\u001b[0;34m=\u001b[0m\u001b[0;36m5\u001b[0m\u001b[0;34m,\u001b[0m\u001b[0mradius\u001b[0m\u001b[0;34m=\u001b[0m\u001b[0;36m42.37768\u001b[0m \u001b[0;34m,\u001b[0m\u001b[0mthickness\u001b[0m\u001b[0;34m=\u001b[0m\u001b[0;36m5.995929\u001b[0m \u001b[0;34m,\u001b[0m\u001b[0mglass\u001b[0m\u001b[0;34m=\u001b[0m\u001b[0;34m'air'\u001b[0m\u001b[0;34m,\u001b[0m\u001b[0moutput\u001b[0m\u001b[0;34m=\u001b[0m\u001b[0mTrue\u001b[0m\u001b[0;34m)\u001b[0m\u001b[0;34m\u001b[0m\u001b[0m\n",
      "\u001b[0;32m/home/nbuser/anaconda2_501/lib/python2.7/site-packages/opticspy/ray_tracing/lens.pyc\u001b[0m in \u001b[0;36madd_surface\u001b[0;34m(self, number, radius, thickness, glass, STO, output)\u001b[0m\n\u001b[1;32m     80\u001b[0m \u001b[0;31m#-----------------------surface functions-----------------------\u001b[0m\u001b[0;34m\u001b[0m\u001b[0;34m\u001b[0m\u001b[0m\n\u001b[1;32m     81\u001b[0m         \u001b[0;32mdef\u001b[0m \u001b[0madd_surface\u001b[0m\u001b[0;34m(\u001b[0m\u001b[0mself\u001b[0m\u001b[0;34m,\u001b[0m\u001b[0mnumber\u001b[0m\u001b[0;34m,\u001b[0m\u001b[0mradius\u001b[0m\u001b[0;34m,\u001b[0m\u001b[0mthickness\u001b[0m\u001b[0;34m,\u001b[0m\u001b[0mglass\u001b[0m\u001b[0;34m,\u001b[0m\u001b[0mSTO\u001b[0m\u001b[0;34m=\u001b[0m\u001b[0mFalse\u001b[0m\u001b[0;34m,\u001b[0m\u001b[0moutput\u001b[0m\u001b[0;34m=\u001b[0m\u001b[0mFalse\u001b[0m\u001b[0;34m)\u001b[0m\u001b[0;34m:\u001b[0m\u001b[0;34m\u001b[0m\u001b[0m\n\u001b[0;32m---> 82\u001b[0;31m                 \u001b[0msurface\u001b[0m\u001b[0;34m.\u001b[0m\u001b[0madd\u001b[0m\u001b[0;34m(\u001b[0m\u001b[0mself\u001b[0m\u001b[0;34m,\u001b[0m\u001b[0mnumber\u001b[0m\u001b[0;34m,\u001b[0m\u001b[0mradius\u001b[0m\u001b[0;34m,\u001b[0m\u001b[0mthickness\u001b[0m\u001b[0;34m,\u001b[0m\u001b[0mglass\u001b[0m\u001b[0;34m,\u001b[0m\u001b[0mSTO\u001b[0m\u001b[0;34m,\u001b[0m\u001b[0moutput\u001b[0m\u001b[0;34m)\u001b[0m\u001b[0;34m\u001b[0m\u001b[0m\n\u001b[0m\u001b[1;32m     83\u001b[0m         \u001b[0;31m# def update_surface(self,number,radius,thickness,index,STO):\u001b[0m\u001b[0;34m\u001b[0m\u001b[0;34m\u001b[0m\u001b[0m\n\u001b[1;32m     84\u001b[0m         \u001b[0;31m#       surface.update(self,number,radius,thickness,index,STO)\u001b[0m\u001b[0;34m\u001b[0m\u001b[0;34m\u001b[0m\u001b[0m\n",
      "\u001b[0;32m/home/nbuser/anaconda2_501/lib/python2.7/site-packages/opticspy/ray_tracing/surface.pyc\u001b[0m in \u001b[0;36madd\u001b[0;34m(self, number, radius, thickness, glass, STO, output)\u001b[0m\n\u001b[1;32m     47\u001b[0m     New_Surface = Surface(wavelength_list = self.wavelength_list,number=number,\\\n\u001b[1;32m     48\u001b[0m                             \u001b[0mradius\u001b[0m\u001b[0;34m=\u001b[0m\u001b[0mradius\u001b[0m\u001b[0;34m,\u001b[0m\u001b[0mthickness\u001b[0m\u001b[0;34m=\u001b[0m\u001b[0mthickness\u001b[0m\u001b[0;34m,\u001b[0m\u001b[0mglass\u001b[0m\u001b[0;34m=\u001b[0m\u001b[0mglass\u001b[0m\u001b[0;34m,\u001b[0m\u001b[0mSTO\u001b[0m\u001b[0;34m=\u001b[0m\u001b[0mSTO\u001b[0m\u001b[0;34m,\u001b[0m\u001b[0;31m\\\u001b[0m\u001b[0;34m\u001b[0m\u001b[0m\n\u001b[0;32m---> 49\u001b[0;31m                             __diameter__=0)\n\u001b[0m\u001b[1;32m     50\u001b[0m     \u001b[0mself\u001b[0m\u001b[0;34m.\u001b[0m\u001b[0msurface_list\u001b[0m\u001b[0;34m.\u001b[0m\u001b[0mappend\u001b[0m\u001b[0;34m(\u001b[0m\u001b[0mNew_Surface\u001b[0m\u001b[0;34m)\u001b[0m\u001b[0;34m\u001b[0m\u001b[0m\n\u001b[1;32m     51\u001b[0m \u001b[0;34m\u001b[0m\u001b[0m\n",
      "\u001b[0;32m/home/nbuser/anaconda2_501/lib/python2.7/site-packages/opticspy/ray_tracing/surface.pyc\u001b[0m in \u001b[0;36m__init__\u001b[0;34m(self, wavelength_list, number, radius, thickness, glass, STO, __diameter__)\u001b[0m\n\u001b[1;32m     15\u001b[0m         \u001b[0mself\u001b[0m\u001b[0;34m.\u001b[0m\u001b[0mradius\u001b[0m \u001b[0;34m=\u001b[0m \u001b[0mradius\u001b[0m\u001b[0;34m\u001b[0m\u001b[0m\n\u001b[1;32m     16\u001b[0m         \u001b[0mself\u001b[0m\u001b[0;34m.\u001b[0m\u001b[0mglass\u001b[0m \u001b[0;34m=\u001b[0m \u001b[0mglass\u001b[0m\u001b[0;34m\u001b[0m\u001b[0m\n\u001b[0;32m---> 17\u001b[0;31m         \u001b[0mself\u001b[0m\u001b[0;34m.\u001b[0m\u001b[0mindexlist\u001b[0m \u001b[0;34m=\u001b[0m \u001b[0mglass_funcs\u001b[0m\u001b[0;34m.\u001b[0m\u001b[0mglass2indexlist\u001b[0m\u001b[0;34m(\u001b[0m\u001b[0mwavelength_list\u001b[0m\u001b[0;34m,\u001b[0m\u001b[0mglass\u001b[0m\u001b[0;34m)\u001b[0m\u001b[0;34m\u001b[0m\u001b[0m\n\u001b[0m\u001b[1;32m     18\u001b[0m         \u001b[0mself\u001b[0m\u001b[0;34m.\u001b[0m\u001b[0mthickness\u001b[0m \u001b[0;34m=\u001b[0m \u001b[0mthickness\u001b[0m\u001b[0;34m\u001b[0m\u001b[0m\n\u001b[1;32m     19\u001b[0m         \u001b[0mself\u001b[0m\u001b[0;34m.\u001b[0m\u001b[0mSTO\u001b[0m \u001b[0;34m=\u001b[0m \u001b[0mSTO\u001b[0m\u001b[0;34m\u001b[0m\u001b[0m\n",
      "\u001b[0;32m/home/nbuser/anaconda2_501/lib/python2.7/site-packages/opticspy/ray_tracing/glass_funcs.pyc\u001b[0m in \u001b[0;36mglass2indexlist\u001b[0;34m(wavelength_list, glassname)\u001b[0m\n\u001b[1;32m     25\u001b[0m                 \u001b[0mglass_catalog_name\u001b[0m \u001b[0;34m=\u001b[0m \u001b[0mglassname\u001b[0m\u001b[0;34m[\u001b[0m\u001b[0mn\u001b[0m\u001b[0;34m+\u001b[0m\u001b[0;36m1\u001b[0m\u001b[0;34m:\u001b[0m\u001b[0;34m]\u001b[0m\u001b[0;34m\u001b[0m\u001b[0m\n\u001b[1;32m     26\u001b[0m                 \u001b[0mglass_name\u001b[0m \u001b[0;34m=\u001b[0m \u001b[0mglassname\u001b[0m\u001b[0;34m[\u001b[0m\u001b[0;34m:\u001b[0m\u001b[0mn\u001b[0m\u001b[0;34m]\u001b[0m\u001b[0;34m\u001b[0m\u001b[0m\n\u001b[0;32m---> 27\u001b[0;31m                 \u001b[0mcatalog\u001b[0m \u001b[0;34m=\u001b[0m \u001b[0mRefractiveIndex\u001b[0m\u001b[0;34m(\u001b[0m\u001b[0;34m)\u001b[0m\u001b[0;34m\u001b[0m\u001b[0m\n\u001b[0m\u001b[1;32m     28\u001b[0m                 \u001b[0;32mfor\u001b[0m \u001b[0mw\u001b[0m \u001b[0;32min\u001b[0m \u001b[0mwavelength_list\u001b[0m\u001b[0;34m:\u001b[0m\u001b[0;34m\u001b[0m\u001b[0m\n\u001b[1;32m     29\u001b[0m                         \u001b[0mmat\u001b[0m \u001b[0;34m=\u001b[0m \u001b[0mcatalog\u001b[0m\u001b[0;34m.\u001b[0m\u001b[0mgetMaterial\u001b[0m\u001b[0;34m(\u001b[0m\u001b[0;34m'glass'\u001b[0m\u001b[0;34m,\u001b[0m \u001b[0mglass_catalog_name\u001b[0m\u001b[0;34m,\u001b[0m \u001b[0mglass_name\u001b[0m\u001b[0;34m)\u001b[0m\u001b[0;34m\u001b[0m\u001b[0m\n",
      "\u001b[0;32m/home/nbuser/anaconda2_501/lib/python2.7/site-packages/opticspy/ray_tracing/glass_function/refractiveIndex.pyc\u001b[0m in \u001b[0;36m__init__\u001b[0;34m(self, databasePath)\u001b[0m\n\u001b[1;32m     35\u001b[0m         \"\"\"\n\u001b[1;32m     36\u001b[0m         \u001b[0mself\u001b[0m\u001b[0;34m.\u001b[0m\u001b[0mreferencePath\u001b[0m \u001b[0;34m=\u001b[0m \u001b[0mos\u001b[0m\u001b[0;34m.\u001b[0m\u001b[0mpath\u001b[0m\u001b[0;34m.\u001b[0m\u001b[0mnormpath\u001b[0m\u001b[0;34m(\u001b[0m\u001b[0mdatabasePath\u001b[0m\u001b[0;34m)\u001b[0m\u001b[0;34m\u001b[0m\u001b[0m\n\u001b[0;32m---> 37\u001b[0;31m         \u001b[0mf\u001b[0m \u001b[0;34m=\u001b[0m \u001b[0mopen\u001b[0m\u001b[0;34m(\u001b[0m\u001b[0mos\u001b[0m\u001b[0;34m.\u001b[0m\u001b[0mpath\u001b[0m\u001b[0;34m.\u001b[0m\u001b[0mjoin\u001b[0m\u001b[0;34m(\u001b[0m\u001b[0mself\u001b[0m\u001b[0;34m.\u001b[0m\u001b[0mreferencePath\u001b[0m\u001b[0;34m,\u001b[0m \u001b[0mos\u001b[0m\u001b[0;34m.\u001b[0m\u001b[0mpath\u001b[0m\u001b[0;34m.\u001b[0m\u001b[0mnormpath\u001b[0m\u001b[0;34m(\u001b[0m\u001b[0;34m\"library.yml\"\u001b[0m\u001b[0;34m)\u001b[0m\u001b[0;34m)\u001b[0m\u001b[0;34m,\u001b[0m \u001b[0;34m\"r\"\u001b[0m\u001b[0;34m)\u001b[0m\u001b[0;34m\u001b[0m\u001b[0m\n\u001b[0m\u001b[1;32m     38\u001b[0m         \u001b[0;31m# print(f)\u001b[0m\u001b[0;34m\u001b[0m\u001b[0;34m\u001b[0m\u001b[0m\n\u001b[1;32m     39\u001b[0m         \u001b[0mself\u001b[0m\u001b[0;34m.\u001b[0m\u001b[0mcatalog\u001b[0m \u001b[0;34m=\u001b[0m \u001b[0myaml\u001b[0m\u001b[0;34m.\u001b[0m\u001b[0msafe_load\u001b[0m\u001b[0;34m(\u001b[0m\u001b[0mf\u001b[0m\u001b[0;34m)\u001b[0m\u001b[0;34m\u001b[0m\u001b[0m\n",
      "\u001b[0;31mIOError\u001b[0m: [Errno 2] No such file or directory: '/home/nbuser/anaconda2_501/lib/python2.7/site-packages/opticspy/ray_tracing/glass_database/library.yml'"
     ]
    }
   ],
   "source": [
    "New_Lens.add_surface(number=1,radius=10000000,thickness=1000000,glass='air',output=True)\n",
    "New_Lens.add_surface(number=2,radius=41.15909,thickness=6.097555 ,glass='S-BSM18_ohara',output=True)\n",
    "New_Lens.add_surface(number=3,radius=-957.83146,thickness=9.349584,glass='air',output=True)\n",
    "New_Lens.add_surface(number=4,radius=-51.32104,thickness=2.032518,glass='N-SF2_schott',output=True)\n",
    "New_Lens.add_surface(number=5,radius=42.37768 ,thickness=5.995929 ,glass='air',output=True)"
   ]
  },
  {
   "cell_type": "code",
   "execution_count": 8,
   "metadata": {},
   "outputs": [
    {
     "name": "stdout",
     "output_type": "stream",
     "text": [
      "------------Calculating EFL---------------\n",
      "('start surface:', 2)\n",
      "('end surface:', 0)\n"
     ]
    },
    {
     "ename": "IndexError",
     "evalue": "pop from empty list",
     "output_type": "error",
     "traceback": [
      "\u001b[0;31m\u001b[0m",
      "\u001b[0;31mIndexError\u001b[0mTraceback (most recent call last)",
      "\u001b[0;32m<ipython-input-8-7d3213005ced>\u001b[0m in \u001b[0;36m<module>\u001b[0;34m()\u001b[0m\n\u001b[0;32m----> 1\u001b[0;31m \u001b[0mNew_Lens\u001b[0m\u001b[0;34m.\u001b[0m\u001b[0mrefresh_paraxial\u001b[0m\u001b[0;34m(\u001b[0m\u001b[0;34m)\u001b[0m\u001b[0;34m\u001b[0m\u001b[0m\n\u001b[0m",
      "\u001b[0;32m/home/nbuser/anaconda2_501/lib/python2.7/site-packages/opticspy/ray_tracing/lens.pyc\u001b[0m in \u001b[0;36mrefresh_paraxial\u001b[0;34m(self)\u001b[0m\n\u001b[1;32m     36\u001b[0m \u001b[0;34m\u001b[0m\u001b[0m\n\u001b[1;32m     37\u001b[0m         \u001b[0;32mdef\u001b[0m \u001b[0mrefresh_paraxial\u001b[0m\u001b[0;34m(\u001b[0m\u001b[0mself\u001b[0m\u001b[0;34m)\u001b[0m\u001b[0;34m:\u001b[0m\u001b[0;34m\u001b[0m\u001b[0m\n\u001b[0;32m---> 38\u001b[0;31m                 \u001b[0mself\u001b[0m\u001b[0;34m.\u001b[0m\u001b[0mEFL\u001b[0m \u001b[0;34m=\u001b[0m \u001b[0mfirst_order_tools\u001b[0m\u001b[0;34m.\u001b[0m\u001b[0mEFL\u001b[0m\u001b[0;34m(\u001b[0m\u001b[0mself\u001b[0m\u001b[0;34m,\u001b[0m\u001b[0;36m0\u001b[0m\u001b[0;34m,\u001b[0m\u001b[0;36m0\u001b[0m\u001b[0;34m)\u001b[0m\u001b[0;34m\u001b[0m\u001b[0m\n\u001b[0m\u001b[1;32m     39\u001b[0m                 \u001b[0mself\u001b[0m\u001b[0;34m.\u001b[0m\u001b[0mEPD\u001b[0m \u001b[0;34m=\u001b[0m \u001b[0mself\u001b[0m\u001b[0;34m.\u001b[0m\u001b[0mEFL\u001b[0m\u001b[0;34m/\u001b[0m\u001b[0mself\u001b[0m\u001b[0;34m.\u001b[0m\u001b[0mFNO\u001b[0m\u001b[0;34m\u001b[0m\u001b[0m\n\u001b[1;32m     40\u001b[0m                 \u001b[0mself\u001b[0m\u001b[0;34m.\u001b[0m\u001b[0mEP_thickness\u001b[0m \u001b[0;34m=\u001b[0m \u001b[0mfirst_order_tools\u001b[0m\u001b[0;34m.\u001b[0m\u001b[0mEP\u001b[0m\u001b[0;34m(\u001b[0m\u001b[0mself\u001b[0m\u001b[0;34m)\u001b[0m\u001b[0;34m\u001b[0m\u001b[0m\n",
      "\u001b[0;32m/home/nbuser/anaconda2_501/lib/python2.7/site-packages/opticspy/ray_tracing/first_order_tools.pyc\u001b[0m in \u001b[0;36mEFL\u001b[0;34m(Lens, start_surface, end_surface)\u001b[0m\n\u001b[1;32m     92\u001b[0m \u001b[0;32mdef\u001b[0m \u001b[0mEFL\u001b[0m\u001b[0;34m(\u001b[0m\u001b[0mLens\u001b[0m\u001b[0;34m,\u001b[0m\u001b[0mstart_surface\u001b[0m\u001b[0;34m,\u001b[0m\u001b[0mend_surface\u001b[0m\u001b[0;34m)\u001b[0m\u001b[0;34m:\u001b[0m\u001b[0;34m\u001b[0m\u001b[0m\n\u001b[1;32m     93\u001b[0m         \u001b[0;32mprint\u001b[0m\u001b[0;34m(\u001b[0m\u001b[0;34m'------------Calculating EFL---------------'\u001b[0m\u001b[0;34m)\u001b[0m\u001b[0;34m\u001b[0m\u001b[0m\n\u001b[0;32m---> 94\u001b[0;31m         \u001b[0mA\u001b[0m\u001b[0;34m,\u001b[0m\u001b[0mB\u001b[0m\u001b[0;34m,\u001b[0m\u001b[0mC\u001b[0m\u001b[0;34m,\u001b[0m\u001b[0mD\u001b[0m \u001b[0;34m=\u001b[0m \u001b[0mABCD_start_end\u001b[0m\u001b[0;34m(\u001b[0m\u001b[0mLens\u001b[0m\u001b[0;34m,\u001b[0m\u001b[0mstart_surface\u001b[0m\u001b[0;34m,\u001b[0m\u001b[0mend_surface\u001b[0m\u001b[0;34m)\u001b[0m\u001b[0;34m\u001b[0m\u001b[0m\n\u001b[0m\u001b[1;32m     95\u001b[0m         \u001b[0mEFL\u001b[0m \u001b[0;34m=\u001b[0m \u001b[0;34m-\u001b[0m\u001b[0;36m1\u001b[0m\u001b[0;34m/\u001b[0m\u001b[0mC\u001b[0m\u001b[0;34m\u001b[0m\u001b[0m\n\u001b[1;32m     96\u001b[0m         \u001b[0;32mprint\u001b[0m\u001b[0;34m(\u001b[0m\u001b[0;34m'Rear Focal Length f\\':'\u001b[0m\u001b[0;34m,\u001b[0m\u001b[0;34m-\u001b[0m\u001b[0;36m1\u001b[0m\u001b[0;34m/\u001b[0m\u001b[0mC\u001b[0m\u001b[0;34m)\u001b[0m\u001b[0;34m\u001b[0m\u001b[0m\n",
      "\u001b[0;32m/home/nbuser/anaconda2_501/lib/python2.7/site-packages/opticspy/ray_tracing/first_order_tools.pyc\u001b[0m in \u001b[0;36mABCD_start_end\u001b[0;34m(Lens, start_surface, end_surface)\u001b[0m\n\u001b[1;32m     75\u001b[0m         \u001b[0;31m#       print i\u001b[0m\u001b[0;34m\u001b[0m\u001b[0;34m\u001b[0m\u001b[0m\n\u001b[1;32m     76\u001b[0m         \u001b[0;31m# print '--------------------------------'\u001b[0m\u001b[0;34m\u001b[0m\u001b[0;34m\u001b[0m\u001b[0m\n\u001b[0;32m---> 77\u001b[0;31m         \u001b[0mA\u001b[0m\u001b[0;34m,\u001b[0m\u001b[0mB\u001b[0m\u001b[0;34m,\u001b[0m\u001b[0mC\u001b[0m\u001b[0;34m,\u001b[0m\u001b[0mD\u001b[0m \u001b[0;34m=\u001b[0m \u001b[0mABCD\u001b[0m\u001b[0;34m(\u001b[0m\u001b[0mRT_matrix\u001b[0m\u001b[0;34m)\u001b[0m\u001b[0;34m\u001b[0m\u001b[0m\n\u001b[0m\u001b[1;32m     78\u001b[0m         \u001b[0;32mreturn\u001b[0m \u001b[0mA\u001b[0m\u001b[0;34m,\u001b[0m\u001b[0mB\u001b[0m\u001b[0;34m,\u001b[0m\u001b[0mC\u001b[0m\u001b[0;34m,\u001b[0m\u001b[0mD\u001b[0m\u001b[0;34m\u001b[0m\u001b[0m\n\u001b[1;32m     79\u001b[0m \u001b[0;34m\u001b[0m\u001b[0m\n",
      "\u001b[0;32m/home/nbuser/anaconda2_501/lib/python2.7/site-packages/opticspy/ray_tracing/first_order_tools.pyc\u001b[0m in \u001b[0;36mABCD\u001b[0;34m(matrix_list)\u001b[0m\n\u001b[1;32m     38\u001b[0m         \u001b[0moutput\u001b[0m\u001b[0;34m:\u001b[0m \u001b[0mABCD\u001b[0m \u001b[0mmatrix\u001b[0m\u001b[0;34m\u001b[0m\u001b[0m\n\u001b[1;32m     39\u001b[0m \t'''\n\u001b[0;32m---> 40\u001b[0;31m         \u001b[0mM\u001b[0m \u001b[0;34m=\u001b[0m \u001b[0mmatrix_list\u001b[0m\u001b[0;34m.\u001b[0m\u001b[0mpop\u001b[0m\u001b[0;34m(\u001b[0m\u001b[0;34m)\u001b[0m\u001b[0;34m\u001b[0m\u001b[0m\n\u001b[0m\u001b[1;32m     41\u001b[0m         \u001b[0;32mwhile\u001b[0m \u001b[0mmatrix_list\u001b[0m\u001b[0;34m:\u001b[0m\u001b[0;34m\u001b[0m\u001b[0m\n\u001b[1;32m     42\u001b[0m                 \u001b[0mM\u001b[0m \u001b[0;34m=\u001b[0m \u001b[0m__np__\u001b[0m\u001b[0;34m.\u001b[0m\u001b[0mdot\u001b[0m\u001b[0;34m(\u001b[0m\u001b[0mM\u001b[0m\u001b[0;34m,\u001b[0m\u001b[0mmatrix_list\u001b[0m\u001b[0;34m.\u001b[0m\u001b[0mpop\u001b[0m\u001b[0;34m(\u001b[0m\u001b[0;34m)\u001b[0m\u001b[0;34m)\u001b[0m\u001b[0;34m\u001b[0m\u001b[0m\n",
      "\u001b[0;31mIndexError\u001b[0m: pop from empty list"
     ]
    }
   ],
   "source": [
    "New_Lens.refresh_paraxial()"
   ]
  },
  {
   "cell_type": "code",
   "execution_count": null,
   "metadata": {},
   "outputs": [],
   "source": [
    "dict_list = trace.trace_draw_ray(New_Lens)\n",
    "draw.draw_system(New_Lens)\n"
   ]
  }
 ],
 "metadata": {
  "kernelspec": {
   "display_name": "Python 2",
   "language": "python",
   "name": "python2"
  },
  "language_info": {
   "codemirror_mode": {
    "name": "ipython",
    "version": 2
   },
   "file_extension": ".py",
   "mimetype": "text/x-python",
   "name": "python",
   "nbconvert_exporter": "python",
   "pygments_lexer": "ipython2",
   "version": "2.7.14"
  }
 },
 "nbformat": 4,
 "nbformat_minor": 2
}
