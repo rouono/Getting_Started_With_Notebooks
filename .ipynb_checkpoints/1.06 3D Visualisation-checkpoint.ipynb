{
  "cells": [
    {
      "metadata": {
        "collapsed": true
      },
      "cell_type": "markdown",
      "source": "# 3D Visualisation\n\nSeveral packages are available that focus on rendering 3D images. This notebook introduces some of them.\n\n...although they donlt seem to work in Azure Notebooks becuase of the way Azure notebooks don't work the same way every other notebook install does?"
    },
    {
      "metadata": {},
      "cell_type": "markdown",
      "source": "## `ipyvolume`"
    },
    {
      "metadata": {
        "trusted": true
      },
      "cell_type": "code",
      "source": "%%capture\ntry:\n    import ipyvolume as ipv\nexcept:\n    !pip3.6 install ipyvolume\n    \n",
      "execution_count": 1,
      "outputs": []
    },
    {
      "metadata": {
        "trusted": true
      },
      "cell_type": "code",
      "source": "%matplotlib inline\nimport ipyvolume as ipv\nimport numpy as np\nx, y, z = np.random.random((3, 10000))\nipv.quickscatter(x, y, z, size=1, marker=\"sphere\")",
      "execution_count": 4,
      "outputs": [
        {
          "output_type": "display_data",
          "data": {
            "application/vnd.jupyter.widget-view+json": {
              "model_id": "7ed60221e80e40b2b48e4530ec7a320b",
              "version_minor": 0,
              "version_major": 2
            },
            "text/plain": "VBox(children=(Figure(camera=PerspectiveCamera(fov=46.0, position=(0.0, 0.0, 2.0), quaternion=(0.0, 0.0, 0.0, …"
          },
          "metadata": {}
        }
      ]
    },
    {
      "metadata": {
        "trusted": true
      },
      "cell_type": "code",
      "source": "import ipyvolume as ipv\nimport numpy as np\nx, y, z, u, v, w = np.random.random((6, 1000))*2-1\nquiver = ipv.quickquiver(x, y, z, u, v, w, size=5)\nquiver",
      "execution_count": 3,
      "outputs": [
        {
          "output_type": "display_data",
          "data": {
            "application/vnd.jupyter.widget-view+json": {
              "model_id": "9291e0aa3e7742358c2efd8b12e6d6f3",
              "version_minor": 0,
              "version_major": 2
            },
            "text/plain": "VBox(children=(Figure(camera=PerspectiveCamera(fov=46.0, position=(0.0, 0.0, 2.0), quaternion=(0.0, 0.0, 0.0, …"
          },
          "metadata": {}
        }
      ]
    },
    {
      "metadata": {
        "trusted": true
      },
      "cell_type": "markdown",
      "source": "## `k3d`"
    },
    {
      "metadata": {
        "trusted": true
      },
      "cell_type": "code",
      "source": "%%capture\ntry:\n    import k3d\nexcept:\n    !pip3.6 install k3d\n    !jupyter nbextension install --py --sys-prefix k3d\n    !jupyter nbextension enable --py --sys-prefix k3d\n    !jupyter labextension install k3d\n    \nimport k3d",
      "execution_count": 3,
      "outputs": []
    },
    {
      "metadata": {
        "trusted": true
      },
      "cell_type": "code",
      "source": "import k3d\nplot = k3d.plot()\n\n# here you would normally create objects to display\n# and add them to the plot\n\nplot.display()",
      "execution_count": 2,
      "outputs": [
        {
          "output_type": "display_data",
          "data": {
            "application/vnd.jupyter.widget-view+json": {
              "model_id": "e77f7031828b467bbcd0dbae0c70e2aa",
              "version_minor": 0,
              "version_major": 2
            },
            "text/plain": "Output()"
          },
          "metadata": {}
        }
      ]
    },
    {
      "metadata": {
        "trusted": true
      },
      "cell_type": "code",
      "source": "",
      "execution_count": null,
      "outputs": []
    }
  ],
  "metadata": {
    "kernelspec": {
      "name": "python36",
      "display_name": "Python 3.6",
      "language": "python"
    },
    "language_info": {
      "mimetype": "text/x-python",
      "nbconvert_exporter": "python",
      "name": "python",
      "pygments_lexer": "ipython3",
      "version": "3.6.6",
      "file_extension": ".py",
      "codemirror_mode": {
        "version": 3,
        "name": "ipython"
      }
    }
  },
  "nbformat": 4,
  "nbformat_minor": 2
}