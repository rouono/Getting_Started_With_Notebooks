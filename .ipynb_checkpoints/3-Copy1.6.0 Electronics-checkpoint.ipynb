{
 "cells": [
  {
   "cell_type": "markdown",
   "metadata": {
    "collapsed": true
   },
   "source": [
    "# Electronics Demos\n",
    "\n",
    "\n",
    "See also some of the circuit diagram demos in the *3.2.0 Generating Embedded Diagrams.ipynb* notebook."
   ]
  },
  {
   "cell_type": "markdown",
   "metadata": {},
   "source": [
    "## `lcapy`\n",
    "\n",
    "`lcapy` is a linear circuit analysis package that can be used to describe, display and analyse the behaviour of a wide range of linear analogue electrical circuits.\n",
    "\n",
    "The *3.2.0 Generating Embedded Diagrams.ipynb*  notebook demonstrates how electrical circuit diagrams can be written using the `circuitikz` *TeX* package. Among other things, `lcapy` can generate circuit diagrams using `circuitikz` scripts generated from a simpler Python grammar.\n",
    "\n",
    "`lcapy` provides a far more powerful approach, by using a circuit description that can be used to generate an circuit diagram as the basis for a wide range of analyses. For example, `lcapy` can be used to describe equivalent circuits (such as Thevenin or Norton equivalent circuits), or generate bode plots"
   ]
  },
  {
   "cell_type": "code",
   "execution_count": null,
   "metadata": {},
   "outputs": [],
   "source": [
    "%%capture\n",
    "!conda config --add channels conda-forge\n",
    "!conda install -y imagemagick\n",
    "!pip install --user git+https://github.com/innovationOUtside/ipython_magic_tikz"
   ]
  },
  {
   "cell_type": "code",
   "execution_count": null,
   "metadata": {},
   "outputs": [],
   "source": [
    "#%%capture\n",
    "!pip install git+https://github.com/mph-/lcapy.git"
   ]
  },
  {
   "cell_type": "markdown",
   "metadata": {},
   "source": [
    "Let's see how far we can get doing a simple re-representation of an OpenLearn module on electronics."
   ]
  },
  {
   "cell_type": "markdown",
   "metadata": {},
   "source": [
    "## OpenLearn Example\n",
    "\n",
    "*The following section is a reworking of http://www.open.edu/openlearn/science-maths-technology/introduction-electronics/content-section-3.1 .*\n",
    "\n",
    "The markdown cells may beed running to pick up component values in a freshly opened / un-run notebook."
   ]
  },
  {
   "cell_type": "code",
   "execution_count": 4,
   "metadata": {},
   "outputs": [],
   "source": [
    "import lcapy\n",
    "from lcapy import Circuit"
   ]
  },
  {
   "cell_type": "markdown",
   "metadata": {},
   "source": [
    "### Voltage dividers\n",
    "Voltage dividers are widely used in electronic circuits to create a reference voltage, or to reduce the amplitude of a signal. The figure below shows a voltage divider. The value of $V_{out}$ can be calculated from the values of $V_S$, $R_1$ and $R_2$."
   ]
  },
  {
   "cell_type": "code",
   "execution_count": 2,
   "metadata": {},
   "outputs": [],
   "source": [
    "#Figure:  A voltage divider circuit\n",
    "sch='''\n",
    "VS 1 0 ; down\n",
    "W 1 2 ;  right, size=2\n",
    "R1 2 3 ; down\n",
    "R2 3 4; down\n",
    "W 3 5; right\n",
    "P1 5 6; down,v=V_{out}\n",
    "W 4 6; right\n",
    "W 4 0; left\n",
    "'''\n",
    "\n",
    "fn=\"voltageDivider.sch\"\n",
    "with open(fn, \"w\") as text_file:\n",
    "    text_file.write(sch)\n",
    "    \n",
    "cct = Circuit(fn)"
   ]
  },
  {
   "cell_type": "code",
   "execution_count": 3,
   "metadata": {},
   "outputs": [
    {
     "data": {
      "image/png": "[encoded data removed]"
     },
     "metadata": {
      "image/png": {
       "height": 200,
       "width": 300
      }
     },
     "output_type": "display_data"
    }
   ],
   "source": [
    "cct.draw(style='american', draw_nodes=False, label_nodes=False) #american, british, european\n",
    "#Draw function is defined in https://github.com/mph-/lcapy/blob/master/lcapy/schematic.py\n",
    "#The styles need tweaking to suit OU convention - this requires a minor patch to lcapy\n",
    "#Styles defined in https://github.com/mph-/lcapy/blob/master/lcapy/schematic.py#Schematic.tikz_draw"
   ]
  },
  {
   "cell_type": "markdown",
   "metadata": {},
   "source": [
    "In the first instance, let’s assume that  is not connected to anything (for voltage dividers it is always assumed that negligible current flows through ). This means that, according to Kirchhoff’s first law, the current flowing through  is the same as the current flowing through . Ohm’s law allows you to calculate the current through . It is the potential difference across that resistor, divided by its resistance. Since the voltage  is distributed over two resistors, the potential drop over $R_1$ is $V_{R_1}=V_S - V_{out}$."
   ]
  },
  {
   "cell_type": "code",
   "execution_count": 4,
   "metadata": {},
   "outputs": [
    {
     "data": {
      "image/png": "[encoded data removed]",
      "text/latex": [
       "$$V_{R_1} = V_{S} - V_{out}$$"
      ],
      "text/plain": [
       "V_{R_1} = V_S - Vₒᵤₜ"
      ]
     },
     "execution_count": 4,
     "metadata": {},
     "output_type": "execute_result"
    }
   ],
   "source": [
    "#We can check the above though we are forced to make a substitution in sympy\n",
    "#The voltage across R_2, V_out, is given as:\n",
    "cct.R1.v\n",
    "#We can't do anything abouth the order, unfortunately\n",
    "#It would be neater if sympy sorted fractional terms last but it doesn't...\n",
    "\n",
    "#We can get the output voltage, Vout, across the appropriate nodes\n",
    "cct.Voc(3,4)['t']\n",
    "#or by direct reference to the appropriate component:\n",
    "cct.R2.v\n",
    "\n",
    "from sympy import Symbol, Eq\n",
    "#If we add .expr to the voltages, we can get the sympy representation to work with\n",
    "#I don't know how to get the symbols from the circuit as sympy symbols?\n",
    "vout_expr=cct.R2.v.expr\n",
    "v_r1_expr=cct.R1.v.expr\n",
    "\n",
    "vout=Symbol('V_out')\n",
    "v_r1=Symbol(\"V_{R_1}\")\n",
    "\n",
    "#Working with sympy symbols, we can perform a substitution if expressions match exactly\n",
    "#In this case, we can swap in V_out for the expression returned from the analysis\n",
    "Eq(v_r1,v_r1_expr.subs(vout_expr,vout))"
   ]
  },
  {
   "cell_type": "markdown",
   "metadata": {},
   "source": [
    "The current through $R_1$ ($I_{R_1}$) is given by\n",
    "\n",
    "$I_{R_1}=\\displaystyle\\frac{(V_S-V_{out})}{R_1}$ "
   ]
  },
  {
   "cell_type": "markdown",
   "metadata": {},
   "source": [
    "Similarly, the current through $R_2$ is given by\n",
    "\n",
    "$I_{R_2}=\\displaystyle\\frac{V_{out}}{R_2}$ "
   ]
  },
  {
   "cell_type": "markdown",
   "metadata": {},
   "source": [
    "Kirchoff’s first law tells you that $I_{R_1}=I_{R_2}=$, and therefore\n",
    "\n",
    "$\\displaystyle\\frac{V_{out}}{V_{R_2}}=\\frac{(V_S-V_{out})}{R_1}$ \n",
    "\n",
    "Multiplying both sides by $R_1$ and by $R_2$ gives\n",
    "\n",
    "$R_1V_{out}=R_2(V_S-V_{out})$\n",
    "\n",
    "Then multiplying out the brackets on the right-hand side gives\n",
    "\n",
    "$R_1V_{out}=R_2V_S-R_2V_{out}$\n",
    "\n",
    "This can be rearranged to\n",
    "\n",
    "$R_1V_{out}+R_2V_{out}=R_2V_S$\n",
    "\n",
    "giving\n",
    "\n",
    "$(R_1+R_2)V_{out}=R_2V_S$\n",
    "\n",
    "and therefore the fundamental result is obtained:\n",
    "\n",
    "$V_{out}=\\displaystyle\\frac{R_2V_S}{(R_1+R_2)}$ "
   ]
  },
  {
   "cell_type": "code",
   "execution_count": 5,
   "metadata": {},
   "outputs": [
    {
     "data": {
      "image/png": "[encoded data removed]",
      "text/latex": [
       "$$V_{out} = \\frac{R_{2} V_{S}}{R_{1} + R_{2}}$$"
      ],
      "text/plain": [
       "        R₂⋅V_S\n",
       "Vₒᵤₜ = ───────\n",
       "       R₁ + R₂"
      ]
     },
     "execution_count": 5,
     "metadata": {},
     "output_type": "execute_result"
    }
   ],
   "source": [
    "#We can find this from quantities we have derived through analysis of the presented circuit\n",
    "Eq(vout,vout_expr)"
   ]
  },
  {
   "cell_type": "code",
   "execution_count": 6,
   "metadata": {},
   "outputs": [
    {
     "data": {
      "image/png": "[encoded data removed]",
      "text/latex": [
       "$$I_{R_1} = \\frac{V_{S}}{R_{1} + R_{2}}$$"
      ],
      "text/plain": [
       "            V_S  \n",
       "I_{R_1} = ───────\n",
       "          R₁ + R₂"
      ]
     },
     "execution_count": 6,
     "metadata": {},
     "output_type": "execute_result"
    }
   ],
   "source": [
    "#It's not obvious how to get the same expression for each of the currents from sympy\n",
    "#Could we force lcapy to use the V_out value somehow?\n",
    "#sympy can be blocked from simplifying expressions using evaluate=False\n",
    "# but I don't think we can pass this parameter using lcapy?\n",
    "#In passing, the .expr rendering looks nicer in notebooks - does it use \\displaystyle  on the fraction?\n",
    "Eq(Symbol('I_{R_1}'),cct.R1.i.expr)\n",
    "#The simplified version is correct but not very intuitive...\n",
    "#And doesn't help the flow of the materials... but it might be useful later on?"
   ]
  },
  {
   "cell_type": "code",
   "execution_count": 7,
   "metadata": {},
   "outputs": [
    {
     "data": {
      "image/png": "[encoded data removed]",
      "text/latex": [
       "$$\\frac{V_{S}}{R_{1} + R_{2}}$$"
      ],
      "text/plain": [
       "  V_S  \n",
       "───────\n",
       "R₁ + R₂"
      ]
     },
     "execution_count": 7,
     "metadata": {},
     "output_type": "execute_result"
    }
   ],
   "source": [
    "#We get the following from the circuit analysis, as above...\n",
    "cct.R2.i.expr\n",
    "#We note that the circuit analysis returns equal expressions for I_R_1 and I_R_2\n",
    "#  which gives some sort of reinforcement to the idea of Kirchoff's Law..."
   ]
  },
  {
   "cell_type": "markdown",
   "metadata": {},
   "source": [
    "#### Exercise\n",
    "Suppose  $V_S= 24 V$ and $R_2 = 100\\Omega$. You want $V_{out} = 6 V$. What value of $R_1$ do you need?"
   ]
  },
  {
   "cell_type": "markdown",
   "metadata": {},
   "source": [
    "#### Answer\n",
    "Rearranging the equation for $V_{out}$ gives\n",
    "\n",
    "$V_{out}(R_1+R_2)=R_2V_S$\n",
    "\n",
    "and therefore\n",
    "\n",
    "$(R_1+R_2)=\\displaystyle\\frac{R_2V_S}{V_{out}}$\n",
    "\n",
    "which means the equation for $R_1$ is\n",
    "\n",
    "$R_1=\\displaystyle\\frac{R_2V_S}{V_{out}}-R_2$\n",
    "\n",
    "Substituting in the values given,\n",
    "\n",
    "$R_1=\\displaystyle\\frac{100\\Omega \\times 24V}{6V}-100\\Omega = 400\\Omega-100\\Omega=300\\Omega$"
   ]
  },
  {
   "cell_type": "code",
   "execution_count": 8,
   "metadata": {},
   "outputs": [
    {
     "data": {
      "image/png": "[encoded data removed]",
      "text/latex": [
       "$$V_{out} = \\frac{R_{2} V_{S}}{R_{1} + R_{2}}$$"
      ],
      "text/plain": [
       "        R₂⋅V_S\n",
       "Vₒᵤₜ = ───────\n",
       "       R₁ + R₂"
      ]
     },
     "execution_count": 8,
     "metadata": {},
     "output_type": "execute_result"
    }
   ],
   "source": [
    "#We essentially want to solve the following\n",
    "#Note that the expression is derived automatically from analysis of the circuit provided\n",
    "Eq(vout,vout_expr)\n",
    "#We don't necessarily know / can't control what the form of the present solution will be though?"
   ]
  },
  {
   "cell_type": "code",
   "execution_count": 9,
   "metadata": {},
   "outputs": [
    {
     "data": {
      "image/png": "[encoded data removed]",
      "text/latex": [
       "$$6 = \\frac{2400}{R_{1} + 100}$$"
      ],
      "text/plain": [
       "      2400  \n",
       "6 = ────────\n",
       "    R₁ + 100"
      ]
     },
     "execution_count": 9,
     "metadata": {},
     "output_type": "execute_result"
    }
   ],
   "source": [
    "#Anyway... we can start to substitute values into the expression...\n",
    "from sympy import sympify\n",
    "#This is clunky - is there a proper way of substituting values into lcapy expressions?\n",
    "Eq(6,sympify(str(vout_expr)).subs([('V_S',24), ('R_2',100)]))"
   ]
  },
  {
   "cell_type": "code",
   "execution_count": 10,
   "metadata": {},
   "outputs": [
    {
     "data": {
      "image/png": "[encoded data removed]",
      "text/latex": [
       "$$\\frac{R_{2} V_{S}}{R_{1} + R_{2}} - V_{out} = 0$$"
      ],
      "text/plain": [
       " R₂⋅V_S           \n",
       "─────── - Vₒᵤₜ = 0\n",
       "R₁ + R₂           "
      ]
     },
     "execution_count": 10,
     "metadata": {},
     "output_type": "execute_result"
    }
   ],
   "source": [
    "#Rearranging, we need to solve the following for R_1\n",
    "Eq(vout_expr-vout,0)"
   ]
  },
  {
   "cell_type": "code",
   "execution_count": 11,
   "metadata": {},
   "outputs": [
    {
     "data": {
      "image/png": "[encoded data removed]",
      "text/latex": [
       "$$R_{1} = \\frac{R_{2}}{V_{out}} \\left(V_{S} - V_{out}\\right)$$"
      ],
      "text/plain": [
       "     R₂⋅(V_S - Vₒᵤₜ)\n",
       "R₁ = ───────────────\n",
       "           Vₒᵤₜ     "
      ]
     },
     "execution_count": 11,
     "metadata": {},
     "output_type": "execute_result"
    }
   ],
   "source": [
    "#sympy can solve such equations for us\n",
    "from sympy import solve\n",
    "#Solve for R_1 - this gives us an alternative form of the result above\n",
    "Eq(Symbol('R_1'),solve(sympify(str(vout_expr-vout)),'R_1')[0])"
   ]
  },
  {
   "cell_type": "code",
   "execution_count": 12,
   "metadata": {},
   "outputs": [
    {
     "data": {
      "image/png": "[encoded data removed]",
      "text/latex": [
       "$$R_{1} = 300$$"
      ],
      "text/plain": [
       "R₁ = 300"
      ]
     },
     "execution_count": 12,
     "metadata": {},
     "output_type": "execute_result"
    }
   ],
   "source": [
    "Eq(Symbol('R_1'),solve(sympify(str(vout_expr-vout)),'R_1')[0].subs([('V_S',24), ('R_2',100),('V_out',6)]))"
   ]
  },
  {
   "cell_type": "code",
   "execution_count": 13,
   "metadata": {},
   "outputs": [],
   "source": [
    "#To solve the equation, we can substitue values into the sympy expression as follows\n",
    "#solve(sympify(str(vout_expr-vout)).subs([('V_S',24), ('R_2',100),('V_out',6)]),'R_1')[0]"
   ]
  },
  {
   "cell_type": "code",
   "execution_count": 14,
   "metadata": {},
   "outputs": [],
   "source": [
    "#Alternatively, we can create a function to solve for any single missing value\n",
    "#The following will calculate the relevant solution\n",
    "def soln(values=None):\n",
    "    if values is None:\n",
    "        values={'V_S':24, 'R_1':'', 'R_2':100, 'V_out':6}\n",
    "    outval=[v for v in values if not values[v]]\n",
    "    invals=[(v,values[v]) for v in values if values[v] ]\n",
    "    if len(outval)!=1 or len(invals)!=3:\n",
    "        return 'oops'\n",
    "    \n",
    "    outval=outval[0]\n",
    "    print(invals)\n",
    "    return 'Value of {} is {}'.format(outval, solve(sympify(str(vout_expr-vout)).subs(invals),outval)[0])"
   ]
  },
  {
   "cell_type": "code",
   "execution_count": 15,
   "metadata": {},
   "outputs": [
    {
     "name": "stdout",
     "output_type": "stream",
     "text": [
      "[('V_out', 6), ('V_S', 24), ('R_2', 100)]\n"
     ]
    },
    {
     "data": {
      "text/plain": [
       "'Value of R_1 is 300'"
      ]
     },
     "execution_count": 15,
     "metadata": {},
     "output_type": "execute_result"
    }
   ],
   "source": [
    "soln()"
   ]
  },
  {
   "cell_type": "code",
   "execution_count": 16,
   "metadata": {},
   "outputs": [
    {
     "name": "stdout",
     "output_type": "stream",
     "text": [
      "[('R_1', 300), ('V_out', 6), ('V_S', 24)]\n"
     ]
    },
    {
     "data": {
      "text/plain": [
       "'Value of R_2 is 100'"
      ]
     },
     "execution_count": 16,
     "metadata": {},
     "output_type": "execute_result"
    }
   ],
   "source": [
    "soln({'V_S':24,'R_2':'', 'R_1':300,'V_out':6})"
   ]
  },
  {
   "cell_type": "code",
   "execution_count": 17,
   "metadata": {},
   "outputs": [
    {
     "data": {
      "application/vnd.jupyter.widget-view+json": {
       "model_id": "309b4311cb674a8cbeb7df9fbd891ab2",
       "version_major": 2,
       "version_minor": 0
      },
      "text/plain": [
       "interactive(children=(Text(value='24', description='V'), Text(value='', description='R1'), Text(value='100', d…"
      ]
     },
     "metadata": {},
     "output_type": "display_data"
    }
   ],
   "source": [
    "#We can also explore a simple thing to check the value from a circuit analysis\n",
    "from IPython.display import display, Latex\n",
    "from ipywidgets import interact_manual\n",
    "@interact_manual\n",
    "def cct1(V='24',R1='',R2='100'):\n",
    "    R1 = '' if R1 and float(R1) <=0 else R1\n",
    "    sch='''\n",
    "    VS 1 0 {V}; down\n",
    "    W 1 2 ;  right, size=2\n",
    "    R1 2 3 {R1}; down\n",
    "    R2 3 4 {R2}; down\n",
    "    W 3 5; right, size=2\n",
    "    P1 5 6; down,v=V_{{out}}\n",
    "    W 4 6; right, size=2\n",
    "    W 4 0; left\n",
    "    '''.format(V=V,R1=R1,R2=R2)\n",
    "    \n",
    "    cct = Circuit()\n",
    "    cct.add(sch)\n",
    "    cct.draw(label_nodes=False)\n",
    "    \n",
    "    #The output voltage, V_out is the voltage across R2\n",
    "    display(Latex('The output voltage, $V_{{out}}$ across $R_2$ is {}V.'.format(cct.R2.v if R1 else V)))\n",
    "    return"
   ]
  },
  {
   "cell_type": "code",
   "execution_count": 18,
   "metadata": {},
   "outputs": [],
   "source": [
    "# We could also plot V_out vs R_1 for given V_S and R_2?"
   ]
  },
  {
   "cell_type": "markdown",
   "metadata": {},
   "source": [
    "### The Wheatstone bridge\n",
    "\n",
    "*http://www.open.edu/openlearn/science-maths-technology/introduction-electronics/content-section-3.2*\n",
    "\n",
    "Originally developed in the nineteenth century, a Wheatstone bridge provided an accurate way of measuring resistances without being able to measure current or voltage values, but only being able to detect the presence or absence of a current. A simple galvanometer, as illustrated in Figure 13, could show the absence of a current through the Wheatstone bridge in either direction. The long needle visible in the centre of the galvanometer would deflect to one side or the other if any current was detected, but show no deflection in the absence of a current.\n",
    "\n",
    "![An early D'Arsonval galvanometer showing magnet and rotating coil (Wikipedia)](https://upload.wikimedia.org/wikipedia/commons/thumb/7/70/A_moving_coil_galvanometer._Wellcome_M0016397.jpg/272px-A_moving_coil_galvanometer._Wellcome_M0016397.jpg)\n",
    "*An early D'Arsonval galvanometer showing magnet and rotating coil ([Wikipedia](https://commons.wikimedia.org/wiki/File:A_moving_coil_galvanometer._Wellcome_M0016397.jpg))*\n",
    "\n",
    "The figures below shows two equivalent circuits made of four resistors forming a Wheatstone bridge. Its purpose here is to show whether there is any current flowing between $V_{left}$ and  $V_{right}$."
   ]
  },
  {
   "cell_type": "code",
   "execution_count": 110,
   "metadata": {},
   "outputs": [],
   "source": [
    "%load_ext tikz_magic"
   ]
  },
  {
   "cell_type": "code",
   "execution_count": 118,
   "metadata": {},
   "outputs": [
    {
     "ename": "Exception",
     "evalue": "pdflatex did not produce a PDF file.",
     "output_type": "error",
     "traceback": [
      "\u001b[0;31m---------------------------------------------------------------------------\u001b[0m",
      "\u001b[0;31mException\u001b[0m                                 Traceback (most recent call last)",
      "\u001b[0;32m<ipython-input-118-9ca3e30a64e9>\u001b[0m in \u001b[0;36m<module>\u001b[0;34m()\u001b[0m\n\u001b[0;32m----> 1\u001b[0;31m \u001b[0mget_ipython\u001b[0m\u001b[0;34m(\u001b[0m\u001b[0;34m)\u001b[0m\u001b[0;34m.\u001b[0m\u001b[0mrun_cell_magic\u001b[0m\u001b[0;34m(\u001b[0m\u001b[0;34m'tikz'\u001b[0m\u001b[0;34m,\u001b[0m \u001b[0;34m'-p circuitikz -s 0.4'\u001b[0m\u001b[0;34m,\u001b[0m \u001b[0;34m'%%% Coordinate definitions: %%%\\n% Position of the bridge (top upper corner)\\n\\\\def\\\\x{6}\\n\\\\def\\\\y{6}\\n% Size of the bridge\\n\\\\def\\\\dx{3}\\n\\\\def\\\\dy{3}\\n\\n\\n  \\\\draw (0,0) -- (0,1) to[R, l=$R_2$] (-2,3) to[R, l=$R_1$] (0,5) -- (0,6);\\n  \\\\draw  (0,1) to[R, l=$R_4$] (2,3) to[R, l=$R_3$] (0,5);\\n\\\\draw(-2,3)to[ammeter] (2,3);\\n\\n\\\\begin{scope}[xshift=7cm]\\n  \\\\draw (0,0) -- (0,1)--(-2,1) to[R, l=$R_2$] (-2,3) to[R, l=$R_1$] (-2,5) -- (0,5)--(0,6);\\n  \\\\draw  (0,1)--(2,1) to[R, l=$R_4$] (2,3) to[R, l=$R_3$] (2,5)--(0,5);\\n\\\\draw(-2,3)to[ammeter] (2,3);\\n\\\\node(-2,3){as}\\n\\\\end{scope}'\u001b[0m\u001b[0;34m)\u001b[0m\u001b[0;34m\u001b[0m\u001b[0m\n\u001b[0m",
      "\u001b[0;32m~/anaconda3_420/lib/python3.5/site-packages/IPython/core/interactiveshell.py\u001b[0m in \u001b[0;36mrun_cell_magic\u001b[0;34m(self, magic_name, line, cell)\u001b[0m\n\u001b[1;32m   2129\u001b[0m             \u001b[0mmagic_arg_s\u001b[0m \u001b[0;34m=\u001b[0m \u001b[0mself\u001b[0m\u001b[0;34m.\u001b[0m\u001b[0mvar_expand\u001b[0m\u001b[0;34m(\u001b[0m\u001b[0mline\u001b[0m\u001b[0;34m,\u001b[0m \u001b[0mstack_depth\u001b[0m\u001b[0;34m)\u001b[0m\u001b[0;34m\u001b[0m\u001b[0m\n\u001b[1;32m   2130\u001b[0m             \u001b[0;32mwith\u001b[0m \u001b[0mself\u001b[0m\u001b[0;34m.\u001b[0m\u001b[0mbuiltin_trap\u001b[0m\u001b[0;34m:\u001b[0m\u001b[0;34m\u001b[0m\u001b[0m\n\u001b[0;32m-> 2131\u001b[0;31m                 \u001b[0mresult\u001b[0m \u001b[0;34m=\u001b[0m \u001b[0mfn\u001b[0m\u001b[0;34m(\u001b[0m\u001b[0mmagic_arg_s\u001b[0m\u001b[0;34m,\u001b[0m \u001b[0mcell\u001b[0m\u001b[0;34m)\u001b[0m\u001b[0;34m\u001b[0m\u001b[0m\n\u001b[0m\u001b[1;32m   2132\u001b[0m             \u001b[0;32mreturn\u001b[0m \u001b[0mresult\u001b[0m\u001b[0;34m\u001b[0m\u001b[0m\n\u001b[1;32m   2133\u001b[0m \u001b[0;34m\u001b[0m\u001b[0m\n",
      "\u001b[0;32m<decorator-gen-125>\u001b[0m in \u001b[0;36mtikz\u001b[0;34m(self, line, cell)\u001b[0m\n",
      "\u001b[0;32m~/anaconda3_420/lib/python3.5/site-packages/IPython/core/magic.py\u001b[0m in \u001b[0;36m<lambda>\u001b[0;34m(f, *a, **k)\u001b[0m\n\u001b[1;32m    185\u001b[0m     \u001b[0;31m# but it's overkill for just that one bit of state.\u001b[0m\u001b[0;34m\u001b[0m\u001b[0;34m\u001b[0m\u001b[0m\n\u001b[1;32m    186\u001b[0m     \u001b[0;32mdef\u001b[0m \u001b[0mmagic_deco\u001b[0m\u001b[0;34m(\u001b[0m\u001b[0marg\u001b[0m\u001b[0;34m)\u001b[0m\u001b[0;34m:\u001b[0m\u001b[0;34m\u001b[0m\u001b[0m\n\u001b[0;32m--> 187\u001b[0;31m         \u001b[0mcall\u001b[0m \u001b[0;34m=\u001b[0m \u001b[0;32mlambda\u001b[0m \u001b[0mf\u001b[0m\u001b[0;34m,\u001b[0m \u001b[0;34m*\u001b[0m\u001b[0ma\u001b[0m\u001b[0;34m,\u001b[0m \u001b[0;34m**\u001b[0m\u001b[0mk\u001b[0m\u001b[0;34m:\u001b[0m \u001b[0mf\u001b[0m\u001b[0;34m(\u001b[0m\u001b[0;34m*\u001b[0m\u001b[0ma\u001b[0m\u001b[0;34m,\u001b[0m \u001b[0;34m**\u001b[0m\u001b[0mk\u001b[0m\u001b[0;34m)\u001b[0m\u001b[0;34m\u001b[0m\u001b[0m\n\u001b[0m\u001b[1;32m    188\u001b[0m \u001b[0;34m\u001b[0m\u001b[0m\n\u001b[1;32m    189\u001b[0m         \u001b[0;32mif\u001b[0m \u001b[0mcallable\u001b[0m\u001b[0;34m(\u001b[0m\u001b[0marg\u001b[0m\u001b[0;34m)\u001b[0m\u001b[0;34m:\u001b[0m\u001b[0;34m\u001b[0m\u001b[0m\n",
      "\u001b[0;32m~/.local/lib/python3.5/site-packages/tikz_magic/tikz.py\u001b[0m in \u001b[0;36mtikz\u001b[0;34m(self, line, cell)\u001b[0m\n\u001b[1;32m     75\u001b[0m \u001b[0;34m\u001b[0m\u001b[0m\n\u001b[1;32m     76\u001b[0m         \u001b[0;31m# compile and convert, returning Image data\u001b[0m\u001b[0;34m\u001b[0m\u001b[0;34m\u001b[0m\u001b[0m\n\u001b[0;32m---> 77\u001b[0;31m         \u001b[0;32mreturn\u001b[0m \u001b[0mlatex2image\u001b[0m\u001b[0;34m(\u001b[0m\u001b[0mlatex\u001b[0m\u001b[0;34m,\u001b[0m \u001b[0mint\u001b[0m\u001b[0;34m(\u001b[0m\u001b[0margs\u001b[0m\u001b[0;34m.\u001b[0m\u001b[0mscale\u001b[0m\u001b[0;34m*\u001b[0m\u001b[0;36m300\u001b[0m\u001b[0;34m)\u001b[0m\u001b[0;34m,\u001b[0m \u001b[0margs\u001b[0m\u001b[0;34m.\u001b[0m\u001b[0mexport_file\u001b[0m\u001b[0;34m)\u001b[0m\u001b[0;34m\u001b[0m\u001b[0m\n\u001b[0m\u001b[1;32m     78\u001b[0m \u001b[0;34m\u001b[0m\u001b[0m\n\u001b[1;32m     79\u001b[0m \u001b[0;32mdef\u001b[0m \u001b[0mlatex2image\u001b[0m\u001b[0;34m(\u001b[0m\u001b[0mlatex\u001b[0m\u001b[0;34m,\u001b[0m \u001b[0mdensity\u001b[0m\u001b[0;34m,\u001b[0m \u001b[0mexport_file\u001b[0m\u001b[0;34m=\u001b[0m\u001b[0;32mNone\u001b[0m\u001b[0;34m)\u001b[0m\u001b[0;34m:\u001b[0m\u001b[0;34m\u001b[0m\u001b[0m\n",
      "\u001b[0;32m~/.local/lib/python3.5/site-packages/tikz_magic/tikz.py\u001b[0m in \u001b[0;36mlatex2image\u001b[0;34m(latex, density, export_file)\u001b[0m\n\u001b[1;32m     91\u001b[0m \u001b[0;34m\u001b[0m\u001b[0m\n\u001b[1;32m     92\u001b[0m         \u001b[0;32mif\u001b[0m \u001b[0;32mnot\u001b[0m \u001b[0misfile\u001b[0m\u001b[0;34m(\u001b[0m\u001b[0mtemp_pdf\u001b[0m\u001b[0;34m)\u001b[0m\u001b[0;34m:\u001b[0m\u001b[0;34m\u001b[0m\u001b[0m\n\u001b[0;32m---> 93\u001b[0;31m             \u001b[0;32mraise\u001b[0m \u001b[0mException\u001b[0m\u001b[0;34m(\u001b[0m\u001b[0;34m'pdflatex did not produce a PDF file.'\u001b[0m\u001b[0;34m)\u001b[0m\u001b[0;34m\u001b[0m\u001b[0m\n\u001b[0m\u001b[1;32m     94\u001b[0m \u001b[0;34m\u001b[0m\u001b[0m\n\u001b[1;32m     95\u001b[0m         \u001b[0;32mif\u001b[0m \u001b[0mexport_file\u001b[0m\u001b[0;34m:\u001b[0m\u001b[0;34m\u001b[0m\u001b[0m\n",
      "\u001b[0;31mException\u001b[0m: pdflatex did not produce a PDF file."
     ]
    }
   ],
   "source": [
    "%%tikz -p circuitikz -s 0.4\n",
    "%%% Coordinate definitions: %%%\n",
    "% Position of the bridge (top upper corner)\n",
    "\\def\\x{6}\n",
    "\\def\\y{6}\n",
    "% Size of the bridge\n",
    "\\def\\dx{3}\n",
    "\\def\\dy{3}\n",
    "\n",
    "\n",
    "  \\draw (0,0) -- (0,1) to[R, l=$R_2$] (-2,3) to[R, l=$R_1$] (0,5) -- (0,6);\n",
    "  \\draw  (0,1) to[R, l=$R_4$] (2,3) to[R, l=$R_3$] (0,5);\n",
    "\\draw(-2,3)to[ammeter] (2,3);\n",
    "\n",
    "\\begin{scope}[xshift=7cm]\n",
    "  \\draw (0,0) -- (0,1)--(-2,1) to[R, l=$R_2$] (-2,3) to[R, l=$R_1$] (-2,5) -- (0,5)--(0,6);\n",
    "  \\draw  (0,1)--(2,1) to[R, l=$R_4$] (2,3) to[R, l=$R_3$] (2,5)--(0,5);\n",
    "\\draw(-2,3)to[ammeter] (2,3);\n",
    "\\node(-2,3){as}\n",
    "\\end{scope}"
   ]
  },
  {
   "cell_type": "markdown",
   "metadata": {},
   "source": [
    "The bridge is said to be balanced (that is, no current flows through the bridge and the needle of the galvanometer shows no deflection) if the voltages $V_{left}$ and $V_{right}$ are equal."
   ]
  },
  {
   "cell_type": "code",
   "execution_count": 46,
   "metadata": {},
   "outputs": [],
   "source": [
    "from sympy import solve, sympify"
   ]
  },
  {
   "cell_type": "code",
   "execution_count": 106,
   "metadata": {},
   "outputs": [
    {
     "data": {
      "image/png": "[encoded data removed]"
     },
     "metadata": {
      "image/png": {
       "height": 400,
       "width": 400
      }
     },
     "output_type": "display_data"
    }
   ],
   "source": [
    "sch='''\n",
    "W 1 0; down\n",
    "W 1 2;  left\n",
    "R2 2 3 1000; up\n",
    "R1 3 4 1000; up\n",
    "W 4 5; right\n",
    "W 1 6;  right\n",
    "R4 6 7 1000; up\n",
    "R3 7 8 1000; up\n",
    "W 8 5; left\n",
    "RA 7 3 1e-6; left\n",
    "V 9 5 dc 10; down\n",
    "W 9 10; right, size=3\n",
    "R 10 11 1e6; down\n",
    "W 11, 0; left\n",
    "'''\n",
    "#V 9 5 dc 10; down\n",
    "#W 5 9; up\n",
    "\n",
    "cctw2 = Circuit()\n",
    "cctw2.add(sch)\n",
    "cctw2.draw(label_nodes=True)"
   ]
  },
  {
   "cell_type": "code",
   "execution_count": 107,
   "metadata": {},
   "outputs": [
    {
     "data": {
      "text/latex": [
       "$0$"
      ],
      "text/plain": [
       "0"
      ]
     },
     "execution_count": 107,
     "metadata": {},
     "output_type": "execute_result"
    }
   ],
   "source": [
    "from numpy import sign\n",
    "cctw2.RA.v.n(2)"
   ]
  },
  {
   "cell_type": "code",
   "execution_count": 108,
   "metadata": {},
   "outputs": [
    {
     "data": {
      "text/latex": [
       "$0$"
      ],
      "text/plain": [
       "0"
      ]
     },
     "execution_count": 108,
     "metadata": {},
     "output_type": "execute_result"
    }
   ],
   "source": [
    "cctw2.RA.i.n(2)"
   ]
  },
  {
   "cell_type": "code",
   "execution_count": null,
   "metadata": {},
   "outputs": [],
   "source": []
  },
  {
   "cell_type": "markdown",
   "metadata": {},
   "source": [
    "It can be shown that the bridge is balanced if, and only if, $\\frac{R_1}{R_2}=\\frac{R_3}{R_4}$, as follows.\n",
    "\n",
    "When $V_{left}-V_{right}=0$ then $V_{left}=V_{right}$. Then the Wheatstone bridge can be viewed as two voltage dividers, $R_1$ and $R_2$ on the left and $R_3$ and $R_4$ on the right. Applying the voltage divider equation gives $V_{left}=\\frac{R_2}{(R_1+R_2)}V_S$ and $V_{right}=\\frac{R_4}{(R_3+R_4)}V_S$."
   ]
  },
  {
   "cell_type": "code",
   "execution_count": null,
   "metadata": {},
   "outputs": [],
   "source": [
    "### FRAGMENTS"
   ]
  },
  {
   "cell_type": "code",
   "execution_count": 54,
   "metadata": {},
   "outputs": [
    {
     "data": {
      "image/png": "[encoded data removed]"
     },
     "metadata": {
      "image/png": {
       "height": 200,
       "width": 400
      }
     },
     "output_type": "display_data"
    },
    {
     "data": {
      "text/latex": [
       "The output voltage across $R_2$ is 12V."
      ],
      "text/plain": [
       "<IPython.core.display.Latex object>"
      ]
     },
     "metadata": {},
     "output_type": "display_data"
    }
   ],
   "source": [
    "\n",
    "#Test your answer\n",
    "cctx=cct1(V=24,R2=100,R1=100)\n"
   ]
  },
  {
   "cell_type": "code",
   "execution_count": 63,
   "metadata": {},
   "outputs": [
    {
     "data": {
      "image/png": "[encoded data removed]"
     },
     "metadata": {
      "image/png": {
       "height": 100,
       "width": 200
      }
     },
     "output_type": "display_data"
    }
   ],
   "source": [
    "from lcapy import Circuit, j, omega\n",
    "\n",
    "cct = Circuit()\n",
    "cct.add(\"\"\"\n",
    "Vi 1 0_1 step 20; down\n",
    "R1 1 2; right, size=1.5\n",
    "C1 2 0; down\n",
    "W 0_1 0; right\n",
    "W 0 0_2; right, size=0.5\n",
    "P1 2_2 0_2; down\n",
    "W 2 2_2;right, size=0.5\"\"\")\n",
    "\n",
    "cct.draw()"
   ]
  },
  {
   "cell_type": "code",
   "execution_count": 64,
   "metadata": {},
   "outputs": [
    {
     "data": {
      "text/latex": [
       "$\\left(20 - 20 e^{- \\frac{t}{C_{1} R_{1}}}\\right) u\\left(t\\right)$"
      ],
      "text/plain": [
       "⎛          -t  ⎞             \n",
       "⎜         ─────⎟             \n",
       "⎜         C₁⋅R₁⎟             \n",
       "⎝20 - 20⋅ℯ     ⎠⋅Heaviside(t)"
      ]
     },
     "execution_count": 64,
     "metadata": {},
     "output_type": "execute_result"
    }
   ],
   "source": [
    "cct.C1.v"
   ]
  },
  {
   "cell_type": "code",
   "execution_count": 38,
   "metadata": {},
   "outputs": [
    {
     "data": {
      "text/latex": [
       "$12$"
      ],
      "text/plain": [
       "12"
      ]
     },
     "execution_count": 38,
     "metadata": {},
     "output_type": "execute_result"
    }
   ],
   "source": [
    "cctx.R2.v"
   ]
  },
  {
   "cell_type": "code",
   "execution_count": 65,
   "metadata": {},
   "outputs": [
    {
     "data": {
      "text/latex": [
       "$\\frac{20 u\\left(t\\right)}{R_{1}} e^{- \\frac{t}{C_{1} R_{1}}}$"
      ],
      "text/plain": [
       "     -t               \n",
       "    ─────             \n",
       "    C₁⋅R₁             \n",
       "20⋅ℯ     ⋅Heaviside(t)\n",
       "──────────────────────\n",
       "          R₁          "
      ]
     },
     "execution_count": 65,
     "metadata": {},
     "output_type": "execute_result"
    }
   ],
   "source": [
    "cct.C1.i"
   ]
  },
  {
   "cell_type": "code",
   "execution_count": 66,
   "metadata": {},
   "outputs": [
    {
     "data": {
      "text/latex": [
       "$\\frac{20}{R_{1} \\left(s + \\frac{1}{C_{1} R_{1}}\\right)}$"
      ],
      "text/plain": [
       "      20      \n",
       "──────────────\n",
       "   ⎛      1  ⎞\n",
       "R₁⋅⎜s + ─────⎟\n",
       "   ⎝    C₁⋅R₁⎠"
      ]
     },
     "execution_count": 66,
     "metadata": {},
     "output_type": "execute_result"
    }
   ],
   "source": [
    "cct.R1.I.s"
   ]
  },
  {
   "cell_type": "code",
   "execution_count": 67,
   "metadata": {},
   "outputs": [
    {
     "data": {
      "text/latex": [
       "$\\frac{20 s^{2}}{s^{3} + \\frac{s^{2}}{C_{1} R_{1}}}$"
      ],
      "text/plain": [
       "      2   \n",
       "  20⋅s    \n",
       "──────────\n",
       "        2 \n",
       " 3     s  \n",
       "s  + ─────\n",
       "     C₁⋅R₁"
      ]
     },
     "execution_count": 67,
     "metadata": {},
     "output_type": "execute_result"
    }
   ],
   "source": [
    "#s-domain voltage across R1\n",
    "cct.R1.V.s"
   ]
  },
  {
   "cell_type": "code",
   "execution_count": 68,
   "metadata": {},
   "outputs": [
    {
     "data": {
      "text/latex": [
       "$20 e^{- \\frac{t}{C_{1} R_{1}}} u\\left(t\\right)$"
      ],
      "text/plain": [
       "     -t               \n",
       "    ─────             \n",
       "    C₁⋅R₁             \n",
       "20⋅ℯ     ⋅Heaviside(t)"
      ]
     },
     "execution_count": 68,
     "metadata": {},
     "output_type": "execute_result"
    }
   ],
   "source": [
    "#time domain voltage across R1\n",
    "cct.R1.v"
   ]
  },
  {
   "cell_type": "code",
   "execution_count": 69,
   "metadata": {},
   "outputs": [
    {
     "data": {
      "image/png": "[encoded data removed]"
     },
     "metadata": {
      "image/png": {
       "height": 100,
       "width": 200
      }
     },
     "output_type": "display_data"
    }
   ],
   "source": [
    "cct.s_model().draw()"
   ]
  },
  {
   "cell_type": "code",
   "execution_count": 70,
   "metadata": {},
   "outputs": [
    {
     "data": {
      "text/latex": [
       "$\\frac{1}{C_{1} \\left(s + \\frac{1}{C_{1} R_{1}}\\right)}$"
      ],
      "text/plain": [
       "      1       \n",
       "──────────────\n",
       "   ⎛      1  ⎞\n",
       "C₁⋅⎜s + ─────⎟\n",
       "   ⎝    C₁⋅R₁⎠"
      ]
     },
     "execution_count": 70,
     "metadata": {},
     "output_type": "execute_result"
    }
   ],
   "source": [
    "#impedance between nodes 2 and 0\n",
    "cct.impedance(2, 0)"
   ]
  },
  {
   "cell_type": "code",
   "execution_count": 71,
   "metadata": {},
   "outputs": [
    {
     "data": {
      "text/latex": [
       "$\\frac{20}{C_{1} R_{1} \\left(s^{2} + \\frac{s}{C_{1} R_{1}}\\right)}$"
      ],
      "text/plain": [
       "        20        \n",
       "──────────────────\n",
       "      ⎛ 2     s  ⎞\n",
       "C₁⋅R₁⋅⎜s  + ─────⎟\n",
       "      ⎝     C₁⋅R₁⎠"
      ]
     },
     "execution_count": 71,
     "metadata": {},
     "output_type": "execute_result"
    }
   ],
   "source": [
    "#open circuit vlotage between nodes 2 and 0\n",
    "cct.Voc(2, 0).s"
   ]
  },
  {
   "cell_type": "code",
   "execution_count": 72,
   "metadata": {},
   "outputs": [
    {
     "data": {
      "text/latex": [
       "$\\mathrm{V}(\\frac{20}{C_{1} R_{1} \\left(s^{2} + \\frac{s}{C_{1} R_{1}}\\right)}) + \\mathrm{Z}(\\frac{1}{C_{1} \\left(s + \\frac{1}{C_{1} R_{1}}\\right)})$"
      ],
      "text/plain": [
       "V(        20        \n",
       "──────────────────\n",
       "      ⎛ 2     s  ⎞\n",
       "C₁⋅R₁⋅⎜s  + ─────⎟\n",
       "      ⎝     C₁⋅R₁⎠) + Z(      1       \n",
       "──────────────\n",
       "   ⎛      1  ⎞\n",
       "C₁⋅⎜s + ─────⎟\n",
       "   ⎝    C₁⋅R₁⎠)"
      ]
     },
     "execution_count": 72,
     "metadata": {},
     "output_type": "execute_result"
    }
   ],
   "source": [
    "#equiv cct between nodes 2 and 0\n",
    "cct.thevenin(2, 0)"
   ]
  },
  {
   "cell_type": "code",
   "execution_count": 73,
   "metadata": {},
   "outputs": [
    {
     "data": {
      "text/latex": [
       "$\\frac{1}{C_{1} \\left(s + \\frac{1}{C_{1} R_{1}}\\right)}$"
      ],
      "text/plain": [
       "      1       \n",
       "──────────────\n",
       "   ⎛      1  ⎞\n",
       "C₁⋅⎜s + ─────⎟\n",
       "   ⎝    C₁⋅R₁⎠"
      ]
     },
     "execution_count": 73,
     "metadata": {},
     "output_type": "execute_result"
    }
   ],
   "source": [
    "cct.thevenin(2, 0).Z"
   ]
  },
  {
   "cell_type": "code",
   "execution_count": 74,
   "metadata": {},
   "outputs": [
    {
     "data": {
      "text/plain": [
       "'\\\\frac{1}{C_{1} \\\\left(s + \\\\frac{1}{C_{1} R_{1}}\\\\right)}'"
      ]
     },
     "execution_count": 74,
     "metadata": {},
     "output_type": "execute_result"
    }
   ],
   "source": [
    "cct.thevenin(2, 0).Z.latex()"
   ]
  },
  {
   "cell_type": "code",
   "execution_count": 75,
   "metadata": {},
   "outputs": [
    {
     "data": {
      "text/latex": [
       "$\\frac{20}{C_{1} R_{1} \\left(s^{2} + \\frac{s}{C_{1} R_{1}}\\right)}$"
      ],
      "text/plain": [
       "        20        \n",
       "──────────────────\n",
       "      ⎛ 2     s  ⎞\n",
       "C₁⋅R₁⋅⎜s  + ─────⎟\n",
       "      ⎝     C₁⋅R₁⎠"
      ]
     },
     "execution_count": 75,
     "metadata": {},
     "output_type": "execute_result"
    }
   ],
   "source": [
    "cct.thevenin(2, 0).Voc.s"
   ]
  },
  {
   "cell_type": "code",
   "execution_count": 76,
   "metadata": {},
   "outputs": [
    {
     "data": {
      "text/latex": [
       "$\\mathrm{I}(\\frac{20}{R_{1} s}) | \\mathrm{Y}(C_{1} \\left(s + \\frac{1}{C_{1} R_{1}}\\right))$"
      ],
      "text/plain": [
       "I( 20 \n",
       "────\n",
       "R₁⋅s) | Y(   ⎛      1  ⎞\n",
       "C₁⋅⎜s + ─────⎟\n",
       "   ⎝    C₁⋅R₁⎠)"
      ]
     },
     "execution_count": 76,
     "metadata": {},
     "output_type": "execute_result"
    }
   ],
   "source": [
    "cct.norton(2,0)"
   ]
  },
  {
   "cell_type": "code",
   "execution_count": 77,
   "metadata": {},
   "outputs": [
    {
     "data": {
      "text/latex": [
       "$\\frac{1}{C_{1} \\left(s + \\frac{1}{C_{1} R_{1}}\\right)}$"
      ],
      "text/plain": [
       "      1       \n",
       "──────────────\n",
       "   ⎛      1  ⎞\n",
       "C₁⋅⎜s + ─────⎟\n",
       "   ⎝    C₁⋅R₁⎠"
      ]
     },
     "execution_count": 77,
     "metadata": {},
     "output_type": "execute_result"
    }
   ],
   "source": [
    "cct.norton(2,0).Z"
   ]
  },
  {
   "cell_type": "code",
   "execution_count": 78,
   "metadata": {},
   "outputs": [
    {
     "data": {
      "text/latex": [
       "$C_{1} \\left(s + \\frac{1}{C_{1} R_{1}}\\right)$"
      ],
      "text/plain": [
       "   ⎛      1  ⎞\n",
       "C₁⋅⎜s + ─────⎟\n",
       "   ⎝    C₁⋅R₁⎠"
      ]
     },
     "execution_count": 78,
     "metadata": {},
     "output_type": "execute_result"
    }
   ],
   "source": [
    "#Y is reciprocal of Z\n",
    "cct.norton(2,0).Y"
   ]
  },
  {
   "cell_type": "code",
   "execution_count": 79,
   "metadata": {
    "scrolled": false
   },
   "outputs": [
    {
     "data": {
      "text/latex": [
       "$\\frac{20}{R_{1} s}$"
      ],
      "text/plain": [
       " 20 \n",
       "────\n",
       "R₁⋅s"
      ]
     },
     "execution_count": 79,
     "metadata": {},
     "output_type": "execute_result"
    }
   ],
   "source": [
    "cct.norton(2,0).Isc.s"
   ]
  },
  {
   "cell_type": "code",
   "execution_count": 94,
   "metadata": {},
   "outputs": [
    {
     "data": {
      "image/png": "[encoded data removed]"
     },
     "metadata": {
      "image/png": {
       "height": 100,
       "width": 200
      }
     },
     "output_type": "display_data"
    }
   ],
   "source": [
    "#Add component values \n",
    "from lcapy import Circuit\n",
    "cct = Circuit()\n",
    "cct.add(\"\"\"\n",
    "Vi 1 0_1 ; down\n",
    "R1 1 2 4.7e3; right, size=1.5\n",
    "C1 2 0 47e-9; down\n",
    "W 0_1 0; right\n",
    "W 0 0_2; right, size=0.5\n",
    "P1 2_2 0_2; down\n",
    "W 2 2_2;right, size=0.5\"\"\")\n",
    "\n",
    "cct.draw()"
   ]
  },
  {
   "cell_type": "code",
   "execution_count": 95,
   "metadata": {},
   "outputs": [
    {
     "data": {
      "text/latex": [
       "$0$"
      ],
      "text/plain": [
       "0"
      ]
     },
     "execution_count": 95,
     "metadata": {},
     "output_type": "execute_result"
    }
   ],
   "source": [
    "cct.Voc(2,0).s"
   ]
  },
  {
   "cell_type": "code",
   "execution_count": null,
   "metadata": {},
   "outputs": [],
   "source": [
    "%matplotib inline"
   ]
  },
  {
   "cell_type": "code",
   "execution_count": 28,
   "metadata": {},
   "outputs": [
    {
     "data": {
      "text/latex": [
       "$10$"
      ],
      "text/plain": [
       "10"
      ]
     },
     "execution_count": 28,
     "metadata": {},
     "output_type": "execute_result"
    }
   ],
   "source": [
    "from lcapy import Vdc, R\n",
    "c = Vdc(10)+R(100)\n",
    "\n",
    "c.Voc.dc"
   ]
  },
  {
   "cell_type": "code",
   "execution_count": 25,
   "metadata": {},
   "outputs": [
    {
     "data": {
      "text/latex": [
       "$\\frac{1}{10}$"
      ],
      "text/plain": [
       "1/10"
      ]
     },
     "execution_count": 25,
     "metadata": {},
     "output_type": "execute_result"
    }
   ],
   "source": [
    "c.Isc.dc"
   ]
  },
  {
   "cell_type": "code",
   "execution_count": 66,
   "metadata": {},
   "outputs": [
    {
     "data": {
      "image/png": "[encoded data removed]"
     },
     "metadata": {
      "image/png": {
       "width": 400
      }
     },
     "output_type": "display_data"
    },
    {
     "data": {
      "image/png": "[encoded data removed]",
      "text/plain": [
       "<matplotlib.figure.Figure at 0x7f7537cbc668>"
      ]
     },
     "metadata": {},
     "output_type": "display_data"
    }
   ],
   "source": [
    "from numpy import logspace, linspace\n",
    "from lcapy import  Vac, Vstep, R, C, L, sin, t, s , omega\n",
    "\n",
    "n = Vstep(20) + R(4.7e3) + C(4.7e-9)\n",
    "n.draw()\n",
    "\n",
    "vf =logspace(-1, 3, 4000)\n",
    "n.Isc.frequency_response().plot(vf, log_scale=True);\n"
   ]
  },
  {
   "cell_type": "code",
   "execution_count": 62,
   "metadata": {},
   "outputs": [
    {
     "data": {
      "text/plain": [
       "lcapy.oneport.Ser"
      ]
     },
     "execution_count": 62,
     "metadata": {},
     "output_type": "execute_result"
    }
   ],
   "source": [
    "type(n)"
   ]
  },
  {
   "cell_type": "code",
   "execution_count": 85,
   "metadata": {},
   "outputs": [
    {
     "data": {
      "image/png": "[encoded data removed]",
      "text/plain": [
       "<matplotlib.figure.Figure at 0x7f75385f2470>"
      ]
     },
     "metadata": {},
     "output_type": "display_data"
    },
    {
     "data": {
      "image/png": "[encoded data removed]",
      "text/plain": [
       "<matplotlib.figure.Figure at 0x7f7537cdfb00>"
      ]
     },
     "metadata": {},
     "output_type": "display_data"
    }
   ],
   "source": [
    "#Look like we can pass stuff in to the expression?\n",
    "#so for a first order low pass filter eg https://web.stanford.edu/~boyd/ee102/conv_demo.pdf\n",
    "X=(1/(1+s/500))(j * 2 * pi * f)\n",
    "fv = logspace(-2, 4, 400)\n",
    "X.plot(fv, log_scale=True)\n",
    "X.phase_degrees.plot(fv,log_scale=True);"
   ]
  },
  {
   "cell_type": "code",
   "execution_count": 88,
   "metadata": {},
   "outputs": [
    {
     "data": {
      "text/latex": [
       "$\\frac{200000000}{2209 s^{2} + 10000000 s}$"
      ],
      "text/plain": [
       "      200000000       \n",
       "──────────────────────\n",
       "     ⎛ 2   10000000⋅s⎞\n",
       "2209⋅⎜s  + ──────────⎟\n",
       "     ⎝        2209   ⎠"
      ]
     },
     "execution_count": 88,
     "metadata": {},
     "output_type": "execute_result"
    }
   ],
   "source": [
    "cct.Voc(2,0).s"
   ]
  },
  {
   "cell_type": "code",
   "execution_count": 87,
   "metadata": {},
   "outputs": [
    {
     "data": {
      "image/png": "[encoded data removed]",
      "text/plain": [
       "<matplotlib.figure.Figure at 0x7f7537d31f60>"
      ]
     },
     "metadata": {},
     "output_type": "display_data"
    },
    {
     "data": {
      "image/png": "[encoded data removed]",
      "text/plain": [
       "<matplotlib.figure.Figure at 0x7f7537d0d6d8>"
      ]
     },
     "metadata": {},
     "output_type": "display_data"
    }
   ],
   "source": [
    "X=cct.Voc(2,0).s(j * 2 * pi * f)\n",
    "fv = logspace(-2, 4, 400)\n",
    "X.plot(fv, log_scale=True)\n",
    "X.phase_degrees.plot(fv,log_scale=True);"
   ]
  },
  {
   "cell_type": "code",
   "execution_count": 76,
   "metadata": {},
   "outputs": [
    {
     "data": {
      "image/png": "[encoded data removed]",
      "text/plain": [
       "<matplotlib.figure.Figure at 0x7f75385f2e10>"
      ]
     },
     "metadata": {},
     "output_type": "display_data"
    },
    {
     "data": {
      "image/png": "[encoded data removed]",
      "text/plain": [
       "<matplotlib.figure.Figure at 0x7f75385429e8>"
      ]
     },
     "metadata": {},
     "output_type": "display_data"
    }
   ],
   "source": [
    "from numpy import logspace\n",
    "from lcapy import pi, f, Hs, H, s, j\n",
    "\n",
    "#HOw might we relate this to circuit description?\n",
    "H = Hs((s - 2) * (s + 3) / (s * (s - 2 * j) * (s + 2 * j)))\n",
    "\n",
    "A = H(j * 2 * pi * f)\n",
    "\n",
    "fv = logspace(-3, 6, 400)\n",
    "A.plot(fv, log_scale=True)\n",
    "A.phase_degrees.plot(fv,log_scale=True);"
   ]
  },
  {
   "cell_type": "code",
   "execution_count": 77,
   "metadata": {},
   "outputs": [
    {
     "data": {
      "text/latex": [
       "$- \\frac{j \\left(2 j \\pi f - 2\\right) \\left(2 j \\pi f + 3\\right)}{2 \\pi f \\left(2 j \\pi f - 2 j\\right) \\left(2 j \\pi f + 2 j\\right)}$"
      ],
      "text/plain": [
       "   -j⋅(2⋅j⋅π⋅f - 2)⋅(2⋅j⋅π⋅f + 3)    \n",
       "─────────────────────────────────────\n",
       "2⋅π⋅f⋅(2⋅j⋅π⋅f - 2⋅j)⋅(2⋅j⋅π⋅f + 2⋅j)"
      ]
     },
     "execution_count": 77,
     "metadata": {},
     "output_type": "execute_result"
    }
   ],
   "source": [
    "A"
   ]
  },
  {
   "cell_type": "code",
   "execution_count": 46,
   "metadata": {},
   "outputs": [
    {
     "data": {
      "text/latex": [
       "$\\frac{\\left(s - 2\\right) \\left(s + 3\\right)}{s \\left(s - 2 j\\right) \\left(s + 2 j\\right)}$"
      ],
      "text/plain": [
       "   (s - 2)⋅(s + 3)   \n",
       "─────────────────────\n",
       "s⋅(s - 2⋅j)⋅(s + 2⋅j)"
      ]
     },
     "execution_count": 46,
     "metadata": {},
     "output_type": "execute_result"
    }
   ],
   "source": [
    "H"
   ]
  },
  {
   "cell_type": "code",
   "execution_count": 2,
   "metadata": {},
   "outputs": [
    {
     "data": {
      "text/latex": [
       "$\\frac{C_{1} R_{1} s}{C_{1} R_{1} s + 1}$"
      ],
      "text/plain": [
       "  C₁⋅R₁⋅s  \n",
       "───────────\n",
       "C₁⋅R₁⋅s + 1"
      ]
     },
     "execution_count": 2,
     "metadata": {},
     "output_type": "execute_result"
    }
   ],
   "source": [
    "H = (cct.R1.V('s') / cct.Vi.V('s')).simplify()\n",
    "H"
   ]
  },
  {
   "cell_type": "code",
   "execution_count": null,
   "metadata": {},
   "outputs": [],
   "source": [
    "##fragments"
   ]
  },
  {
   "cell_type": "code",
   "execution_count": null,
   "metadata": {},
   "outputs": [],
   "source": [
    "#schemdraw https://cdelker.bitbucket.io/SchemDraw/SchemDraw.html"
   ]
  },
  {
   "cell_type": "code",
   "execution_count": null,
   "metadata": {},
   "outputs": [],
   "source": [
    "#online examples - tangentially relevant as examples of what can be done elsewhere\n",
    "#- https://www.circuitlab.com/\n",
    "#- https://github.com/willymcallister/circuit-sandbox"
   ]
  },
  {
   "cell_type": "code",
   "execution_count": null,
   "metadata": {},
   "outputs": [],
   "source": []
  }
 ],
 "metadata": {
  "kernelspec": {
   "display_name": "Python 3",
   "language": "python",
   "name": "python3"
  },
  "language_info": {
   "codemirror_mode": {
    "name": "ipython",
    "version": 3
   },
   "file_extension": ".py",
   "mimetype": "text/x-python",
   "name": "python",
   "nbconvert_exporter": "python",
   "pygments_lexer": "ipython3",
   "version": "3.5.4"
  }
 },
 "nbformat": 4,
 "nbformat_minor": 2
}
