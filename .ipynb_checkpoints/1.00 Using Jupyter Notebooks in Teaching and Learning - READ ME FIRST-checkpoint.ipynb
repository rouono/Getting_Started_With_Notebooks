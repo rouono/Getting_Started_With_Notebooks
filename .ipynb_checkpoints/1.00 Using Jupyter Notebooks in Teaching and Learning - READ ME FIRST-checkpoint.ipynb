{
 "cells": [
  {
   "cell_type": "markdown",
   "metadata": {},
   "source": [
    "# Using Jupyter Notebooks in Teaching and Learning\n",
    "\n",
    "*Welcome to the world of Jupyter notebooks.*\n",
    "\n",
    "Jupyter notebooks provide a literate programming, browser based interface and interactive development environment for a wide range of computer languages. However, they can also be used to support the reproducible production of a wide range of interactive materials and rich web based content with little - or no - programming language knowledge required.\n",
    "\n",
    "One of the main aims of these notebooks is to show how academic authors can use the notebooks to generate their own interactive activities, as well as create their own media assets, based on direct observation, and simple editing, of the provided examples.\n",
    "\n",
    "In later notebooks, you will see how it is possible to \"write\" a text based description of a wide range of diagram types that can be automatically rendered to a finished graphical object, appropriate either for print or web delivery. Scientific charts can also be scripted to visualise a wide range of data sets; many of these chart objects are capable of being styled without affecting the \"content\" of the chart, in much the same way that a web page can be styled in terms of font style and size, colouring, emphasis, and layout. The same chart objects can also be rendered as high quality charts for print display, or interactive charts more appopraite for the web.\n",
    "\n",
    "If it's embedded interactive - or static - maps you want, or embedded audio players, they can be added quite straightforwardly too.\n",
    "\n",
    "The notebooks embrace one of the original ideas of the web in that running notebooks are \"read / writable\". Not only do they render as HTML web pages, but you can also edit them directly, even more directly than many wiki pages.\n",
    "\n",
    "The live editing and rendering of pages means that authors can quickly update pages and see exactly how that affects the finished document.\n",
    "\n",
    "The interactive support means that notebooks allow course team members to directly author interactive activities that can be rendered in the notebooks and then used by students, as well as allowing students to create their own interactives, or write, execute and observe the output of their own code.\n",
    "\n",
    "If you are not a programmer, or don't consider yourself to be a programmer, __DON'T PANIC__. The notebooks demonstrate how you can make minor changes to the provided code in order to make meaningful changes to created objects, as well hinting at some of the more elaborate interactives that a more experienced programmer is likely to be able to produce quite rapidly."
   ]
  },
  {
   "cell_type": "markdown",
   "metadata": {},
   "source": [
    "## Markdown\n",
    "Markdown cells contain *markdown*, which is a simplified markup language. Double click this cell in a running notebook to enter the cell edit mode to see the raw markdown. You may notice it reads sensibly as \"annotated\" text - *emphasised* elements, __strongly emphasised__ elements, as well as when rendered as HTML.\n",
    "\n",
    "(We will show you later how you can enable a rich, WYSIWYG editor as a notebook extension; but at the end of the day, writing simple markdown to create the majority of simple document stucturing and styling effects you are most likely to use is not really that hard to pick up at all!)\n",
    "\n",
    "### Nesting\n",
    "Markdown also lets you create lists:\n",
    "\n",
    "- item 1\n",
    "- item 2\n",
    "  - subitem 1\n",
    "\n",
    "\n",
    "(You might also notice how easy it is to create separate levels of heading too...)\n",
    "\n",
    "To get out of markdown cell edit mode, *run* the cell using the `Run` button in the notebook toolbar, or use the keyboard shortcut `SHIFT-ENTER`."
   ]
  },
  {
   "cell_type": "markdown",
   "metadata": {},
   "source": [
    "As well as markdown cells, Jupyter notebooks also contain code cells. By default, when you create a new cell (click the `+` button in the toolbar), it is created as a code cell. To change the type of a cell, click on it once to highlight it and then set the cell type from the toolbar menu. (There are keyboard shortcuts to do this too - `ESC-m` converts a code cell to a markdown cell.)\n",
    "\n",
    "See if you can create a new cell, convert it to a markdown cell, and create some of your own text, starting with a heading... If you make a mistake, `CTRL-z` will undo the change."
   ]
  },
  {
   "cell_type": "markdown",
   "metadata": {},
   "source": [
    "## Running Code in Jupyter Notebooks\n",
    "\n",
    "As well as presenting HTML styled text, Jupyter notebooks also allow to you read, write *and execute* \"live\" programming code; any text or media outputs created by the code can also be embedded directly in the notebook and displayed dynamically as soon as they are created.\n",
    "\n",
    "This notebook - and the other notebooks provided in this library - are primarily designed to be used with a Python 3 environment (specifically, the Azure notebooks Python 3.5 enviornment), although other languages are available, including the `R` statistical programming language. \n",
    "\n",
    "A separate Python (or R) environment is created by a Jupyter notebook server to service each running Jupyter notebook. The server manages the environment and communication between the environment and the notebook interface.\n",
    "\n",
    "Your Python code *does not* execute in the browser, it runs in the Python environment managed by the notebook server. If you check the URL you are viewing this notebook from, the domain part of the URL broadly identifies the location the server is running from.\n",
    "\n",
    "As you can probably tell, Jupyter notebooks can include text, like this.\n",
    "\n",
    "If you click once with this block of text, you should notice that the *cell* containing this text becomes selected.\n",
    "\n",
    "If you *double click* the cell, which happens to be a *markdown* cell, as identified in the notebook toolbar at top of the notebook, becomes editable.\n",
    "\n",
    "Try and type something...\n",
    "\n",
    "To return the rendered view of the cell, click the `Run` button in the toolbar, or use the keyboard shortcut: `SHIFT-ENTER`."
   ]
  },
  {
   "cell_type": "markdown",
   "metadata": {},
   "source": [
    "## Code Cells\n",
    "\n",
    "So what are code cells? You may notice that the cell directly below this one looks different. That's because it's a *code* cell. Code cells contain executable code, Python in the case of these example notebooks.\n",
    "\n",
    "To execute the code, click on the cell to select it and hit the run button (or `SHIFT-ENTER`)."
   ]
  },
  {
   "cell_type": "code",
   "execution_count": null,
   "metadata": {},
   "outputs": [],
   "source": [
    "print('hello world')"
   ]
  },
  {
   "cell_type": "markdown",
   "metadata": {},
   "source": [
    "Click in a code cell to edit it. See if you can change the message in the cell above and then run it to print out your own message.\n",
    "\n",
    "Click on this cell to highlight it and then create a new code cell (the `+` button in the toolbar; you can also delete a cell using the scissors. There is an *Undo Delete Cell* option in the *Edit* menu if you make a mistake).\n",
    "\n",
    "The new cell should be created directly below this one. Click in the code area to raise an edit cursor and see if you can print out another message from that cell."
   ]
  },
  {
   "cell_type": "markdown",
   "metadata": {},
   "source": [
    "## Using Python in a Code Cell\n",
    "\n",
    "You can include one or more lines of any valid python code in a code cell, including comments. When you run the code cell, the code is executed and state is updated in the normal way.\n",
    "\n",
    "Run the following code cell - does it behave as you expect?"
   ]
  },
  {
   "cell_type": "code",
   "execution_count": null,
   "metadata": {},
   "outputs": [],
   "source": [
    "#Create a variable\n",
    "a = 1\n",
    "#Add to it\n",
    "a = a + 1\n",
    "print(a)"
   ]
  },
  {
   "cell_type": "markdown",
   "metadata": {
    "slideshow": {
     "slide_type": "slide"
    }
   },
   "source": [
    "The Python environment behind the notebook is actually an IPython environment. One of the handy features about it is that the value of a variable that is on the last line of the code cell is displayed when you run the cell.\n",
    "\n",
    "*(By now you're hopefully getting the idea that when you get to a code cell whilst reading the notebook, you should run. I'm going to assume that from now and and stop prompting you... except for this one last time: run the code cell below.)*"
   ]
  },
  {
   "cell_type": "code",
   "execution_count": null,
   "metadata": {},
   "outputs": [],
   "source": [
    "a = a + 1\n",
    "a"
   ]
  },
  {
   "cell_type": "markdown",
   "metadata": {},
   "source": [
    "Did that cell behave as you expected?\n",
    "\n",
    "One thing to notice is that the notebook output is preserved and does not update to show the *current state* of a variable.\n",
    "\n",
    "So if you run the code cell below, the output displayed by the code cell above could be misleading..."
   ]
  },
  {
   "cell_type": "code",
   "execution_count": null,
   "metadata": {},
   "outputs": [],
   "source": [
    "a = a + 1\n",
    "a"
   ]
  },
  {
   "cell_type": "markdown",
   "metadata": {},
   "source": [
    "One way to keep track of things is to look at the index number that appears to the left of a code cell (and its output) when you run the cell. The number is incremental and keeps track of the order in which you have run the cells.\n",
    "\n",
    "If you want to run a notebook from scratch, as a blank slate, you can kill the current Python process and create a new one. From the *Kernel* menu, select one of the *Restart* options. This will throw away all state you have set and give you a completely fresh Python environment to work with. The ease with which Python kernels can be restarted from scratch is useful when testing notebooks that embody a process you want to be repeatable, such as piece of scientific analysis. This is one of the major use cases for Jupyter notebooks. "
   ]
  },
  {
   "cell_type": "markdown",
   "metadata": {},
   "source": [
    "## So What Next?\n",
    "\n",
    "That's about all you need to know in order to start using the notebooks yourself...\n",
    "\n",
    "For the most part, the notebook activities just require you to run the provided code cells, perhaps with some minor edits or contributions to encourage yoy to play along. If you do update or make edits to a notebook, it will autosave regularly, but you can also force a save using the *Save and Checkpoint* toolbar button. You can also download a notebook as an *.ipynb* file or export an HTML  rendering of it from the file menu. (The HTML version of the page is not interactive - you will not be able to run the code from it.)\n",
    "\n",
    "You can also create your own Jupyter notebooks and use them for your own explorations. \n",
    "\n",
    "For the computer scientists who prefer a more traditional code development environment, you may be interested in checking out the [JupyterLab environment](https://blog.jupyter.org/jupyterlab-is-ready-for-users-5a6f039b8906).\n",
    "\n",
    "\n",
    "### Using Jupyterlab IDE rather than classic notebooks UI\n",
    "As well as running the library contents using the classic Jupyter notebooks interface, you can also open them in a Jupyterlab environment.\n",
    "\n",
    "Having started a notebook session, simple modify the URL from something like:\n",
    "\n",
    "https://gettingstarted-ousefulinfo.notebooks.azure.com/nb/notebooks/\n",
    "\n",
    "to:\n",
    "\n",
    "https://gettingstarted-ousefulinfo.notebooks.azure.com/nb/lab"
   ]
  }
 ],
 "metadata": {
  "kernelspec": {
   "display_name": "Python 3",
   "language": "python",
   "name": "python3"
  },
  "language_info": {
   "codemirror_mode": {
    "name": "ipython",
    "version": 3
   },
   "file_extension": ".py",
   "mimetype": "text/x-python",
   "name": "python",
   "nbconvert_exporter": "python",
   "pygments_lexer": "ipython3",
   "version": "3.5.4"
  }
 },
 "nbformat": 4,
 "nbformat_minor": 2
}
